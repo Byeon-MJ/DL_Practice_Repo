{
  "nbformat": 4,
  "nbformat_minor": 0,
  "metadata": {
    "colab": {
      "provenance": [],
      "authorship_tag": "ABX9TyPXbJmXwLjOgKq3R9ztdiG3",
      "include_colab_link": true
    },
    "kernelspec": {
      "name": "python3",
      "display_name": "Python 3"
    },
    "language_info": {
      "name": "python"
    },
    "accelerator": "GPU",
    "gpuClass": "standard"
  },
  "cells": [
    {
      "cell_type": "markdown",
      "metadata": {
        "id": "view-in-github",
        "colab_type": "text"
      },
      "source": [
        "<a href=\"https://colab.research.google.com/github/Byeon-MJ/DL_Practice_Repo/blob/main/RNN_Reusters_News_Classification.ipynb\" target=\"_parent\"><img src=\"https://colab.research.google.com/assets/colab-badge.svg\" alt=\"Open In Colab\"/></a>"
      ]
    },
    {
      "cell_type": "code",
      "execution_count": 12,
      "metadata": {
        "id": "rrm8Iozl8R2d"
      },
      "outputs": [],
      "source": [
        "from keras.datasets import reuters\n",
        "from keras.models import Sequential\n",
        "from keras.layers import Dense, LSTM, Embedding\n",
        "from keras.utils import pad_sequences, np_utils\n",
        "\n",
        "import numpy as np\n",
        "import tensorflow as tf\n",
        "import matplotlib.pyplot as plt"
      ]
    },
    {
      "cell_type": "code",
      "source": [
        "# 데이터셋 Load, Split\n",
        "(X_train, Y_train), (X_test, Y_test) = reuters.load_data(num_words=1000, test_split=0.2)"
      ],
      "metadata": {
        "id": "-gZUNQec8qEV"
      },
      "execution_count": 15,
      "outputs": []
    },
    {
      "cell_type": "code",
      "source": [
        "category = np.max(Y_train) + 1\n",
        "print(category, '카테고리')\n",
        "print(len(X_train), '학습용 뉴스 기사')\n",
        "print(len(X_test), '테스트용 뉴스 기사')\n",
        "print(X_train[0])"
      ],
      "metadata": {
        "colab": {
          "base_uri": "https://localhost:8080/"
        },
        "id": "wy_MdU3Z84F2",
        "outputId": "f0193b50-f5c2-49ec-cf57-6a39c278d219"
      },
      "execution_count": 16,
      "outputs": [
        {
          "output_type": "stream",
          "name": "stdout",
          "text": [
            "46 카테고리\n",
            "8982 학습용 뉴스 기사\n",
            "2246 테스트용 뉴스 기사\n",
            "[1, 2, 2, 8, 43, 10, 447, 5, 25, 207, 270, 5, 2, 111, 16, 369, 186, 90, 67, 7, 89, 5, 19, 102, 6, 19, 124, 15, 90, 67, 84, 22, 482, 26, 7, 48, 4, 49, 8, 864, 39, 209, 154, 6, 151, 6, 83, 11, 15, 22, 155, 11, 15, 7, 48, 9, 2, 2, 504, 6, 258, 6, 272, 11, 15, 22, 134, 44, 11, 15, 16, 8, 197, 2, 90, 67, 52, 29, 209, 30, 32, 132, 6, 109, 15, 17, 12]\n"
          ]
        }
      ]
    },
    {
      "cell_type": "code",
      "source": [
        "# 데이터 전처리\n",
        "x_train = pad_sequences(X_train, maxlen=100)\n",
        "x_test = pad_sequences(X_test, maxlen=100)\n",
        "y_train = np_utils.to_categorical(Y_train)\n",
        "y_test = np_utils.to_categorical(Y_test)"
      ],
      "metadata": {
        "id": "xDEMCvwa99Aj"
      },
      "execution_count": 18,
      "outputs": []
    },
    {
      "cell_type": "code",
      "source": [
        "# 모델 생성\n",
        "model = Sequential()\n",
        "model.add(Embedding(1000, 100))\n",
        "model.add(LSTM(100, activation='tanh'))\n",
        "model.add(Dense(46, activation='softmax'))\n",
        "\n",
        "# 모델 컴파일\n",
        "model.compile(loss='categorical_crossentropy', optimizer='adam', metrics=['accuracy'])"
      ],
      "metadata": {
        "id": "qUwfpt4v-NeW"
      },
      "execution_count": 19,
      "outputs": []
    },
    {
      "cell_type": "code",
      "source": [
        "history = model.fit(x_train, y_train, batch_size=100, epochs=20, validation_data=(x_test, y_test))"
      ],
      "metadata": {
        "colab": {
          "base_uri": "https://localhost:8080/"
        },
        "id": "LhQz1QUl_jjq",
        "outputId": "3bc79047-3f44-44f1-8eb5-d56a8dbfe6ff"
      },
      "execution_count": 20,
      "outputs": [
        {
          "output_type": "stream",
          "name": "stdout",
          "text": [
            "Epoch 1/20\n",
            "90/90 [==============================] - 22s 146ms/step - loss: 2.6119 - accuracy: 0.3408 - val_loss: 2.3975 - val_accuracy: 0.3651\n",
            "Epoch 2/20\n",
            "90/90 [==============================] - 7s 73ms/step - loss: 2.1121 - accuracy: 0.4668 - val_loss: 1.9936 - val_accuracy: 0.5107\n",
            "Epoch 3/20\n",
            "90/90 [==============================] - 3s 38ms/step - loss: 1.8301 - accuracy: 0.5315 - val_loss: 1.7940 - val_accuracy: 0.5392\n",
            "Epoch 4/20\n",
            "90/90 [==============================] - 2s 18ms/step - loss: 1.7044 - accuracy: 0.5605 - val_loss: 1.7103 - val_accuracy: 0.5810\n",
            "Epoch 5/20\n",
            "90/90 [==============================] - 1s 16ms/step - loss: 1.6388 - accuracy: 0.5776 - val_loss: 1.7202 - val_accuracy: 0.5695\n",
            "Epoch 6/20\n",
            "90/90 [==============================] - 2s 17ms/step - loss: 1.6072 - accuracy: 0.5926 - val_loss: 1.6438 - val_accuracy: 0.5788\n",
            "Epoch 7/20\n",
            "90/90 [==============================] - 2s 20ms/step - loss: 1.4681 - accuracy: 0.6293 - val_loss: 1.5084 - val_accuracy: 0.6229\n",
            "Epoch 8/20\n",
            "90/90 [==============================] - 2s 25ms/step - loss: 1.3694 - accuracy: 0.6504 - val_loss: 1.4345 - val_accuracy: 0.6371\n",
            "Epoch 9/20\n",
            "90/90 [==============================] - 2s 19ms/step - loss: 1.2864 - accuracy: 0.6741 - val_loss: 1.4187 - val_accuracy: 0.6532\n",
            "Epoch 10/20\n",
            "90/90 [==============================] - 2s 20ms/step - loss: 1.2060 - accuracy: 0.6946 - val_loss: 1.3584 - val_accuracy: 0.6616\n",
            "Epoch 11/20\n",
            "90/90 [==============================] - 1s 12ms/step - loss: 1.1494 - accuracy: 0.7089 - val_loss: 1.3238 - val_accuracy: 0.6670\n",
            "Epoch 12/20\n",
            "90/90 [==============================] - 1s 15ms/step - loss: 1.1036 - accuracy: 0.7207 - val_loss: 1.2815 - val_accuracy: 0.6808\n",
            "Epoch 13/20\n",
            "90/90 [==============================] - 1s 13ms/step - loss: 1.0655 - accuracy: 0.7297 - val_loss: 1.2601 - val_accuracy: 0.6892\n",
            "Epoch 14/20\n",
            "90/90 [==============================] - 1s 16ms/step - loss: 1.0046 - accuracy: 0.7484 - val_loss: 1.2554 - val_accuracy: 0.6812\n",
            "Epoch 15/20\n",
            "90/90 [==============================] - 1s 10ms/step - loss: 0.9640 - accuracy: 0.7543 - val_loss: 1.2359 - val_accuracy: 0.6870\n",
            "Epoch 16/20\n",
            "90/90 [==============================] - 1s 16ms/step - loss: 0.9260 - accuracy: 0.7602 - val_loss: 1.2430 - val_accuracy: 0.6937\n",
            "Epoch 17/20\n",
            "90/90 [==============================] - 2s 21ms/step - loss: 0.8772 - accuracy: 0.7776 - val_loss: 1.2189 - val_accuracy: 0.6986\n",
            "Epoch 18/20\n",
            "90/90 [==============================] - 2s 19ms/step - loss: 0.8374 - accuracy: 0.7841 - val_loss: 1.2180 - val_accuracy: 0.7061\n",
            "Epoch 19/20\n",
            "90/90 [==============================] - 1s 14ms/step - loss: 0.8213 - accuracy: 0.7860 - val_loss: 1.2315 - val_accuracy: 0.7048\n",
            "Epoch 20/20\n",
            "90/90 [==============================] - 1s 12ms/step - loss: 0.7775 - accuracy: 0.7985 - val_loss: 1.2227 - val_accuracy: 0.7030\n"
          ]
        }
      ]
    },
    {
      "cell_type": "code",
      "source": [
        "# 테스트 정확도 출력\n",
        "print(f'Test Accuracy:{model.evaluate(x_test, y_test)[1]}')\n",
        "\n",
        "# 테스트셋 오차\n",
        "y_vloss = history.history['val_loss']\n",
        "\n",
        "# 학습셋 오차\n",
        "y_loss = history.history['loss']"
      ],
      "metadata": {
        "colab": {
          "base_uri": "https://localhost:8080/"
        },
        "id": "EWcBrGcI_v-j",
        "outputId": "cddba3bc-88ae-4f42-fb22-188f5ac42c12"
      },
      "execution_count": 21,
      "outputs": [
        {
          "output_type": "stream",
          "name": "stdout",
          "text": [
            "71/71 [==============================] - 0s 5ms/step - loss: 1.2227 - accuracy: 0.7030\n",
            "Test Accuracy:0.703027606010437\n"
          ]
        }
      ]
    },
    {
      "cell_type": "code",
      "source": [
        "# 그래프로 표현\n",
        "x_len = np.arange(len(y_loss))\n",
        "plt.plot(x_len, y_vloss, marker='.', c='red', label='Testset_loss')\n",
        "plt.plot(x_len, y_loss, marker='.', c='blue', label='Trinset_loss')"
      ],
      "metadata": {
        "colab": {
          "base_uri": "https://localhost:8080/",
          "height": 283
        },
        "id": "EQfw0S81_-ef",
        "outputId": "b4559d56-6d19-4c89-87fa-fe7d8aa98be6"
      },
      "execution_count": 22,
      "outputs": [
        {
          "output_type": "execute_result",
          "data": {
            "text/plain": [
              "[<matplotlib.lines.Line2D at 0x7fe109d4dd00>]"
            ]
          },
          "metadata": {},
          "execution_count": 22
        },
        {
          "output_type": "display_data",
          "data": {
            "text/plain": [
              "<Figure size 432x288 with 1 Axes>"
            ],
            "image/png": "[encoded data removed]"
          },
          "metadata": {
            "needs_background": "light"
          }
        }
      ]
    },
    {
      "cell_type": "code",
      "source": [],
      "metadata": {
        "id": "9yfm6l4kAPzU"
      },
      "execution_count": null,
      "outputs": []
    }
  ]
}