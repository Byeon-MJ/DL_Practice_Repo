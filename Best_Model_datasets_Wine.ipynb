{
  "nbformat": 4,
  "nbformat_minor": 0,
  "metadata": {
    "colab": {
      "provenance": [],
      "authorship_tag": "ABX9TyOOLTk8tsYlz0XJw+LSZTvn",
      "include_colab_link": true
    },
    "kernelspec": {
      "name": "python3",
      "display_name": "Python 3"
    },
    "language_info": {
      "name": "python"
    }
  },
  "cells": [
    {
      "cell_type": "markdown",
      "metadata": {
        "id": "view-in-github",
        "colab_type": "text"
      },
      "source": [
        "<a href=\"https://colab.research.google.com/github/Byeon-MJ/DL_Practice_Repo/blob/main/Best_Model_datasets_Wine.ipynb\" target=\"_parent\"><img src=\"https://colab.research.google.com/assets/colab-badge.svg\" alt=\"Open In Colab\"/></a>"
      ]
    },
    {
      "cell_type": "markdown",
      "source": [
        "# 베스트 모델 만들기"
      ],
      "metadata": {
        "id": "c_Tot-INDlFr"
      }
    },
    {
      "cell_type": "code",
      "source": [
        "import numpy as np\n",
        "import pandas as pd\n",
        "import matplotlib.pyplot as plt\n",
        "import seaborn as sns\n",
        "\n",
        "import tensorflow as tf\n",
        "from keras.models import Sequential\n",
        "from keras.layers import Dense\n",
        "from keras.callbacks import ModelCheckpoint, EarlyStopping"
      ],
      "metadata": {
        "id": "hXwQZlUuGM3w"
      },
      "execution_count": 3,
      "outputs": []
    },
    {
      "cell_type": "code",
      "source": [
        "from google.colab import drive\n",
        "drive.mount('/content/gdrive')"
      ],
      "metadata": {
        "colab": {
          "base_uri": "https://localhost:8080/"
        },
        "id": "96nmKsH3FxC7",
        "outputId": "2ff2b1fe-a30c-40ab-9d46-bd2e074f3f84"
      },
      "execution_count": 1,
      "outputs": [
        {
          "output_type": "stream",
          "name": "stdout",
          "text": [
            "Mounted at /content/gdrive\n"
          ]
        }
      ]
    },
    {
      "cell_type": "code",
      "source": [
        "# seed 고정\n",
        "seed = 3\n",
        "np.random.seed(seed)\n",
        "tf.random.set_seed(seed)"
      ],
      "metadata": {
        "id": "_toKQQDNHq6U"
      },
      "execution_count": 8,
      "outputs": []
    },
    {
      "cell_type": "markdown",
      "source": [
        "## 데이터 확인과 실행"
      ],
      "metadata": {
        "id": "1dNVZ271E-oI"
      }
    },
    {
      "cell_type": "code",
      "source": [
        "# 데이터 불러오기\n",
        "# sample() : 원본 데이터에서 정해진 비율만큼 랜덤으로 가져온다.\n",
        "df_pre = pd.read_csv(\"/content/gdrive/MyDrive/Study/Everyone's DeepLearning/dataset/wine.csv\", header=None)\n",
        "df = df_pre.sample(frac=1)"
      ],
      "metadata": {
        "id": "UYawLtsWFv0A"
      },
      "execution_count": 4,
      "outputs": []
    },
    {
      "cell_type": "code",
      "source": [
        "df.head()"
      ],
      "metadata": {
        "colab": {
          "base_uri": "https://localhost:8080/",
          "height": 206
        },
        "id": "UNnfzt9cGLKQ",
        "outputId": "d1c0d8e4-17ec-4515-ed14-a1cabc41b449"
      },
      "execution_count": 5,
      "outputs": [
        {
          "output_type": "execute_result",
          "data": {
            "text/plain": [
              "       0      1     2     3      4     5      6        7     8     9      10  \\\n",
              "4695  6.8  0.130  0.39   1.4  0.034  19.0  102.0  0.99121  3.23  0.60  11.30   \n",
              "6377  5.8  0.315  0.19  19.4  0.031  28.0  106.0  0.99704  2.97  0.40  10.55   \n",
              "4605  6.2  0.160  0.32   1.1  0.036  74.0  184.0  0.99096  3.22  0.41  11.00   \n",
              "3098  6.7  0.510  0.24   2.1  0.043  14.0  155.0  0.99040  3.22  0.60  13.00   \n",
              "2859  6.4  0.230  0.30   7.1  0.037  63.0  236.0  0.99520  3.06  0.34   9.20   \n",
              "\n",
              "      11  12  \n",
              "4695   7   0  \n",
              "6377   6   0  \n",
              "4605   6   0  \n",
              "3098   6   0  \n",
              "2859   6   0  "
            ],
            "text/html": [
              "\n",
              "  <div id=\"df-84087466-f1e4-4596-a8dd-7d58eda399fb\">\n",
              "    <div class=\"colab-df-container\">\n",
              "      <div>\n",
              "<style scoped>\n",
              "    .dataframe tbody tr th:only-of-type {\n",
              "        vertical-align: middle;\n",
              "    }\n",
              "\n",
              "    .dataframe tbody tr th {\n",
              "        vertical-align: top;\n",
              "    }\n",
              "\n",
              "    .dataframe thead th {\n",
              "        text-align: right;\n",
              "    }\n",
              "</style>\n",
              "<table border=\"1\" class=\"dataframe\">\n",
              "  <thead>\n",
              "    <tr style=\"text-align: right;\">\n",
              "      <th></th>\n",
              "      <th>0</th>\n",
              "      <th>1</th>\n",
              "      <th>2</th>\n",
              "      <th>3</th>\n",
              "      <th>4</th>\n",
              "      <th>5</th>\n",
              "      <th>6</th>\n",
              "      <th>7</th>\n",
              "      <th>8</th>\n",
              "      <th>9</th>\n",
              "      <th>10</th>\n",
              "      <th>11</th>\n",
              "      <th>12</th>\n",
              "    </tr>\n",
              "  </thead>\n",
              "  <tbody>\n",
              "    <tr>\n",
              "      <th>4695</th>\n",
              "      <td>6.8</td>\n",
              "      <td>0.130</td>\n",
              "      <td>0.39</td>\n",
              "      <td>1.4</td>\n",
              "      <td>0.034</td>\n",
              "      <td>19.0</td>\n",
              "      <td>102.0</td>\n",
              "      <td>0.99121</td>\n",
              "      <td>3.23</td>\n",
              "      <td>0.60</td>\n",
              "      <td>11.30</td>\n",
              "      <td>7</td>\n",
              "      <td>0</td>\n",
              "    </tr>\n",
              "    <tr>\n",
              "      <th>6377</th>\n",
              "      <td>5.8</td>\n",
              "      <td>0.315</td>\n",
              "      <td>0.19</td>\n",
              "      <td>19.4</td>\n",
              "      <td>0.031</td>\n",
              "      <td>28.0</td>\n",
              "      <td>106.0</td>\n",
              "      <td>0.99704</td>\n",
              "      <td>2.97</td>\n",
              "      <td>0.40</td>\n",
              "      <td>10.55</td>\n",
              "      <td>6</td>\n",
              "      <td>0</td>\n",
              "    </tr>\n",
              "    <tr>\n",
              "      <th>4605</th>\n",
              "      <td>6.2</td>\n",
              "      <td>0.160</td>\n",
              "      <td>0.32</td>\n",
              "      <td>1.1</td>\n",
              "      <td>0.036</td>\n",
              "      <td>74.0</td>\n",
              "      <td>184.0</td>\n",
              "      <td>0.99096</td>\n",
              "      <td>3.22</td>\n",
              "      <td>0.41</td>\n",
              "      <td>11.00</td>\n",
              "      <td>6</td>\n",
              "      <td>0</td>\n",
              "    </tr>\n",
              "    <tr>\n",
              "      <th>3098</th>\n",
              "      <td>6.7</td>\n",
              "      <td>0.510</td>\n",
              "      <td>0.24</td>\n",
              "      <td>2.1</td>\n",
              "      <td>0.043</td>\n",
              "      <td>14.0</td>\n",
              "      <td>155.0</td>\n",
              "      <td>0.99040</td>\n",
              "      <td>3.22</td>\n",
              "      <td>0.60</td>\n",
              "      <td>13.00</td>\n",
              "      <td>6</td>\n",
              "      <td>0</td>\n",
              "    </tr>\n",
              "    <tr>\n",
              "      <th>2859</th>\n",
              "      <td>6.4</td>\n",
              "      <td>0.230</td>\n",
              "      <td>0.30</td>\n",
              "      <td>7.1</td>\n",
              "      <td>0.037</td>\n",
              "      <td>63.0</td>\n",
              "      <td>236.0</td>\n",
              "      <td>0.99520</td>\n",
              "      <td>3.06</td>\n",
              "      <td>0.34</td>\n",
              "      <td>9.20</td>\n",
              "      <td>6</td>\n",
              "      <td>0</td>\n",
              "    </tr>\n",
              "  </tbody>\n",
              "</table>\n",
              "</div>\n",
              "      <button class=\"colab-df-convert\" onclick=\"convertToInteractive('df-84087466-f1e4-4596-a8dd-7d58eda399fb')\"\n",
              "              title=\"Convert this dataframe to an interactive table.\"\n",
              "              style=\"display:none;\">\n",
              "        \n",
              "  <svg xmlns=\"http://www.w3.org/2000/svg\" height=\"24px\"viewBox=\"0 0 24 24\"\n",
              "       width=\"24px\">\n",
              "    <path d=\"M0 0h24v24H0V0z\" fill=\"none\"/>\n",
              "    <path d=\"M18.56 5.44l.94 2.06.94-2.06 2.06-.94-2.06-.94-.94-2.06-.94 2.06-2.06.94zm-11 1L8.5 8.5l.94-2.06 2.06-.94-2.06-.94L8.5 2.5l-.94 2.06-2.06.94zm10 10l.94 2.06.94-2.06 2.06-.94-2.06-.94-.94-2.06-.94 2.06-2.06.94z\"/><path d=\"M17.41 7.96l-1.37-1.37c-.4-.4-.92-.59-1.43-.59-.52 0-1.04.2-1.43.59L10.3 9.45l-7.72 7.72c-.78.78-.78 2.05 0 2.83L4 21.41c.39.39.9.59 1.41.59.51 0 1.02-.2 1.41-.59l7.78-7.78 2.81-2.81c.8-.78.8-2.07 0-2.86zM5.41 20L4 18.59l7.72-7.72 1.47 1.35L5.41 20z\"/>\n",
              "  </svg>\n",
              "      </button>\n",
              "      \n",
              "  <style>\n",
              "    .colab-df-container {\n",
              "      display:flex;\n",
              "      flex-wrap:wrap;\n",
              "      gap: 12px;\n",
              "    }\n",
              "\n",
              "    .colab-df-convert {\n",
              "      background-color: #E8F0FE;\n",
              "      border: none;\n",
              "      border-radius: 50%;\n",
              "      cursor: pointer;\n",
              "      display: none;\n",
              "      fill: #1967D2;\n",
              "      height: 32px;\n",
              "      padding: 0 0 0 0;\n",
              "      width: 32px;\n",
              "    }\n",
              "\n",
              "    .colab-df-convert:hover {\n",
              "      background-color: #E2EBFA;\n",
              "      box-shadow: 0px 1px 2px rgba(60, 64, 67, 0.3), 0px 1px 3px 1px rgba(60, 64, 67, 0.15);\n",
              "      fill: #174EA6;\n",
              "    }\n",
              "\n",
              "    [theme=dark] .colab-df-convert {\n",
              "      background-color: #3B4455;\n",
              "      fill: #D2E3FC;\n",
              "    }\n",
              "\n",
              "    [theme=dark] .colab-df-convert:hover {\n",
              "      background-color: #434B5C;\n",
              "      box-shadow: 0px 1px 3px 1px rgba(0, 0, 0, 0.15);\n",
              "      filter: drop-shadow(0px 1px 2px rgba(0, 0, 0, 0.3));\n",
              "      fill: #FFFFFF;\n",
              "    }\n",
              "  </style>\n",
              "\n",
              "      <script>\n",
              "        const buttonEl =\n",
              "          document.querySelector('#df-84087466-f1e4-4596-a8dd-7d58eda399fb button.colab-df-convert');\n",
              "        buttonEl.style.display =\n",
              "          google.colab.kernel.accessAllowed ? 'block' : 'none';\n",
              "\n",
              "        async function convertToInteractive(key) {\n",
              "          const element = document.querySelector('#df-84087466-f1e4-4596-a8dd-7d58eda399fb');\n",
              "          const dataTable =\n",
              "            await google.colab.kernel.invokeFunction('convertToInteractive',\n",
              "                                                     [key], {});\n",
              "          if (!dataTable) return;\n",
              "\n",
              "          const docLinkHtml = 'Like what you see? Visit the ' +\n",
              "            '<a target=\"_blank\" href=https://colab.research.google.com/notebooks/data_table.ipynb>data table notebook</a>'\n",
              "            + ' to learn more about interactive tables.';\n",
              "          element.innerHTML = '';\n",
              "          dataTable['output_type'] = 'display_data';\n",
              "          await google.colab.output.renderOutput(dataTable, element);\n",
              "          const docLink = document.createElement('div');\n",
              "          docLink.innerHTML = docLinkHtml;\n",
              "          element.appendChild(docLink);\n",
              "        }\n",
              "      </script>\n",
              "    </div>\n",
              "  </div>\n",
              "  "
            ]
          },
          "metadata": {},
          "execution_count": 5
        }
      ]
    },
    {
      "cell_type": "code",
      "source": [
        "df.info()"
      ],
      "metadata": {
        "colab": {
          "base_uri": "https://localhost:8080/"
        },
        "id": "EiPAu7uvGjDX",
        "outputId": "1b8dd66f-7a2d-40e2-b97c-37a701276a44"
      },
      "execution_count": 6,
      "outputs": [
        {
          "output_type": "stream",
          "name": "stdout",
          "text": [
            "<class 'pandas.core.frame.DataFrame'>\n",
            "Int64Index: 6497 entries, 4695 to 1351\n",
            "Data columns (total 13 columns):\n",
            " #   Column  Non-Null Count  Dtype  \n",
            "---  ------  --------------  -----  \n",
            " 0   0       6497 non-null   float64\n",
            " 1   1       6497 non-null   float64\n",
            " 2   2       6497 non-null   float64\n",
            " 3   3       6497 non-null   float64\n",
            " 4   4       6497 non-null   float64\n",
            " 5   5       6497 non-null   float64\n",
            " 6   6       6497 non-null   float64\n",
            " 7   7       6497 non-null   float64\n",
            " 8   8       6497 non-null   float64\n",
            " 9   9       6497 non-null   float64\n",
            " 10  10      6497 non-null   float64\n",
            " 11  11      6497 non-null   int64  \n",
            " 12  12      6497 non-null   int64  \n",
            "dtypes: float64(11), int64(2)\n",
            "memory usage: 710.6 KB\n"
          ]
        }
      ]
    },
    {
      "cell_type": "markdown",
      "source": [
        "- 0 : 주석산 농도\n",
        "- 1 : 아세트산 농도\n",
        "- 2 : 구연산 농도\n",
        "- 3 : 잔류 당분 농도\n",
        "- 4 : 염화나트륨 농도\n",
        "- 5 : 유리 아황산 농도\n",
        "- 6 : 총 아황산 농도\n",
        "- 7 : 밀도\n",
        "- 8 : pH\n",
        "- 9 : 황산칼륨 농도\n",
        "- 10 : 알코올 도수\n",
        "- 11 : 와인의 맛(0 ~ 10등급)\n",
        "- 12 : class('1':레드와인, '0':화이트와인)"
      ],
      "metadata": {
        "id": "VsROUXBXGkkv"
      }
    },
    {
      "cell_type": "code",
      "source": [
        "dataset = df.values\n",
        "X = dataset[:, :12]\n",
        "Y = dataset[:, 12]"
      ],
      "metadata": {
        "id": "N11O9_t9HIEz"
      },
      "execution_count": 7,
      "outputs": []
    },
    {
      "cell_type": "code",
      "source": [
        "# 모델 정의\n",
        "model = Sequential()\n",
        "model.add(Dense(30, input_dim=12, activation='relu'))\n",
        "model.add(Dense(12, activation='relu'))\n",
        "model.add(Dense(8, activation='relu'))\n",
        "model.add(Dense(1, activation='sigmoid'))"
      ],
      "metadata": {
        "id": "2IaSfCAxHRgK"
      },
      "execution_count": 9,
      "outputs": []
    },
    {
      "cell_type": "code",
      "source": [
        "model.compile(loss='binary_crossentropy', optimizer='adam', metrics=['accuracy'])"
      ],
      "metadata": {
        "id": "LzNRN27JIIeQ"
      },
      "execution_count": 10,
      "outputs": []
    },
    {
      "cell_type": "code",
      "source": [
        "model.fit(X, Y, epochs=200, batch_size=200)"
      ],
      "metadata": {
        "id": "Q-xLJqv_IOAG"
      },
      "execution_count": null,
      "outputs": []
    },
    {
      "cell_type": "code",
      "source": [
        "model.evaluate(X, Y)[1]"
      ],
      "metadata": {
        "colab": {
          "base_uri": "https://localhost:8080/"
        },
        "id": "mjWHboYjIQhS",
        "outputId": "ced6ec0d-cf71-4a2c-f427-3b954d8bd8ff"
      },
      "execution_count": 13,
      "outputs": [
        {
          "output_type": "stream",
          "name": "stdout",
          "text": [
            "204/204 [==============================] - 0s 1ms/step - loss: 0.0438 - accuracy: 0.9871\n"
          ]
        },
        {
          "output_type": "execute_result",
          "data": {
            "text/plain": [
              "0.9870709776878357"
            ]
          },
          "metadata": {},
          "execution_count": 13
        }
      ]
    },
    {
      "cell_type": "markdown",
      "source": [
        "## 모델 업데이트하기\n"
      ],
      "metadata": {
        "id": "Wo1UU2LLJdSk"
      }
    },
    {
      "cell_type": "code",
      "source": [
        "# 모델 정의\n",
        "model = Sequential()\n",
        "model.add(Dense(30, input_dim=12, activation='relu'))\n",
        "model.add(Dense(12, activation='relu'))\n",
        "model.add(Dense(8, activation='relu'))\n",
        "model.add(Dense(1, activation='sigmoid'))"
      ],
      "metadata": {
        "id": "dJ2jenD5KMce"
      },
      "execution_count": 14,
      "outputs": []
    },
    {
      "cell_type": "code",
      "source": [
        "model.compile(loss='binary_crossentropy', optimizer='adam', metrics=['accuracy'])"
      ],
      "metadata": {
        "id": "zhvJWNK6KPOc"
      },
      "execution_count": 15,
      "outputs": []
    },
    {
      "cell_type": "code",
      "source": [
        "import os\n",
        "\n",
        "model_dir = './model/'\n",
        "if not os.path.exists(model_dir):\n",
        "    os.mkdir(model_dir)"
      ],
      "metadata": {
        "id": "xMqjg3hjJjKw"
      },
      "execution_count": 17,
      "outputs": []
    },
    {
      "cell_type": "code",
      "source": [
        "# 모델 저장 조건 설정\n",
        "model_path = './model/{epoch:02d}-{val_loss:.4f}.hdf5'\n",
        "checkpointer = ModelCheckpoint(filepath=model_path, monitor='val_loss', verbose=1, save_best_only=True)"
      ],
      "metadata": {
        "id": "c3mDYisUKYfh"
      },
      "execution_count": 20,
      "outputs": []
    },
    {
      "cell_type": "code",
      "source": [
        "model.fit(X, Y, validation_split=0.2, epochs=200, batch_size=200, verbose=1, callbacks=[checkpointer])"
      ],
      "metadata": {
        "id": "mQe8thIgKsf5"
      },
      "execution_count": null,
      "outputs": []
    },
    {
      "cell_type": "markdown",
      "source": [
        "## 그래프로 확인하기"
      ],
      "metadata": {
        "id": "IKQxdTFUKy0u"
      }
    },
    {
      "cell_type": "code",
      "source": [
        "df = df_pre.sample(frac=0.15)"
      ],
      "metadata": {
        "id": "-VkGOtmNLq0x"
      },
      "execution_count": 22,
      "outputs": []
    },
    {
      "cell_type": "code",
      "source": [
        "dataset = df.values\n",
        "X = dataset[:, :12]\n",
        "Y = dataset[:, 12]"
      ],
      "metadata": {
        "id": "sRLuv9SPMC50"
      },
      "execution_count": 23,
      "outputs": []
    },
    {
      "cell_type": "code",
      "source": [
        "# 모델 정의\n",
        "model = Sequential()\n",
        "model.add(Dense(30, input_dim=12, activation='relu'))\n",
        "model.add(Dense(12, activation='relu'))\n",
        "model.add(Dense(8, activation='relu'))\n",
        "model.add(Dense(1, activation='sigmoid'))"
      ],
      "metadata": {
        "id": "UBZG5VTLMGur"
      },
      "execution_count": 24,
      "outputs": []
    },
    {
      "cell_type": "code",
      "source": [
        "# 모델 컴파일\n",
        "model.compile(loss='binary_crossentropy', optimizer='adam', metrics=['accuracy'])"
      ],
      "metadata": {
        "id": "uL4CLajDMKY-"
      },
      "execution_count": 26,
      "outputs": []
    },
    {
      "cell_type": "code",
      "source": [
        "# 모델 저장 폴더 설정\n",
        "model_dir = './model/'\n",
        "if not os.path.exists(model_dir):\n",
        "    os.mkdir(model_dir)"
      ],
      "metadata": {
        "id": "7fEkwLWRML9i"
      },
      "execution_count": 27,
      "outputs": []
    },
    {
      "cell_type": "code",
      "source": [
        "# 모델 저장 조건 설정\n",
        "model_path = './model/{epoch:02d}-{val_loss:.4f}.hdf5'\n",
        "checkpointer = ModelCheckpoint(filepath=model_path, monitor='val_loss', verbose=1, save_best_only=True)"
      ],
      "metadata": {
        "id": "jxmXHJCiMPx6"
      },
      "execution_count": 28,
      "outputs": []
    },
    {
      "cell_type": "code",
      "source": [
        "# 모델 실행 및 저장\n",
        "history = model.fit(X, Y, validation_split=0.33, epochs=3500, batch_size=500)"
      ],
      "metadata": {
        "id": "l3BXjPPJMYuE"
      },
      "execution_count": null,
      "outputs": []
    },
    {
      "cell_type": "code",
      "source": [
        "# 오차값 저장\n",
        "y_vloss = history.history['val_loss']\n",
        "y_loss = history.history['loss']\n",
        "\n",
        "# 정확도 저장\n",
        "y_acc = history.history['accuracy']"
      ],
      "metadata": {
        "id": "sblXvnDVMedP"
      },
      "execution_count": 33,
      "outputs": []
    },
    {
      "cell_type": "code",
      "source": [
        "# 그래프 그리기\n",
        "x_len = np.arange(len(y_acc))\n",
        "plt.plot(x_len, y_acc, 'o', c='blue', markersize=3)\n",
        "plt.plot(x_len, y_vloss, 'o', c='red', markersize=3)\n",
        "plt.plot(x_len, y_loss, 'o', c='green', markersize=3)\n",
        "plt.ylim([0, 1])\n",
        "plt.show()"
      ],
      "metadata": {
        "colab": {
          "base_uri": "https://localhost:8080/",
          "height": 269
        },
        "id": "Uj8S1Uc5MwI8",
        "outputId": "1f124da5-065f-414b-97f1-9b209735a6c6"
      },
      "execution_count": 35,
      "outputs": [
        {
          "output_type": "display_data",
          "data": {
            "text/plain": [
              "<Figure size 432x288 with 1 Axes>"
            ],
            "image/png": "[encoded data removed]"
          },
          "metadata": {
            "needs_background": "light"
          }
        }
      ]
    },
    {
      "cell_type": "markdown",
      "source": [
        "## 학습 자동 중단"
      ],
      "metadata": {
        "id": "J5kxAuDYM91N"
      }
    },
    {
      "cell_type": "code",
      "source": [
        "# 모델 정의\n",
        "model = Sequential()\n",
        "model.add(Dense(30, input_dim=12, activation='relu'))\n",
        "model.add(Dense(12, activation='relu'))\n",
        "model.add(Dense(8, activation='relu'))\n",
        "model.add(Dense(1, activation='sigmoid'))\n",
        "\n",
        "# 모델 컴파일\n",
        "model.compile(loss='binary_crossentropy', optimizer='adam', metrics=['accuracy'])"
      ],
      "metadata": {
        "id": "BZl9gUL4Nt8e"
      },
      "execution_count": 36,
      "outputs": []
    },
    {
      "cell_type": "code",
      "source": [
        "# EarlyStopping 설정\n",
        "early_stopping_callback = EarlyStopping(monitor='val_loss', patience=100)"
      ],
      "metadata": {
        "id": "yPo-JcIcOssL"
      },
      "execution_count": 37,
      "outputs": []
    },
    {
      "cell_type": "code",
      "source": [
        "# 모델 실행\n",
        "model.fit(X, Y, validation_split=0.2, epochs=2000, batch_size=500, callbacks=[early_stopping_callback])"
      ],
      "metadata": {
        "id": "dtasfg1IO0-P"
      },
      "execution_count": null,
      "outputs": []
    },
    {
      "cell_type": "markdown",
      "source": [
        "## 모델 조기 종료와 모델 저장 동시 사용"
      ],
      "metadata": {
        "id": "SxE_iT9-O8Vr"
      }
    },
    {
      "cell_type": "code",
      "source": [
        "# 모델 정의\n",
        "model = Sequential()\n",
        "model.add(Dense(30, input_dim=12, activation='relu'))\n",
        "model.add(Dense(12, activation='relu'))\n",
        "model.add(Dense(8, activation='relu'))\n",
        "model.add(Dense(1, activation='sigmoid'))\n",
        "\n",
        "# 모델 컴파일\n",
        "model.compile(loss='binary_crossentropy', optimizer='adam', metrics=['accuracy'])"
      ],
      "metadata": {
        "id": "ZN79Qb5bPMvp"
      },
      "execution_count": 39,
      "outputs": []
    },
    {
      "cell_type": "code",
      "source": [
        "# 모델 저장 폴더 설정\n",
        "model_dir = './model/'\n",
        "if not os.path.exists(model_dir):\n",
        "    os.mkdir(model_dir)\n",
        "\n",
        "model_path = './model/{epoch:02d}-{val_loss:.4f}.hdf5'"
      ],
      "metadata": {
        "id": "0JGLFGlMPQNR"
      },
      "execution_count": 42,
      "outputs": []
    },
    {
      "cell_type": "code",
      "source": [
        "# ModelCheckpoint 설정\n",
        "checkpointer = ModelCheckpoint(filepath=model_path, monitor='val_loss', verbose=1, save_best_only=True)\n",
        "\n",
        "# EarlyStopping 설정\n",
        "early_stopping_callback = EarlyStopping(monitor='val_loss', patience=100)"
      ],
      "metadata": {
        "id": "RCbG5cqUPa0q"
      },
      "execution_count": 43,
      "outputs": []
    },
    {
      "cell_type": "code",
      "source": [
        "# 모델 실행\n",
        "model.fit(X, Y, validation_split=0.2, epochs=3500, batch_size=500, verbose=0, callbacks=[early_stopping_callback, checkpointer])"
      ],
      "metadata": {
        "id": "q32bY8MWPru4"
      },
      "execution_count": null,
      "outputs": []
    },
    {
      "cell_type": "code",
      "source": [],
      "metadata": {
        "id": "fLaYGKU_P0Bp"
      },
      "execution_count": null,
      "outputs": []
    }
  ]
}