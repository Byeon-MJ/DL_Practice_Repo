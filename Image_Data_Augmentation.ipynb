{
  "nbformat": 4,
  "nbformat_minor": 0,
  "metadata": {
    "colab": {
      "provenance": [],
      "authorship_tag": "ABX9TyMuZg6F/sUXfpeBhbQ4Lgm/",
      "include_colab_link": true
    },
    "kernelspec": {
      "name": "python3",
      "display_name": "Python 3"
    },
    "language_info": {
      "name": "python"
    },
    "accelerator": "GPU",
    "gpuClass": "standard"
  },
  "cells": [
    {
      "cell_type": "markdown",
      "metadata": {
        "id": "view-in-github",
        "colab_type": "text"
      },
      "source": [
        "<a href=\"https://colab.research.google.com/github/Byeon-MJ/DL_Practice_Repo/blob/main/Image_Data_Augmentation.ipynb\" target=\"_parent\"><img src=\"https://colab.research.google.com/assets/colab-badge.svg\" alt=\"Open In Colab\"/></a>"
      ]
    },
    {
      "cell_type": "markdown",
      "source": [
        "# 이미지 증강 연습"
      ],
      "metadata": {
        "id": "Q5lVagnfaBwe"
      }
    },
    {
      "cell_type": "code",
      "execution_count": 20,
      "metadata": {
        "id": "2SB4dpwFZOIT"
      },
      "outputs": [],
      "source": [
        "import tensorflow as tf\n",
        "import numpy as np\n",
        "import matplotlib.pyplot as plt\n",
        "\n",
        "from keras.models import Sequential\n",
        "from keras.layers import Dense, Activation, Dropout, Flatten, Dense, Conv2D, MaxPooling2D\n",
        "from keras.preprocessing.image import ImageDataGenerator\n",
        "from keras import optimizers, initializers, regularizers, metrics"
      ]
    },
    {
      "cell_type": "code",
      "source": [
        "from google.colab import drive\n",
        "drive.mount('/content/gdrive')"
      ],
      "metadata": {
        "colab": {
          "base_uri": "https://localhost:8080/"
        },
        "id": "Riu_FDE0aIPz",
        "outputId": "0146f3e1-6f7a-42da-abfd-8b007fb7a3af"
      },
      "execution_count": 2,
      "outputs": [
        {
          "output_type": "stream",
          "name": "stdout",
          "text": [
            "Mounted at /content/gdrive\n"
          ]
        }
      ]
    },
    {
      "cell_type": "markdown",
      "source": [
        "## ImageDataGenerator 생성"
      ],
      "metadata": {
        "id": "tT_HIdogaFKY"
      }
    },
    {
      "cell_type": "markdown",
      "source": [
        "### Train Generator"
      ],
      "metadata": {
        "id": "xfvJw4fLasNE"
      }
    },
    {
      "cell_type": "code",
      "source": [
        "train_datagen = ImageDataGenerator(rescale=1./255,\n",
        "                                   horizontal_flip=True,\n",
        "                                   width_shift_range=0.1,\n",
        "                                   height_shift_range=0.1,\n",
        "                                   fill_mode='nearest')"
      ],
      "metadata": {
        "id": "611R8Ld8Zwei"
      },
      "execution_count": 30,
      "outputs": []
    },
    {
      "cell_type": "code",
      "source": [
        "train_generator = train_datagen.flow_from_directory(\n",
        "    \"/content/gdrive/MyDrive/Study/Everyone's DeepLearning/run_project/train\",\n",
        "    target_size=(150, 150),\n",
        "    batch_size=5,\n",
        "    class_mode='binary'\n",
        ")"
      ],
      "metadata": {
        "colab": {
          "base_uri": "https://localhost:8080/"
        },
        "id": "6hbRCnRFaTsh",
        "outputId": "0247798b-94cf-4adf-b2ca-86f832f07eb9"
      },
      "execution_count": 31,
      "outputs": [
        {
          "output_type": "stream",
          "name": "stdout",
          "text": [
            "Found 160 images belonging to 2 classes.\n"
          ]
        }
      ]
    },
    {
      "cell_type": "markdown",
      "source": [
        "### Test Generator"
      ],
      "metadata": {
        "id": "QJTqOFwkaug6"
      }
    },
    {
      "cell_type": "code",
      "source": [
        "test_datagen = ImageDataGenerator(rescale=1./255)"
      ],
      "metadata": {
        "id": "7VVPvLWUawSK"
      },
      "execution_count": 32,
      "outputs": []
    },
    {
      "cell_type": "code",
      "source": [
        "test_generator = test_datagen.flow_from_directory(\n",
        "    \"/content/gdrive/MyDrive/Study/Everyone's DeepLearning/run_project/test\",\n",
        "    target_size=(150, 150),\n",
        "    batch_size=5,\n",
        "    class_mode='binary'\n",
        ")"
      ],
      "metadata": {
        "colab": {
          "base_uri": "https://localhost:8080/"
        },
        "id": "ie1sh1AmazaK",
        "outputId": "2b7e0e5b-3d84-49bf-9cc4-f7762c8c7d26"
      },
      "execution_count": 33,
      "outputs": [
        {
          "output_type": "stream",
          "name": "stdout",
          "text": [
            "Found 120 images belonging to 2 classes.\n"
          ]
        }
      ]
    },
    {
      "cell_type": "markdown",
      "source": [
        "## Model 생성"
      ],
      "metadata": {
        "id": "AOrgSjwca8dK"
      }
    },
    {
      "cell_type": "code",
      "source": [
        "model = Sequential()\n",
        "model.add(Conv2D(32, (3, 3), input_shape=(150, 150, 3)))\n",
        "model.add(Activation('relu'))\n",
        "model.add(MaxPooling2D(pool_size=(2, 2)))\n",
        "\n",
        "model.add(Conv2D(32, (3, 3)))\n",
        "model.add(Activation('relu'))\n",
        "model.add(MaxPooling2D(pool_size=(2, 2)))\n",
        "\n",
        "model.add(Conv2D(64, (3, 3)))\n",
        "model.add(Activation('relu'))\n",
        "model.add(MaxPooling2D(pool_size=(2, 2)))\n",
        "\n",
        "model.add(Flatten())\n",
        "model.add(Dense(64))\n",
        "model.add(Activation('relu'))\n",
        "model.add(Dropout(0.5))\n",
        "model.add(Dense(2))\n",
        "model.add(Activation('softmax'))"
      ],
      "metadata": {
        "id": "KQZlmsEpa-Yz"
      },
      "execution_count": 42,
      "outputs": []
    },
    {
      "cell_type": "code",
      "source": [
        "model.summary()"
      ],
      "metadata": {
        "colab": {
          "base_uri": "https://localhost:8080/"
        },
        "id": "MVBC3--Lbpz1",
        "outputId": "7174e87b-c677-4840-b6ea-3e586eca0460"
      },
      "execution_count": 43,
      "outputs": [
        {
          "output_type": "stream",
          "name": "stdout",
          "text": [
            "Model: \"sequential_4\"\n",
            "_________________________________________________________________\n",
            " Layer (type)                Output Shape              Param #   \n",
            "=================================================================\n",
            " conv2d_12 (Conv2D)          (None, 148, 148, 32)      896       \n",
            "                                                                 \n",
            " activation_20 (Activation)  (None, 148, 148, 32)      0         \n",
            "                                                                 \n",
            " max_pooling2d_12 (MaxPoolin  (None, 74, 74, 32)       0         \n",
            " g2D)                                                            \n",
            "                                                                 \n",
            " conv2d_13 (Conv2D)          (None, 72, 72, 32)        9248      \n",
            "                                                                 \n",
            " activation_21 (Activation)  (None, 72, 72, 32)        0         \n",
            "                                                                 \n",
            " max_pooling2d_13 (MaxPoolin  (None, 36, 36, 32)       0         \n",
            " g2D)                                                            \n",
            "                                                                 \n",
            " conv2d_14 (Conv2D)          (None, 34, 34, 64)        18496     \n",
            "                                                                 \n",
            " activation_22 (Activation)  (None, 34, 34, 64)        0         \n",
            "                                                                 \n",
            " max_pooling2d_14 (MaxPoolin  (None, 17, 17, 64)       0         \n",
            " g2D)                                                            \n",
            "                                                                 \n",
            " flatten_4 (Flatten)         (None, 18496)             0         \n",
            "                                                                 \n",
            " dense_8 (Dense)             (None, 64)                1183808   \n",
            "                                                                 \n",
            " activation_23 (Activation)  (None, 64)                0         \n",
            "                                                                 \n",
            " dropout_4 (Dropout)         (None, 64)                0         \n",
            "                                                                 \n",
            " dense_9 (Dense)             (None, 2)                 130       \n",
            "                                                                 \n",
            " activation_24 (Activation)  (None, 2)                 0         \n",
            "                                                                 \n",
            "=================================================================\n",
            "Total params: 1,212,578\n",
            "Trainable params: 1,212,578\n",
            "Non-trainable params: 0\n",
            "_________________________________________________________________\n"
          ]
        }
      ]
    },
    {
      "cell_type": "code",
      "source": [
        "# 모델 컴파일\n",
        "model.compile(loss='sparse_categorical_crossentropy', \n",
        "              optimizer=optimizers.Adam(learning_rate=0.0002), \n",
        "              metrics=['accuracy'])"
      ],
      "metadata": {
        "id": "YPeqPTdjboCL"
      },
      "execution_count": 44,
      "outputs": []
    },
    {
      "cell_type": "code",
      "source": [
        "# 모델 실행\n",
        "history = model.fit(train_generator,\n",
        "                    steps_per_epoch=32,\n",
        "                    epochs=20,\n",
        "                    validation_data=test_generator,\n",
        "                    validation_steps=24)"
      ],
      "metadata": {
        "colab": {
          "base_uri": "https://localhost:8080/"
        },
        "id": "3ByTWO3zb2vZ",
        "outputId": "336a9b0a-e3ca-4bde-db9a-bc67112220d0"
      },
      "execution_count": 45,
      "outputs": [
        {
          "output_type": "stream",
          "name": "stdout",
          "text": [
            "Epoch 1/20\n",
            "32/32 [==============================] - 2s 57ms/step - loss: 0.7021 - accuracy: 0.5312 - val_loss: 0.6895 - val_accuracy: 0.5000\n",
            "Epoch 2/20\n",
            "32/32 [==============================] - 2s 51ms/step - loss: 0.6855 - accuracy: 0.5312 - val_loss: 0.6771 - val_accuracy: 0.5500\n",
            "Epoch 3/20\n",
            "32/32 [==============================] - 2s 61ms/step - loss: 0.6903 - accuracy: 0.5625 - val_loss: 0.6744 - val_accuracy: 0.5000\n",
            "Epoch 4/20\n",
            "32/32 [==============================] - 3s 82ms/step - loss: 0.6668 - accuracy: 0.6000 - val_loss: 0.6534 - val_accuracy: 0.5750\n",
            "Epoch 5/20\n",
            "32/32 [==============================] - 2s 50ms/step - loss: 0.6688 - accuracy: 0.5813 - val_loss: 0.6336 - val_accuracy: 0.5917\n",
            "Epoch 6/20\n",
            "32/32 [==============================] - 2s 50ms/step - loss: 0.6284 - accuracy: 0.6812 - val_loss: 0.5750 - val_accuracy: 0.7667\n",
            "Epoch 7/20\n",
            "32/32 [==============================] - 2s 50ms/step - loss: 0.5908 - accuracy: 0.7063 - val_loss: 0.5665 - val_accuracy: 0.7583\n",
            "Epoch 8/20\n",
            "32/32 [==============================] - 2s 59ms/step - loss: 0.5569 - accuracy: 0.7625 - val_loss: 0.4569 - val_accuracy: 0.8417\n",
            "Epoch 9/20\n",
            "32/32 [==============================] - 2s 52ms/step - loss: 0.5466 - accuracy: 0.7688 - val_loss: 0.4467 - val_accuracy: 0.8000\n",
            "Epoch 10/20\n",
            "32/32 [==============================] - 2s 50ms/step - loss: 0.4380 - accuracy: 0.8250 - val_loss: 0.3550 - val_accuracy: 0.8333\n",
            "Epoch 11/20\n",
            "32/32 [==============================] - 3s 80ms/step - loss: 0.4111 - accuracy: 0.8375 - val_loss: 0.2717 - val_accuracy: 0.9250\n",
            "Epoch 12/20\n",
            "32/32 [==============================] - 2s 70ms/step - loss: 0.3461 - accuracy: 0.8687 - val_loss: 0.9188 - val_accuracy: 0.5583\n",
            "Epoch 13/20\n",
            "32/32 [==============================] - 2s 50ms/step - loss: 0.4292 - accuracy: 0.8062 - val_loss: 0.2642 - val_accuracy: 0.9333\n",
            "Epoch 14/20\n",
            "32/32 [==============================] - 2s 49ms/step - loss: 0.3598 - accuracy: 0.8562 - val_loss: 0.2170 - val_accuracy: 0.9417\n",
            "Epoch 15/20\n",
            "32/32 [==============================] - 2s 49ms/step - loss: 0.2683 - accuracy: 0.9062 - val_loss: 0.2974 - val_accuracy: 0.8500\n",
            "Epoch 16/20\n",
            "32/32 [==============================] - 2s 49ms/step - loss: 0.2709 - accuracy: 0.8750 - val_loss: 0.1684 - val_accuracy: 0.9417\n",
            "Epoch 17/20\n",
            "32/32 [==============================] - 2s 60ms/step - loss: 0.2280 - accuracy: 0.9062 - val_loss: 0.1685 - val_accuracy: 0.9500\n",
            "Epoch 18/20\n",
            "32/32 [==============================] - 2s 72ms/step - loss: 0.1842 - accuracy: 0.9438 - val_loss: 0.1194 - val_accuracy: 0.9583\n",
            "Epoch 19/20\n",
            "32/32 [==============================] - 2s 50ms/step - loss: 0.1785 - accuracy: 0.9250 - val_loss: 0.1076 - val_accuracy: 0.9583\n",
            "Epoch 20/20\n",
            "32/32 [==============================] - 2s 51ms/step - loss: 0.1741 - accuracy: 0.9312 - val_loss: 0.1027 - val_accuracy: 0.9750\n"
          ]
        }
      ]
    },
    {
      "cell_type": "markdown",
      "source": [
        "## 결과를 그래프로 표현"
      ],
      "metadata": {
        "id": "E3rtMcX0cCG6"
      }
    },
    {
      "cell_type": "code",
      "source": [
        "acc = history.history['accuracy']\n",
        "val_acc = history.history['val_accuracy']\n",
        "y_vloss = history.history['val_loss']\n",
        "y_loss = history.history['loss']\n",
        "x_len = np.arange(len(y_loss))\n",
        "\n",
        "plt.plot(x_len, acc, marker=',', c='red', label='Trainset_acc')\n",
        "plt.plot(x_len, val_acc, marker=',', c='lightcoral', label='Testset_acc')\n",
        "plt.plot(x_len, y_vloss, marker=',', c='cornflowerblue', label='Testset_loss')\n",
        "plt.plot(x_len, y_loss, marker=',', c='blue', label='Trainset_loss')\n",
        "\n",
        "plt.legend(loc='upper right')\n",
        "plt.grid()\n",
        "plt.xlabel('epoch')\n",
        "plt.ylabel('loss/acc')\n",
        "plt.show()"
      ],
      "metadata": {
        "colab": {
          "base_uri": "https://localhost:8080/",
          "height": 279
        },
        "id": "OtIi--BvcKoz",
        "outputId": "7a5ca4a5-27c3-41c1-bd00-0c618d9f06ac"
      },
      "execution_count": 46,
      "outputs": [
        {
          "output_type": "display_data",
          "data": {
            "text/plain": [
              "<Figure size 432x288 with 1 Axes>"
            ],
            "image/png": "[encoded data removed]"
          },
          "metadata": {
            "needs_background": "light"
          }
        }
      ]
    },
    {
      "cell_type": "code",
      "source": [],
      "metadata": {
        "id": "1WETxeLKc0Hj"
      },
      "execution_count": null,
      "outputs": []
    }
  ]
}