{
  "nbformat": 4,
  "nbformat_minor": 0,
  "metadata": {
    "colab": {
      "provenance": [],
      "authorship_tag": "ABX9TyMRbhKEUHiuF3CEi/WbQSOp",
      "include_colab_link": true
    },
    "kernelspec": {
      "name": "python3",
      "display_name": "Python 3"
    },
    "language_info": {
      "name": "python"
    },
    "gpuClass": "standard",
    "accelerator": "GPU"
  },
  "cells": [
    {
      "cell_type": "markdown",
      "metadata": {
        "id": "view-in-github",
        "colab_type": "text"
      },
      "source": [
        "<a href=\"https://colab.research.google.com/github/Byeon-MJ/DL_Practice_Repo/blob/main/DNN_Model_Training.ipynb\" target=\"_parent\"><img src=\"https://colab.research.google.com/assets/colab-badge.svg\" alt=\"Open In Colab\"/></a>"
      ]
    },
    {
      "cell_type": "markdown",
      "source": [
        "# 신경망 모델 훈련\n",
        "* 케라스 API에서 다양한 기능들 활용해보기"
      ],
      "metadata": {
        "id": "Pnl2fqqGEk57"
      }
    },
    {
      "cell_type": "markdown",
      "source": [
        "## 손실 곡선\n",
        "* fit() 메서드는 History 클래스 객체를 반환\n",
        "* History 객체에는 훈련 과정에서 계산한 지표, 손실과 정확도 값이 저장되어 있음\n",
        "* 이 값을 이용해 그래프를 그릴 수 있다."
      ],
      "metadata": {
        "id": "6ShhS3iepyS6"
      }
    },
    {
      "cell_type": "code",
      "source": [
        "from tensorflow import keras\n",
        "from sklearn.model_selection import train_test_split\n",
        "(train_input, train_target), (test_input, test_target) = keras.datasets.fashion_mnist.load_data()\n",
        "train_scaled = train_input / 255.0\n",
        "train_scaled, val_scaled, train_target, val_target = train_test_split(train_scaled, train_target, test_size=0.2, random_state=42)"
      ],
      "metadata": {
        "colab": {
          "base_uri": "https://localhost:8080/"
        },
        "id": "qPSEeiRCpzLC",
        "outputId": "975985dc-aaa1-4c75-d284-69a3849ddfa5"
      },
      "execution_count": 1,
      "outputs": [
        {
          "output_type": "stream",
          "name": "stdout",
          "text": [
            "Downloading data from https://storage.googleapis.com/tensorflow/tf-keras-datasets/train-labels-idx1-ubyte.gz\n",
            "29515/29515 [==============================] - 0s 0us/step\n",
            "Downloading data from https://storage.googleapis.com/tensorflow/tf-keras-datasets/train-images-idx3-ubyte.gz\n",
            "26421880/26421880 [==============================] - 2s 0us/step\n",
            "Downloading data from https://storage.googleapis.com/tensorflow/tf-keras-datasets/t10k-labels-idx1-ubyte.gz\n",
            "5148/5148 [==============================] - 0s 0us/step\n",
            "Downloading data from https://storage.googleapis.com/tensorflow/tf-keras-datasets/t10k-images-idx3-ubyte.gz\n",
            "4422102/4422102 [==============================] - 0s 0us/step\n"
          ]
        }
      ]
    },
    {
      "cell_type": "code",
      "source": [
        "# 모델을 만드는 함수 정의\n",
        "def model_fn(a_layer=None):\n",
        "    model = keras.Sequential()\n",
        "    model.add(keras.layers.Flatten(input_shape=(28, 28)))\n",
        "    model.add(keras.layers.Dense(100, activation='relu'))\n",
        "    if a_layer:\n",
        "        model.add(a_layer)\n",
        "    model.add(keras.layers.Dense(10, activation='softmax'))\n",
        "    return model"
      ],
      "metadata": {
        "id": "-fEhfLVnqwIE"
      },
      "execution_count": 2,
      "outputs": []
    },
    {
      "cell_type": "code",
      "source": [
        "model = model_fn()\n",
        "model.summary()"
      ],
      "metadata": {
        "colab": {
          "base_uri": "https://localhost:8080/"
        },
        "id": "_iVvUu6rrc-p",
        "outputId": "1f159c36-cef6-40e8-8281-afdb3bddced6"
      },
      "execution_count": 3,
      "outputs": [
        {
          "output_type": "stream",
          "name": "stdout",
          "text": [
            "Model: \"sequential\"\n",
            "_________________________________________________________________\n",
            " Layer (type)                Output Shape              Param #   \n",
            "=================================================================\n",
            " flatten (Flatten)           (None, 784)               0         \n",
            "                                                                 \n",
            " dense (Dense)               (None, 100)               78500     \n",
            "                                                                 \n",
            " dense_1 (Dense)             (None, 10)                1010      \n",
            "                                                                 \n",
            "=================================================================\n",
            "Total params: 79,510\n",
            "Trainable params: 79,510\n",
            "Non-trainable params: 0\n",
            "_________________________________________________________________\n"
          ]
        }
      ]
    },
    {
      "cell_type": "markdown",
      "source": [
        "**History 객체**\n",
        "* 케라스는 에포크마다 손실을 계산\n",
        "* metrics 변수에 'accuracy'를 추가하면 속성에 포함"
      ],
      "metadata": {
        "id": "IJZuxB4HsQjI"
      }
    },
    {
      "cell_type": "code",
      "source": [
        "# history 객체 변수에 담기\n",
        "model.compile(loss='sparse_categorical_crossentropy', metrics='accuracy')\n",
        "# verbose : 기본값 1 - 에포크마다 진행 막대화 함께 지표 출력\n",
        "# 2 - 진행 막대 빼고 출력, 0 - 훈련 과정 생략\n",
        "history = model.fit(train_scaled, train_target, epochs=5, verbose=0)"
      ],
      "metadata": {
        "id": "lgbxEgjYrj59"
      },
      "execution_count": 4,
      "outputs": []
    },
    {
      "cell_type": "code",
      "source": [
        "print(history.history.keys())"
      ],
      "metadata": {
        "colab": {
          "base_uri": "https://localhost:8080/"
        },
        "id": "C-6vgg_8rw14",
        "outputId": "99f8aa72-acf6-4799-fa38-6f5c7c3b27c8"
      },
      "execution_count": 5,
      "outputs": [
        {
          "output_type": "stream",
          "name": "stdout",
          "text": [
            "dict_keys(['loss', 'accuracy'])\n"
          ]
        }
      ]
    },
    {
      "cell_type": "code",
      "source": [
        "# Loss Graph\n",
        "import matplotlib.pyplot as plt\n",
        "plt.plot(history.history['loss'])\n",
        "plt.xlabel('epoch')\n",
        "plt.ylabel('loss')\n",
        "plt.show()"
      ],
      "metadata": {
        "colab": {
          "base_uri": "https://localhost:8080/",
          "height": 279
        },
        "id": "e716q9VQsJMt",
        "outputId": "e80a18cd-e5f8-46e7-ce66-98e167074413"
      },
      "execution_count": 6,
      "outputs": [
        {
          "output_type": "display_data",
          "data": {
            "text/plain": [
              "<Figure size 432x288 with 1 Axes>"
            ],
            "image/png": "[encoded data removed]"
          },
          "metadata": {
            "needs_background": "light"
          }
        }
      ]
    },
    {
      "cell_type": "code",
      "source": [
        "# Accuracy Graph\n",
        "plt.plot(history.history['accuracy'])\n",
        "plt.xlabel('epoch')\n",
        "plt.ylabel('accuracy')\n",
        "plt.show()"
      ],
      "metadata": {
        "colab": {
          "base_uri": "https://localhost:8080/",
          "height": 279
        },
        "id": "XSp4OX3Lsh6O",
        "outputId": "65b0c8dd-28e7-48e9-d194-5e2fceecab88"
      },
      "execution_count": 7,
      "outputs": [
        {
          "output_type": "display_data",
          "data": {
            "text/plain": [
              "<Figure size 432x288 with 1 Axes>"
            ],
            "image/png": "[encoded data removed]"
          },
          "metadata": {
            "needs_background": "light"
          }
        }
      ]
    },
    {
      "cell_type": "code",
      "source": [
        "# 에포크 늘려서 훈련해보기\n",
        "model = model_fn()\n",
        "model.compile(loss='sparse_categorical_crossentropy', metrics='accuracy')\n",
        "history = model.fit(train_scaled, train_target, epochs=20, verbose=0)\n",
        "plt.plot(history.history['loss'])\n",
        "plt.xlabel('epoch')\n",
        "plt.ylabel('loss')\n",
        "plt.show()"
      ],
      "metadata": {
        "colab": {
          "base_uri": "https://localhost:8080/",
          "height": 279
        },
        "id": "tt5zHtKmstUZ",
        "outputId": "2e0a655d-9b0c-46c2-be54-86e05001b217"
      },
      "execution_count": 8,
      "outputs": [
        {
          "output_type": "display_data",
          "data": {
            "text/plain": [
              "<Figure size 432x288 with 1 Axes>"
            ],
            "image/png": "[encoded data removed]"
          },
          "metadata": {
            "needs_background": "light"
          }
        }
      ]
    },
    {
      "cell_type": "markdown",
      "source": [
        "## 검증 손실\n",
        "* 과대/과소적합 파악하기\n",
        "* 정확도가 아닌 손실을 사용하여 과대/과소적합 확인하기\n",
        "* 검증 손실 계산위해서 fit() 메서드에 검증 데이터 전달"
      ],
      "metadata": {
        "id": "6pEiY4GFtB1g"
      }
    },
    {
      "cell_type": "code",
      "source": [
        "model = model_fn()\n",
        "model.compile(loss='sparse_categorical_crossentropy', metrics='accuracy')\n",
        "history = model.fit(train_scaled, train_target, epochs=20, verbose=1,\n",
        "                    validation_data = (val_scaled, val_target))"
      ],
      "metadata": {
        "colab": {
          "base_uri": "https://localhost:8080/"
        },
        "id": "EJYM-3K_tbji",
        "outputId": "d1dc20e0-70d6-4f3c-f4b9-09c41419db50"
      },
      "execution_count": 9,
      "outputs": [
        {
          "output_type": "stream",
          "name": "stdout",
          "text": [
            "Epoch 1/20\n",
            "1500/1500 [==============================] - 4s 3ms/step - loss: 0.5313 - accuracy: 0.8133 - val_loss: 0.4118 - val_accuracy: 0.8511\n",
            "Epoch 2/20\n",
            "1500/1500 [==============================] - 4s 3ms/step - loss: 0.3918 - accuracy: 0.8593 - val_loss: 0.3747 - val_accuracy: 0.8688\n",
            "Epoch 3/20\n",
            "1500/1500 [==============================] - 4s 3ms/step - loss: 0.3531 - accuracy: 0.8723 - val_loss: 0.4488 - val_accuracy: 0.8406\n",
            "Epoch 4/20\n",
            "1500/1500 [==============================] - 4s 3ms/step - loss: 0.3300 - accuracy: 0.8819 - val_loss: 0.3655 - val_accuracy: 0.8733\n",
            "Epoch 5/20\n",
            "1500/1500 [==============================] - 4s 3ms/step - loss: 0.3190 - accuracy: 0.8875 - val_loss: 0.3571 - val_accuracy: 0.8751\n",
            "Epoch 6/20\n",
            "1500/1500 [==============================] - 4s 3ms/step - loss: 0.3077 - accuracy: 0.8923 - val_loss: 0.3474 - val_accuracy: 0.8823\n",
            "Epoch 7/20\n",
            "1500/1500 [==============================] - 5s 4ms/step - loss: 0.2968 - accuracy: 0.8942 - val_loss: 0.3537 - val_accuracy: 0.8834\n",
            "Epoch 8/20\n",
            "1500/1500 [==============================] - 6s 4ms/step - loss: 0.2895 - accuracy: 0.8981 - val_loss: 0.3585 - val_accuracy: 0.8826\n",
            "Epoch 9/20\n",
            "1500/1500 [==============================] - 5s 4ms/step - loss: 0.2844 - accuracy: 0.9014 - val_loss: 0.3642 - val_accuracy: 0.8863\n",
            "Epoch 10/20\n",
            "1500/1500 [==============================] - 4s 3ms/step - loss: 0.2782 - accuracy: 0.9038 - val_loss: 0.3862 - val_accuracy: 0.8786\n",
            "Epoch 11/20\n",
            "1500/1500 [==============================] - 4s 3ms/step - loss: 0.2709 - accuracy: 0.9058 - val_loss: 0.3964 - val_accuracy: 0.8750\n",
            "Epoch 12/20\n",
            "1500/1500 [==============================] - 4s 3ms/step - loss: 0.2647 - accuracy: 0.9090 - val_loss: 0.4155 - val_accuracy: 0.8742\n",
            "Epoch 13/20\n",
            "1500/1500 [==============================] - 4s 3ms/step - loss: 0.2624 - accuracy: 0.9107 - val_loss: 0.4041 - val_accuracy: 0.8790\n",
            "Epoch 14/20\n",
            "1500/1500 [==============================] - 4s 3ms/step - loss: 0.2573 - accuracy: 0.9111 - val_loss: 0.4009 - val_accuracy: 0.8855\n",
            "Epoch 15/20\n",
            "1500/1500 [==============================] - 4s 3ms/step - loss: 0.2530 - accuracy: 0.9129 - val_loss: 0.4028 - val_accuracy: 0.8819\n",
            "Epoch 16/20\n",
            "1500/1500 [==============================] - 4s 3ms/step - loss: 0.2456 - accuracy: 0.9150 - val_loss: 0.4260 - val_accuracy: 0.8805\n",
            "Epoch 17/20\n",
            "1500/1500 [==============================] - 4s 3ms/step - loss: 0.2408 - accuracy: 0.9167 - val_loss: 0.4363 - val_accuracy: 0.8827\n",
            "Epoch 18/20\n",
            "1500/1500 [==============================] - 4s 3ms/step - loss: 0.2377 - accuracy: 0.9194 - val_loss: 0.4575 - val_accuracy: 0.8768\n",
            "Epoch 19/20\n",
            "1500/1500 [==============================] - 4s 3ms/step - loss: 0.2339 - accuracy: 0.9202 - val_loss: 0.4661 - val_accuracy: 0.8744\n",
            "Epoch 20/20\n",
            "1500/1500 [==============================] - 4s 3ms/step - loss: 0.2313 - accuracy: 0.9215 - val_loss: 0.4612 - val_accuracy: 0.8773\n"
          ]
        }
      ]
    },
    {
      "cell_type": "code",
      "source": [
        "print(history.history.keys())"
      ],
      "metadata": {
        "id": "btHpamlltvI2"
      },
      "execution_count": 9,
      "outputs": []
    },
    {
      "cell_type": "code",
      "source": [
        "plt.plot(history.history['loss'])\n",
        "plt.plot(history.history['val_loss'])\n",
        "plt.xlabel('epoch')\n",
        "plt.ylabel('loss')\n",
        "plt.legend(['train', 'val'])\n",
        "plt.show()"
      ],
      "metadata": {
        "colab": {
          "base_uri": "https://localhost:8080/",
          "height": 279
        },
        "id": "WmjNcAO9u3NK",
        "outputId": "49a74099-44e9-4e49-ef3c-17d90913ce55"
      },
      "execution_count": 11,
      "outputs": [
        {
          "output_type": "display_data",
          "data": {
            "text/plain": [
              "<Figure size 432x288 with 1 Axes>"
            ],
            "image/png": "[encoded data removed]"
          },
          "metadata": {
            "needs_background": "light"
          }
        }
      ]
    },
    {
      "cell_type": "code",
      "source": [
        "# 옵티마이저 Adam 적용\n",
        "model = model_fn()\n",
        "model.compile(optimizer='adam', loss='sparse_categorical_crossentropy', metrics='accuracy')\n",
        "history = model.fit(train_scaled, train_target, epochs=20, verbose=1,\n",
        "                    validation_data = (val_scaled, val_target))\n",
        "plt.plot(history.history['loss'])\n",
        "plt.plot(history.history['val_loss'])\n",
        "plt.xlabel('epoch')\n",
        "plt.ylabel('loss')\n",
        "plt.legend(['train', 'val'])\n",
        "plt.show()"
      ],
      "metadata": {
        "colab": {
          "base_uri": "https://localhost:8080/",
          "height": 1000
        },
        "id": "3XkanOhJvF5D",
        "outputId": "53ce528e-1624-4b82-ff88-1b68664f11a8"
      },
      "execution_count": 12,
      "outputs": [
        {
          "output_type": "stream",
          "name": "stdout",
          "text": [
            "Epoch 1/20\n",
            "1500/1500 [==============================] - 4s 3ms/step - loss: 0.5281 - accuracy: 0.8173 - val_loss: 0.4234 - val_accuracy: 0.8493\n",
            "Epoch 2/20\n",
            "1500/1500 [==============================] - 4s 3ms/step - loss: 0.3983 - accuracy: 0.8572 - val_loss: 0.3916 - val_accuracy: 0.8568\n",
            "Epoch 3/20\n",
            "1500/1500 [==============================] - 4s 3ms/step - loss: 0.3555 - accuracy: 0.8708 - val_loss: 0.3659 - val_accuracy: 0.8701\n",
            "Epoch 4/20\n",
            "1500/1500 [==============================] - 4s 3ms/step - loss: 0.3286 - accuracy: 0.8806 - val_loss: 0.3508 - val_accuracy: 0.8716\n",
            "Epoch 5/20\n",
            "1500/1500 [==============================] - 4s 2ms/step - loss: 0.3120 - accuracy: 0.8863 - val_loss: 0.3281 - val_accuracy: 0.8836\n",
            "Epoch 6/20\n",
            "1500/1500 [==============================] - 4s 3ms/step - loss: 0.2939 - accuracy: 0.8914 - val_loss: 0.3467 - val_accuracy: 0.8744\n",
            "Epoch 7/20\n",
            "1500/1500 [==============================] - 4s 3ms/step - loss: 0.2839 - accuracy: 0.8947 - val_loss: 0.3277 - val_accuracy: 0.8818\n",
            "Epoch 8/20\n",
            "1500/1500 [==============================] - 4s 3ms/step - loss: 0.2713 - accuracy: 0.8997 - val_loss: 0.3283 - val_accuracy: 0.8836\n",
            "Epoch 9/20\n",
            "1500/1500 [==============================] - 4s 3ms/step - loss: 0.2605 - accuracy: 0.9037 - val_loss: 0.3436 - val_accuracy: 0.8794\n",
            "Epoch 10/20\n",
            "1500/1500 [==============================] - 4s 3ms/step - loss: 0.2506 - accuracy: 0.9066 - val_loss: 0.3433 - val_accuracy: 0.8789\n",
            "Epoch 11/20\n",
            "1500/1500 [==============================] - 4s 3ms/step - loss: 0.2418 - accuracy: 0.9098 - val_loss: 0.3304 - val_accuracy: 0.8827\n",
            "Epoch 12/20\n",
            "1500/1500 [==============================] - 4s 2ms/step - loss: 0.2324 - accuracy: 0.9134 - val_loss: 0.3301 - val_accuracy: 0.8852\n",
            "Epoch 13/20\n",
            "1500/1500 [==============================] - 4s 2ms/step - loss: 0.2278 - accuracy: 0.9143 - val_loss: 0.3471 - val_accuracy: 0.8806\n",
            "Epoch 14/20\n",
            "1500/1500 [==============================] - 4s 3ms/step - loss: 0.2220 - accuracy: 0.9163 - val_loss: 0.3289 - val_accuracy: 0.8882\n",
            "Epoch 15/20\n",
            "1500/1500 [==============================] - 4s 2ms/step - loss: 0.2138 - accuracy: 0.9200 - val_loss: 0.3312 - val_accuracy: 0.8872\n",
            "Epoch 16/20\n",
            "1500/1500 [==============================] - 4s 3ms/step - loss: 0.2091 - accuracy: 0.9229 - val_loss: 0.3391 - val_accuracy: 0.8878\n",
            "Epoch 17/20\n",
            "1500/1500 [==============================] - 4s 2ms/step - loss: 0.2024 - accuracy: 0.9246 - val_loss: 0.3357 - val_accuracy: 0.8844\n",
            "Epoch 18/20\n",
            "1500/1500 [==============================] - 4s 3ms/step - loss: 0.1999 - accuracy: 0.9247 - val_loss: 0.3320 - val_accuracy: 0.8878\n",
            "Epoch 19/20\n",
            "1500/1500 [==============================] - 5s 3ms/step - loss: 0.1944 - accuracy: 0.9270 - val_loss: 0.3428 - val_accuracy: 0.8845\n",
            "Epoch 20/20\n",
            "1500/1500 [==============================] - 6s 4ms/step - loss: 0.1894 - accuracy: 0.9294 - val_loss: 0.3696 - val_accuracy: 0.8808\n"
          ]
        },
        {
          "output_type": "display_data",
          "data": {
            "text/plain": [
              "<Figure size 432x288 with 1 Axes>"
            ],
            "image/png": "[encoded data removed]"
          },
          "metadata": {
            "needs_background": "light"
          }
        }
      ]
    },
    {
      "cell_type": "code",
      "source": [
        "# learning rate 조절\n",
        "# Adam learning_rate 기본값 : 0.001\n",
        "model = model_fn()\n",
        "model.compile(optimizer=keras.optimizers.Adam(learning_rate=0.0001), loss='sparse_categorical_crossentropy', metrics='accuracy')\n",
        "history = model.fit(train_scaled, train_target, epochs=20, verbose=1,\n",
        "                    validation_data = (val_scaled, val_target))\n",
        "plt.plot(history.history['loss'])\n",
        "plt.plot(history.history['val_loss'])\n",
        "plt.xlabel('epoch')\n",
        "plt.ylabel('loss')\n",
        "plt.legend(['train', 'val'])\n",
        "plt.show()"
      ],
      "metadata": {
        "colab": {
          "base_uri": "https://localhost:8080/",
          "height": 1000
        },
        "id": "JTOuQP9Vvhdp",
        "outputId": "6f02be7d-e8ff-4e86-b3f0-003aaa6faea5"
      },
      "execution_count": 13,
      "outputs": [
        {
          "output_type": "stream",
          "name": "stdout",
          "text": [
            "Epoch 1/20\n",
            "1500/1500 [==============================] - 4s 3ms/step - loss: 0.7851 - accuracy: 0.7468 - val_loss: 0.5706 - val_accuracy: 0.8115\n",
            "Epoch 2/20\n",
            "1500/1500 [==============================] - 4s 3ms/step - loss: 0.5170 - accuracy: 0.8279 - val_loss: 0.4946 - val_accuracy: 0.8285\n",
            "Epoch 3/20\n",
            "1500/1500 [==============================] - 4s 3ms/step - loss: 0.4664 - accuracy: 0.8410 - val_loss: 0.4613 - val_accuracy: 0.8405\n",
            "Epoch 4/20\n",
            "1500/1500 [==============================] - 4s 2ms/step - loss: 0.4386 - accuracy: 0.8511 - val_loss: 0.4514 - val_accuracy: 0.8450\n",
            "Epoch 5/20\n",
            "1500/1500 [==============================] - 4s 3ms/step - loss: 0.4194 - accuracy: 0.8554 - val_loss: 0.4218 - val_accuracy: 0.8533\n",
            "Epoch 6/20\n",
            "1500/1500 [==============================] - 4s 2ms/step - loss: 0.4043 - accuracy: 0.8605 - val_loss: 0.4157 - val_accuracy: 0.8559\n",
            "Epoch 7/20\n",
            "1500/1500 [==============================] - 4s 3ms/step - loss: 0.3927 - accuracy: 0.8647 - val_loss: 0.4169 - val_accuracy: 0.8527\n",
            "Epoch 8/20\n",
            "1500/1500 [==============================] - 4s 2ms/step - loss: 0.3818 - accuracy: 0.8679 - val_loss: 0.4019 - val_accuracy: 0.8575\n",
            "Epoch 9/20\n",
            "1500/1500 [==============================] - 4s 2ms/step - loss: 0.3731 - accuracy: 0.8692 - val_loss: 0.3895 - val_accuracy: 0.8633\n",
            "Epoch 10/20\n",
            "1500/1500 [==============================] - 4s 3ms/step - loss: 0.3643 - accuracy: 0.8733 - val_loss: 0.3830 - val_accuracy: 0.8646\n",
            "Epoch 11/20\n",
            "1500/1500 [==============================] - 4s 2ms/step - loss: 0.3578 - accuracy: 0.8752 - val_loss: 0.3764 - val_accuracy: 0.8670\n",
            "Epoch 12/20\n",
            "1500/1500 [==============================] - 4s 2ms/step - loss: 0.3504 - accuracy: 0.8772 - val_loss: 0.3741 - val_accuracy: 0.8688\n",
            "Epoch 13/20\n",
            "1500/1500 [==============================] - 4s 3ms/step - loss: 0.3450 - accuracy: 0.8787 - val_loss: 0.3699 - val_accuracy: 0.8707\n",
            "Epoch 14/20\n",
            "1500/1500 [==============================] - 4s 2ms/step - loss: 0.3391 - accuracy: 0.8809 - val_loss: 0.3656 - val_accuracy: 0.8713\n",
            "Epoch 15/20\n",
            "1500/1500 [==============================] - 4s 3ms/step - loss: 0.3329 - accuracy: 0.8834 - val_loss: 0.3596 - val_accuracy: 0.8731\n",
            "Epoch 16/20\n",
            "1500/1500 [==============================] - 5s 4ms/step - loss: 0.3288 - accuracy: 0.8836 - val_loss: 0.3586 - val_accuracy: 0.8742\n",
            "Epoch 17/20\n",
            "1500/1500 [==============================] - 4s 3ms/step - loss: 0.3237 - accuracy: 0.8857 - val_loss: 0.3547 - val_accuracy: 0.8759\n",
            "Epoch 18/20\n",
            "1500/1500 [==============================] - 5s 3ms/step - loss: 0.3199 - accuracy: 0.8866 - val_loss: 0.3491 - val_accuracy: 0.8758\n",
            "Epoch 19/20\n",
            "1500/1500 [==============================] - 5s 4ms/step - loss: 0.3151 - accuracy: 0.8886 - val_loss: 0.3512 - val_accuracy: 0.8766\n",
            "Epoch 20/20\n",
            "1500/1500 [==============================] - 5s 3ms/step - loss: 0.3113 - accuracy: 0.8909 - val_loss: 0.3485 - val_accuracy: 0.8762\n"
          ]
        },
        {
          "output_type": "display_data",
          "data": {
            "text/plain": [
              "<Figure size 432x288 with 1 Axes>"
            ],
            "image/png": "[encoded data removed]"
          },
          "metadata": {
            "needs_background": "light"
          }
        }
      ]
    },
    {
      "cell_type": "markdown",
      "source": [
        "## 드롭아웃 : Dropout\n",
        "* 과대적합을 막기 위해서 일부 뉴런을 랜덤하게 출력을 0으로 만든다.\n",
        "* 케라스에서는 모델 평가와 예측에서는 자동으로 드롭아웃을 적용하지 않는다."
      ],
      "metadata": {
        "id": "Tg31a7zwwK2Z"
      }
    },
    {
      "cell_type": "code",
      "source": [
        "model = model_fn(keras.layers.Dropout(0.3))\n",
        "model.summary()"
      ],
      "metadata": {
        "colab": {
          "base_uri": "https://localhost:8080/"
        },
        "id": "-yc2uBj_wrXj",
        "outputId": "880c385a-591a-4b5b-aaf0-045cc10d582c"
      },
      "execution_count": 14,
      "outputs": [
        {
          "output_type": "stream",
          "name": "stdout",
          "text": [
            "Model: \"sequential_5\"\n",
            "_________________________________________________________________\n",
            " Layer (type)                Output Shape              Param #   \n",
            "=================================================================\n",
            " flatten_5 (Flatten)         (None, 784)               0         \n",
            "                                                                 \n",
            " dense_10 (Dense)            (None, 100)               78500     \n",
            "                                                                 \n",
            " dropout (Dropout)           (None, 100)               0         \n",
            "                                                                 \n",
            " dense_11 (Dense)            (None, 10)                1010      \n",
            "                                                                 \n",
            "=================================================================\n",
            "Total params: 79,510\n",
            "Trainable params: 79,510\n",
            "Non-trainable params: 0\n",
            "_________________________________________________________________\n"
          ]
        }
      ]
    },
    {
      "cell_type": "code",
      "source": [
        "# 훈련 손실 검증 손실 그래프\n",
        "model.compile(optimizer='adam', loss='sparse_categorical_crossentropy', metrics='accuracy')\n",
        "history = model.fit(train_scaled, train_target, epochs=20, verbose=1,\n",
        "                    validation_data = (val_scaled, val_target))\n",
        "plt.plot(history.history['loss'])\n",
        "plt.plot(history.history['val_loss'])\n",
        "plt.xlabel('epoch')\n",
        "plt.ylabel('loss')\n",
        "plt.legend(['train', 'val'])\n",
        "plt.show()"
      ],
      "metadata": {
        "colab": {
          "base_uri": "https://localhost:8080/",
          "height": 1000
        },
        "id": "CXdGX6ifwvmh",
        "outputId": "b4360d4b-0590-48be-ba56-a1438b8d12a1"
      },
      "execution_count": 16,
      "outputs": [
        {
          "output_type": "stream",
          "name": "stdout",
          "text": [
            "Epoch 1/20\n",
            "1500/1500 [==============================] - 4s 3ms/step - loss: 0.5944 - accuracy: 0.7903 - val_loss: 0.4369 - val_accuracy: 0.8414\n",
            "Epoch 2/20\n",
            "1500/1500 [==============================] - 4s 2ms/step - loss: 0.4423 - accuracy: 0.8420 - val_loss: 0.3825 - val_accuracy: 0.8617\n",
            "Epoch 3/20\n",
            "1500/1500 [==============================] - 4s 2ms/step - loss: 0.4069 - accuracy: 0.8542 - val_loss: 0.3610 - val_accuracy: 0.8723\n",
            "Epoch 4/20\n",
            "1500/1500 [==============================] - 4s 3ms/step - loss: 0.3815 - accuracy: 0.8608 - val_loss: 0.3624 - val_accuracy: 0.8682\n",
            "Epoch 5/20\n",
            "1500/1500 [==============================] - 4s 3ms/step - loss: 0.3687 - accuracy: 0.8665 - val_loss: 0.3555 - val_accuracy: 0.8693\n",
            "Epoch 6/20\n",
            "1500/1500 [==============================] - 4s 3ms/step - loss: 0.3551 - accuracy: 0.8688 - val_loss: 0.3413 - val_accuracy: 0.8744\n",
            "Epoch 7/20\n",
            "1500/1500 [==============================] - 4s 3ms/step - loss: 0.3415 - accuracy: 0.8731 - val_loss: 0.3452 - val_accuracy: 0.8754\n",
            "Epoch 8/20\n",
            "1500/1500 [==============================] - 5s 3ms/step - loss: 0.3356 - accuracy: 0.8754 - val_loss: 0.3507 - val_accuracy: 0.8708\n",
            "Epoch 9/20\n",
            "1500/1500 [==============================] - 4s 2ms/step - loss: 0.3256 - accuracy: 0.8795 - val_loss: 0.3297 - val_accuracy: 0.8832\n",
            "Epoch 10/20\n",
            "1500/1500 [==============================] - 4s 3ms/step - loss: 0.3233 - accuracy: 0.8793 - val_loss: 0.3239 - val_accuracy: 0.8830\n",
            "Epoch 11/20\n",
            "1500/1500 [==============================] - 5s 3ms/step - loss: 0.3143 - accuracy: 0.8833 - val_loss: 0.3258 - val_accuracy: 0.8836\n",
            "Epoch 12/20\n",
            "1500/1500 [==============================] - 4s 3ms/step - loss: 0.3093 - accuracy: 0.8864 - val_loss: 0.3313 - val_accuracy: 0.8827\n",
            "Epoch 13/20\n",
            "1500/1500 [==============================] - 4s 2ms/step - loss: 0.3023 - accuracy: 0.8879 - val_loss: 0.3284 - val_accuracy: 0.8857\n",
            "Epoch 14/20\n",
            "1500/1500 [==============================] - 4s 2ms/step - loss: 0.2968 - accuracy: 0.8885 - val_loss: 0.3193 - val_accuracy: 0.8854\n",
            "Epoch 15/20\n",
            "1500/1500 [==============================] - 4s 2ms/step - loss: 0.2915 - accuracy: 0.8905 - val_loss: 0.3302 - val_accuracy: 0.8853\n",
            "Epoch 16/20\n",
            "1500/1500 [==============================] - 4s 3ms/step - loss: 0.2915 - accuracy: 0.8908 - val_loss: 0.3128 - val_accuracy: 0.8868\n",
            "Epoch 17/20\n",
            "1500/1500 [==============================] - 4s 3ms/step - loss: 0.2869 - accuracy: 0.8921 - val_loss: 0.3245 - val_accuracy: 0.8852\n",
            "Epoch 18/20\n",
            "1500/1500 [==============================] - 5s 3ms/step - loss: 0.2812 - accuracy: 0.8942 - val_loss: 0.3350 - val_accuracy: 0.8819\n",
            "Epoch 19/20\n",
            "1500/1500 [==============================] - 4s 3ms/step - loss: 0.2777 - accuracy: 0.8937 - val_loss: 0.3187 - val_accuracy: 0.8864\n",
            "Epoch 20/20\n",
            "1500/1500 [==============================] - 4s 3ms/step - loss: 0.2768 - accuracy: 0.8954 - val_loss: 0.3282 - val_accuracy: 0.8853\n"
          ]
        },
        {
          "output_type": "display_data",
          "data": {
            "text/plain": [
              "<Figure size 432x288 with 1 Axes>"
            ],
            "image/png": "[encoded data removed]"
          },
          "metadata": {
            "needs_background": "light"
          }
        }
      ]
    },
    {
      "cell_type": "markdown",
      "source": [
        "# 모델 저장과 복원\n",
        "* save_weights() 메서드 : 훈련된 모델의 파라미터를 저장\n",
        "* save() 메서드 : 모델 구조와 모델 파라미터를 함께 저장\n",
        "* 확장자가 h5일 경우 HDF5 포맷으로 저장"
      ],
      "metadata": {
        "id": "3FPF-l9mxIK4"
      }
    },
    {
      "cell_type": "code",
      "source": [
        "model = model_fn(keras.layers.Dropout(0.3))\n",
        "model.compile(optimizer='adam', loss='sparse_categorical_crossentropy', metrics='accuracy')\n",
        "history = model.fit(train_scaled, train_target, epochs=10, verbose=1,\n",
        "                    validation_data = (val_scaled, val_target))"
      ],
      "metadata": {
        "colab": {
          "base_uri": "https://localhost:8080/"
        },
        "id": "lWGNqAi9xaKb",
        "outputId": "0f761dd4-aca4-4359-9e10-c8a2230c4b29"
      },
      "execution_count": 17,
      "outputs": [
        {
          "output_type": "stream",
          "name": "stdout",
          "text": [
            "Epoch 1/10\n",
            "1500/1500 [==============================] - 4s 3ms/step - loss: 0.5945 - accuracy: 0.7899 - val_loss: 0.4244 - val_accuracy: 0.8480\n",
            "Epoch 2/10\n",
            "1500/1500 [==============================] - 5s 3ms/step - loss: 0.4378 - accuracy: 0.8425 - val_loss: 0.3900 - val_accuracy: 0.8532\n",
            "Epoch 3/10\n",
            "1500/1500 [==============================] - 4s 3ms/step - loss: 0.4039 - accuracy: 0.8520 - val_loss: 0.3790 - val_accuracy: 0.8630\n",
            "Epoch 4/10\n",
            "1500/1500 [==============================] - 4s 3ms/step - loss: 0.3798 - accuracy: 0.8626 - val_loss: 0.3610 - val_accuracy: 0.8668\n",
            "Epoch 5/10\n",
            "1500/1500 [==============================] - 4s 3ms/step - loss: 0.3670 - accuracy: 0.8662 - val_loss: 0.3449 - val_accuracy: 0.8727\n",
            "Epoch 6/10\n",
            "1500/1500 [==============================] - 7s 4ms/step - loss: 0.3543 - accuracy: 0.8694 - val_loss: 0.3465 - val_accuracy: 0.8742\n",
            "Epoch 7/10\n",
            "1500/1500 [==============================] - 4s 3ms/step - loss: 0.3424 - accuracy: 0.8731 - val_loss: 0.3309 - val_accuracy: 0.8813\n",
            "Epoch 8/10\n",
            "1500/1500 [==============================] - 4s 2ms/step - loss: 0.3357 - accuracy: 0.8766 - val_loss: 0.3225 - val_accuracy: 0.8802\n",
            "Epoch 9/10\n",
            "1500/1500 [==============================] - 4s 3ms/step - loss: 0.3238 - accuracy: 0.8796 - val_loss: 0.3245 - val_accuracy: 0.8835\n",
            "Epoch 10/10\n",
            "1500/1500 [==============================] - 4s 3ms/step - loss: 0.3203 - accuracy: 0.8808 - val_loss: 0.3419 - val_accuracy: 0.8770\n"
          ]
        }
      ]
    },
    {
      "cell_type": "code",
      "source": [
        "model.save_weights('model-weights.h5')"
      ],
      "metadata": {
        "id": "FGOD5_Bpxlp_"
      },
      "execution_count": 18,
      "outputs": []
    },
    {
      "cell_type": "code",
      "source": [
        "model.save('model-whole.h5')"
      ],
      "metadata": {
        "id": "1U3wh7zPx66E"
      },
      "execution_count": 19,
      "outputs": []
    },
    {
      "cell_type": "code",
      "source": [
        "!ls -al *.h5"
      ],
      "metadata": {
        "colab": {
          "base_uri": "https://localhost:8080/"
        },
        "id": "H_bYB5fDx9kZ",
        "outputId": "fe9146df-10dc-400e-dd6d-d9872c03f56a"
      },
      "execution_count": 20,
      "outputs": [
        {
          "output_type": "stream",
          "name": "stdout",
          "text": [
            "-rw-r--r-- 1 root root 333448 Jan 24 07:56 model-weights.h5\n",
            "-rw-r--r-- 1 root root 982664 Jan 24 07:57 model-whole.h5\n"
          ]
        }
      ]
    },
    {
      "cell_type": "markdown",
      "source": [
        "### 모델 파라미터 불러와서 사용\n",
        "* load_weights : 모델의 구조가 정확히 같은 구조를 가져야 한다."
      ],
      "metadata": {
        "id": "gfvgVqIjyfAY"
      }
    },
    {
      "cell_type": "code",
      "source": [
        "model = model_fn(keras.layers.Dropout(0.3))\n",
        "model.load_weights('model-weights.h5')"
      ],
      "metadata": {
        "id": "gOlcAZf7yHCJ"
      },
      "execution_count": 22,
      "outputs": []
    },
    {
      "cell_type": "code",
      "source": [
        "# 모델 검증 정확도 확인\n",
        "import numpy as np\n",
        "val_labels = np.argmax(model.predict(val_scaled), axis=-1)\n",
        "print(np.mean(val_labels == val_target))"
      ],
      "metadata": {
        "colab": {
          "base_uri": "https://localhost:8080/"
        },
        "id": "9MWhu6S_yQXG",
        "outputId": "b7c03ddb-25a0-4b51-c53e-6245b3b50d73"
      },
      "execution_count": 23,
      "outputs": [
        {
          "output_type": "stream",
          "name": "stdout",
          "text": [
            "375/375 [==============================] - 1s 2ms/step\n",
            "0.877\n"
          ]
        }
      ]
    },
    {
      "cell_type": "markdown",
      "source": [
        "### 모델 전체 불러와서 확인\n",
        "* load_model() : 모델 파라미터 뿐 아니라 모델 구조와 옵티마이저까지 모두 복원하기 때문에 evaluate() 메서드 사용 가능\n",
        "* tensorflow 2.3에서는 load_model()의 버그 때문에 evaluate() 메서드를 사용하기 전에 compile() 메서드를 호출해야 함"
      ],
      "metadata": {
        "id": "FHRmCfc2y3-O"
      }
    },
    {
      "cell_type": "code",
      "source": [
        "model = keras.models.load_model('model-whole.h5')\n",
        "model.evaluate(val_scaled, val_target)"
      ],
      "metadata": {
        "colab": {
          "base_uri": "https://localhost:8080/"
        },
        "id": "Vdqvu7shzGn4",
        "outputId": "7c9acf17-1b9c-4030-9e5d-76b69d53df72"
      },
      "execution_count": 25,
      "outputs": [
        {
          "output_type": "stream",
          "name": "stdout",
          "text": [
            "375/375 [==============================] - 1s 2ms/step - loss: 0.3419 - accuracy: 0.8770\n"
          ]
        },
        {
          "output_type": "execute_result",
          "data": {
            "text/plain": [
              "[0.3418692350387573, 0.8769999742507935]"
            ]
          },
          "metadata": {},
          "execution_count": 25
        }
      ]
    },
    {
      "cell_type": "markdown",
      "source": [
        "## 콜백 : Callbacks\n",
        "* 콜백은 훈련 과정 중간에 어떤 작업을 수행할 수 있게 하는 객체\n",
        "* 기본적으로 에포크마다 모델을 저장\n",
        "* save_best_only=True 매개변수를 지정하여 가장 낮은 검증 점수를 만드는 모델 저장 가능\n",
        "* 저장될 파일 이름 설정\n",
        "* 콜백을 이용하여 훈련 중 그래프 그리기 가능"
      ],
      "metadata": {
        "id": "a_p06y6QzLwt"
      }
    },
    {
      "cell_type": "code",
      "source": [
        "model = model_fn(keras.layers.Dropout(0.3))\n",
        "model.compile(optimizer='adam', loss='sparse_categorical_crossentropy', metrics='accuracy')\n",
        "# 콜백\n",
        "checkpoint_cb = keras.callbacks.ModelCheckpoint('best-model.h5', save_best_only=True)\n",
        "model.fit(train_scaled, train_target, epochs=20, verbose=1,\n",
        "          validation_data=(val_scaled, val_target), callbacks=[checkpoint_cb])"
      ],
      "metadata": {
        "colab": {
          "base_uri": "https://localhost:8080/"
        },
        "id": "4G7GvC2JzjU8",
        "outputId": "dff50c40-b532-428a-d396-15312a9fd39d"
      },
      "execution_count": 27,
      "outputs": [
        {
          "output_type": "stream",
          "name": "stdout",
          "text": [
            "Epoch 1/20\n",
            "1500/1500 [==============================] - 5s 3ms/step - loss: 0.5934 - accuracy: 0.7912 - val_loss: 0.4525 - val_accuracy: 0.8357\n",
            "Epoch 2/20\n",
            "1500/1500 [==============================] - 6s 4ms/step - loss: 0.4410 - accuracy: 0.8419 - val_loss: 0.3784 - val_accuracy: 0.8609\n",
            "Epoch 3/20\n",
            "1500/1500 [==============================] - 5s 3ms/step - loss: 0.4034 - accuracy: 0.8535 - val_loss: 0.3853 - val_accuracy: 0.8604\n",
            "Epoch 4/20\n",
            "1500/1500 [==============================] - 6s 4ms/step - loss: 0.3833 - accuracy: 0.8599 - val_loss: 0.3612 - val_accuracy: 0.8662\n",
            "Epoch 5/20\n",
            "1500/1500 [==============================] - 7s 5ms/step - loss: 0.3645 - accuracy: 0.8653 - val_loss: 0.3504 - val_accuracy: 0.8732\n",
            "Epoch 6/20\n",
            "1500/1500 [==============================] - 4s 3ms/step - loss: 0.3506 - accuracy: 0.8711 - val_loss: 0.3492 - val_accuracy: 0.8746\n",
            "Epoch 7/20\n",
            "1500/1500 [==============================] - 4s 3ms/step - loss: 0.3412 - accuracy: 0.8745 - val_loss: 0.3496 - val_accuracy: 0.8689\n",
            "Epoch 8/20\n",
            "1500/1500 [==============================] - 4s 3ms/step - loss: 0.3337 - accuracy: 0.8765 - val_loss: 0.3252 - val_accuracy: 0.8833\n",
            "Epoch 9/20\n",
            "1500/1500 [==============================] - 4s 3ms/step - loss: 0.3255 - accuracy: 0.8783 - val_loss: 0.3235 - val_accuracy: 0.8818\n",
            "Epoch 10/20\n",
            "1500/1500 [==============================] - 4s 3ms/step - loss: 0.3194 - accuracy: 0.8834 - val_loss: 0.3343 - val_accuracy: 0.8813\n",
            "Epoch 11/20\n",
            "1500/1500 [==============================] - 4s 3ms/step - loss: 0.3134 - accuracy: 0.8849 - val_loss: 0.3185 - val_accuracy: 0.8856\n",
            "Epoch 12/20\n",
            "1500/1500 [==============================] - 4s 3ms/step - loss: 0.3061 - accuracy: 0.8848 - val_loss: 0.3260 - val_accuracy: 0.8831\n",
            "Epoch 13/20\n",
            "1500/1500 [==============================] - 5s 3ms/step - loss: 0.3040 - accuracy: 0.8860 - val_loss: 0.3224 - val_accuracy: 0.8848\n",
            "Epoch 14/20\n",
            "1500/1500 [==============================] - 5s 3ms/step - loss: 0.2966 - accuracy: 0.8887 - val_loss: 0.3232 - val_accuracy: 0.8852\n",
            "Epoch 15/20\n",
            "1500/1500 [==============================] - 4s 3ms/step - loss: 0.2939 - accuracy: 0.8901 - val_loss: 0.3183 - val_accuracy: 0.8870\n",
            "Epoch 16/20\n",
            "1500/1500 [==============================] - 5s 3ms/step - loss: 0.2902 - accuracy: 0.8921 - val_loss: 0.3261 - val_accuracy: 0.8857\n",
            "Epoch 17/20\n",
            "1500/1500 [==============================] - 4s 3ms/step - loss: 0.2859 - accuracy: 0.8910 - val_loss: 0.3249 - val_accuracy: 0.8882\n",
            "Epoch 18/20\n",
            "1500/1500 [==============================] - 5s 3ms/step - loss: 0.2804 - accuracy: 0.8928 - val_loss: 0.3301 - val_accuracy: 0.8873\n",
            "Epoch 19/20\n",
            "1500/1500 [==============================] - 4s 3ms/step - loss: 0.2776 - accuracy: 0.8945 - val_loss: 0.3277 - val_accuracy: 0.8849\n",
            "Epoch 20/20\n",
            "1500/1500 [==============================] - 4s 3ms/step - loss: 0.2756 - accuracy: 0.8969 - val_loss: 0.3215 - val_accuracy: 0.8888\n"
          ]
        },
        {
          "output_type": "execute_result",
          "data": {
            "text/plain": [
              "<keras.callbacks.History at 0x7f099719b250>"
            ]
          },
          "metadata": {},
          "execution_count": 27
        }
      ]
    },
    {
      "cell_type": "code",
      "source": [
        "model = keras.models.load_model('best-model.h5')\n",
        "model.evaluate(val_scaled, val_target)"
      ],
      "metadata": {
        "colab": {
          "base_uri": "https://localhost:8080/"
        },
        "id": "q8NZ9f2k1KJH",
        "outputId": "9fe55dac-0130-4a38-9c1f-c8844fb67a38"
      },
      "execution_count": 28,
      "outputs": [
        {
          "output_type": "stream",
          "name": "stdout",
          "text": [
            "375/375 [==============================] - 1s 2ms/step - loss: 0.3183 - accuracy: 0.8870\n"
          ]
        },
        {
          "output_type": "execute_result",
          "data": {
            "text/plain": [
              "[0.3182695209980011, 0.8870000243186951]"
            ]
          },
          "metadata": {},
          "execution_count": 28
        }
      ]
    },
    {
      "cell_type": "markdown",
      "source": [
        "## 조기 종료 : EarlyStopping\n",
        "* 과대적합이 시작되기 전에 훈련을 미리 중지하는 것\n",
        "* EarlyStopping 콜백과 ModelCheckpoint 콜백을 함께 사용하면 가장 낮은 검증 손실의 모델을 저장하고 검증 손실이 다시 상승할 때 훈련ㅇ르 중지할 수 있다."
      ],
      "metadata": {
        "id": "hfYUgjg61kYn"
      }
    },
    {
      "cell_type": "code",
      "source": [
        "model = model_fn(keras.layers.Dropout(0.3))\n",
        "model.compile(optimizer='adam', loss='sparse_categorical_crossentropy', metrics='accuracy')\n",
        "\n",
        "checkpoint_cb = keras.callbacks.ModelCheckpoint('best-model.h5', save_best_only=True)\n",
        "early_stopping_cb = keras.callbacks.EarlyStopping(patience=2, restore_best_weights=True)\n",
        "\n",
        "history = model.fit(train_scaled, train_target, epochs=20, verbose=1,\n",
        "                    validation_data=(val_scaled, val_target),\n",
        "                    callbacks=[checkpoint_cb, early_stopping_cb])"
      ],
      "metadata": {
        "colab": {
          "base_uri": "https://localhost:8080/"
        },
        "id": "ZydRFm5r1lnT",
        "outputId": "56c5642b-d3e9-4c15-92f1-b109f999917b"
      },
      "execution_count": 29,
      "outputs": [
        {
          "output_type": "stream",
          "name": "stdout",
          "text": [
            "Epoch 1/20\n",
            "1500/1500 [==============================] - 4s 3ms/step - loss: 0.5941 - accuracy: 0.7892 - val_loss: 0.4280 - val_accuracy: 0.8448\n",
            "Epoch 2/20\n",
            "1500/1500 [==============================] - 4s 3ms/step - loss: 0.4398 - accuracy: 0.8424 - val_loss: 0.3814 - val_accuracy: 0.8606\n",
            "Epoch 3/20\n",
            "1500/1500 [==============================] - 4s 3ms/step - loss: 0.4095 - accuracy: 0.8510 - val_loss: 0.3673 - val_accuracy: 0.8648\n",
            "Epoch 4/20\n",
            "1500/1500 [==============================] - 4s 3ms/step - loss: 0.3832 - accuracy: 0.8601 - val_loss: 0.3747 - val_accuracy: 0.8588\n",
            "Epoch 5/20\n",
            "1500/1500 [==============================] - 5s 3ms/step - loss: 0.3705 - accuracy: 0.8646 - val_loss: 0.3579 - val_accuracy: 0.8714\n",
            "Epoch 6/20\n",
            "1500/1500 [==============================] - 6s 4ms/step - loss: 0.3550 - accuracy: 0.8697 - val_loss: 0.3394 - val_accuracy: 0.8758\n",
            "Epoch 7/20\n",
            "1500/1500 [==============================] - 6s 4ms/step - loss: 0.3414 - accuracy: 0.8743 - val_loss: 0.3331 - val_accuracy: 0.8764\n",
            "Epoch 8/20\n",
            "1500/1500 [==============================] - 5s 3ms/step - loss: 0.3344 - accuracy: 0.8767 - val_loss: 0.3442 - val_accuracy: 0.8717\n",
            "Epoch 9/20\n",
            "1500/1500 [==============================] - 4s 3ms/step - loss: 0.3286 - accuracy: 0.8795 - val_loss: 0.3282 - val_accuracy: 0.8792\n",
            "Epoch 10/20\n",
            "1500/1500 [==============================] - 4s 3ms/step - loss: 0.3200 - accuracy: 0.8814 - val_loss: 0.3291 - val_accuracy: 0.8788\n",
            "Epoch 11/20\n",
            "1500/1500 [==============================] - 4s 3ms/step - loss: 0.3098 - accuracy: 0.8851 - val_loss: 0.3329 - val_accuracy: 0.8801\n"
          ]
        }
      ]
    },
    {
      "cell_type": "code",
      "source": [
        "print(early_stopping_cb.stopped_epoch)"
      ],
      "metadata": {
        "colab": {
          "base_uri": "https://localhost:8080/"
        },
        "id": "n73jqLM82tYR",
        "outputId": "735ce0ac-fb6d-4889-d51d-f4649c8f79ca"
      },
      "execution_count": 30,
      "outputs": [
        {
          "output_type": "stream",
          "name": "stdout",
          "text": [
            "10\n"
          ]
        }
      ]
    },
    {
      "cell_type": "code",
      "source": [
        "plt.plot(history.history['loss'])\n",
        "plt.plot(history.history['val_loss'])\n",
        "plt.xlabel('epoch')\n",
        "plt.ylabel('loss')\n",
        "plt.legend(['train', 'val'])\n",
        "plt.show()"
      ],
      "metadata": {
        "colab": {
          "base_uri": "https://localhost:8080/",
          "height": 279
        },
        "id": "P2tzW3po20-p",
        "outputId": "d6369394-fc09-4b9d-ff50-a2409c65cb1d"
      },
      "execution_count": 31,
      "outputs": [
        {
          "output_type": "display_data",
          "data": {
            "text/plain": [
              "<Figure size 432x288 with 1 Axes>"
            ],
            "image/png": "[encoded data removed]"
          },
          "metadata": {
            "needs_background": "light"
          }
        }
      ]
    },
    {
      "cell_type": "code",
      "source": [
        "model.evaluate(val_scaled, val_target)"
      ],
      "metadata": {
        "colab": {
          "base_uri": "https://localhost:8080/"
        },
        "id": "kVNNtWId3Ofh",
        "outputId": "d2c0eeba-a192-4449-9e3b-7aa9acc07ffa"
      },
      "execution_count": 32,
      "outputs": [
        {
          "output_type": "stream",
          "name": "stdout",
          "text": [
            "375/375 [==============================] - 1s 2ms/step - loss: 0.3282 - accuracy: 0.8792\n"
          ]
        },
        {
          "output_type": "execute_result",
          "data": {
            "text/plain": [
              "[0.3281634449958801, 0.8791666626930237]"
            ]
          },
          "metadata": {},
          "execution_count": 32
        }
      ]
    },
    {
      "cell_type": "code",
      "source": [],
      "metadata": {
        "id": "ZBHSwpZy3cC9"
      },
      "execution_count": null,
      "outputs": []
    }
  ]
}