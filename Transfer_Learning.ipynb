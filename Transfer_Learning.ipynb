{
  "nbformat": 4,
  "nbformat_minor": 0,
  "metadata": {
    "colab": {
      "provenance": [],
      "authorship_tag": "ABX9TyMmrdM1nKJQ24GdoHVlPxpM",
      "include_colab_link": true
    },
    "kernelspec": {
      "name": "python3",
      "display_name": "Python 3"
    },
    "language_info": {
      "name": "python"
    },
    "accelerator": "GPU",
    "gpuClass": "standard"
  },
  "cells": [
    {
      "cell_type": "markdown",
      "metadata": {
        "id": "view-in-github",
        "colab_type": "text"
      },
      "source": [
        "<a href=\"https://colab.research.google.com/github/Byeon-MJ/DL_Practice_Repo/blob/main/Transfer_Learning.ipynb\" target=\"_parent\"><img src=\"https://colab.research.google.com/assets/colab-badge.svg\" alt=\"Open In Colab\"/></a>"
      ]
    },
    {
      "cell_type": "markdown",
      "source": [
        "# 전이 학습"
      ],
      "metadata": {
        "id": "AMT5SaZ8nysg"
      }
    },
    {
      "cell_type": "code",
      "execution_count": 2,
      "metadata": {
        "id": "0Hrl2VvUmuHu"
      },
      "outputs": [],
      "source": [
        "import tensorflow as tf\n",
        "import numpy as np\n",
        "import matplotlib.pyplot as plt\n",
        "\n",
        "from keras.preprocessing.image import ImageDataGenerator\n",
        "from keras import Input, models, layers, optimizers, metrics\n",
        "from keras.layers import Dense, Flatten\n",
        "from keras.applications import VGG16"
      ]
    },
    {
      "cell_type": "code",
      "source": [
        "from google.colab import drive\n",
        "drive.mount('/content/gdrive')"
      ],
      "metadata": {
        "colab": {
          "base_uri": "https://localhost:8080/"
        },
        "id": "ZXcaaKRDns43",
        "outputId": "15f04a94-6a33-45d3-fe98-ec4c69e2c37c"
      },
      "execution_count": 4,
      "outputs": [
        {
          "output_type": "stream",
          "name": "stdout",
          "text": [
            "Mounted at /content/gdrive\n"
          ]
        }
      ]
    },
    {
      "cell_type": "markdown",
      "source": [
        "## 데이터셋 준비"
      ],
      "metadata": {
        "id": "lUdCdp84oS7U"
      }
    },
    {
      "cell_type": "code",
      "source": [
        "train_datagen = ImageDataGenerator(rescale=1./255,\n",
        "                                   horizontal_flip=True,\n",
        "                                   width_shift_range=0.1,\n",
        "                                   height_shift_range=0.1,\n",
        "                                   fill_mode='nearest')\n",
        "\n",
        "train_generator = train_datagen.flow_from_directory(\n",
        "    \"/content/gdrive/MyDrive/Study/Everyone's DeepLearning/run_project/train\",\n",
        "    target_size=(150, 150),\n",
        "    batch_size=5,\n",
        "    class_mode='binary')"
      ],
      "metadata": {
        "colab": {
          "base_uri": "https://localhost:8080/"
        },
        "id": "srjEF2pwnWBB",
        "outputId": "932e3739-0e39-49ef-d4ee-c8a287b4cc8d"
      },
      "execution_count": 5,
      "outputs": [
        {
          "output_type": "stream",
          "name": "stdout",
          "text": [
            "Found 160 images belonging to 2 classes.\n"
          ]
        }
      ]
    },
    {
      "cell_type": "code",
      "source": [
        "test_datagen = ImageDataGenerator(rescale=1./255,\n",
        "                                  horizontal_flip=True,\n",
        "                                  width_shift_range=0.1,\n",
        "                                  height_shift_range=0.1,\n",
        "                                  fill_mode='nearest')\n",
        "\n",
        "test_generator = test_datagen.flow_from_directory(\n",
        "    \"/content/gdrive/MyDrive/Study/Everyone's DeepLearning/run_project/test\",\n",
        "    target_size=(150, 150),\n",
        "    batch_size=5,\n",
        "    class_mode='binary')"
      ],
      "metadata": {
        "colab": {
          "base_uri": "https://localhost:8080/"
        },
        "id": "Z15K_NVzoRYs",
        "outputId": "56471daf-b0d2-4914-cd95-921e567122be"
      },
      "execution_count": 7,
      "outputs": [
        {
          "output_type": "stream",
          "name": "stdout",
          "text": [
            "Found 120 images belonging to 2 classes.\n"
          ]
        }
      ]
    },
    {
      "cell_type": "markdown",
      "source": [
        "## 모델 생성"
      ],
      "metadata": {
        "id": "FlbDxPVlorVx"
      }
    },
    {
      "cell_type": "code",
      "source": [
        "transfer_model = VGG16(weights='imagenet', include_top=False,\n",
        "                       input_shape=(150, 150, 3))\n",
        "transfer_model.trainable = False\n",
        "\n",
        "transfer_model.summary()"
      ],
      "metadata": {
        "colab": {
          "base_uri": "https://localhost:8080/"
        },
        "id": "lk7OJwcRovaq",
        "outputId": "04fa7578-2e1e-4dab-ef46-2dbbf6aa9ece"
      },
      "execution_count": 8,
      "outputs": [
        {
          "output_type": "stream",
          "name": "stdout",
          "text": [
            "Downloading data from https://storage.googleapis.com/tensorflow/keras-applications/vgg16/vgg16_weights_tf_dim_ordering_tf_kernels_notop.h5\n",
            "58889256/58889256 [==============================] - 2s 0us/step\n",
            "Model: \"vgg16\"\n",
            "_________________________________________________________________\n",
            " Layer (type)                Output Shape              Param #   \n",
            "=================================================================\n",
            " input_1 (InputLayer)        [(None, 150, 150, 3)]     0         \n",
            "                                                                 \n",
            " block1_conv1 (Conv2D)       (None, 150, 150, 64)      1792      \n",
            "                                                                 \n",
            " block1_conv2 (Conv2D)       (None, 150, 150, 64)      36928     \n",
            "                                                                 \n",
            " block1_pool (MaxPooling2D)  (None, 75, 75, 64)        0         \n",
            "                                                                 \n",
            " block2_conv1 (Conv2D)       (None, 75, 75, 128)       73856     \n",
            "                                                                 \n",
            " block2_conv2 (Conv2D)       (None, 75, 75, 128)       147584    \n",
            "                                                                 \n",
            " block2_pool (MaxPooling2D)  (None, 37, 37, 128)       0         \n",
            "                                                                 \n",
            " block3_conv1 (Conv2D)       (None, 37, 37, 256)       295168    \n",
            "                                                                 \n",
            " block3_conv2 (Conv2D)       (None, 37, 37, 256)       590080    \n",
            "                                                                 \n",
            " block3_conv3 (Conv2D)       (None, 37, 37, 256)       590080    \n",
            "                                                                 \n",
            " block3_pool (MaxPooling2D)  (None, 18, 18, 256)       0         \n",
            "                                                                 \n",
            " block4_conv1 (Conv2D)       (None, 18, 18, 512)       1180160   \n",
            "                                                                 \n",
            " block4_conv2 (Conv2D)       (None, 18, 18, 512)       2359808   \n",
            "                                                                 \n",
            " block4_conv3 (Conv2D)       (None, 18, 18, 512)       2359808   \n",
            "                                                                 \n",
            " block4_pool (MaxPooling2D)  (None, 9, 9, 512)         0         \n",
            "                                                                 \n",
            " block5_conv1 (Conv2D)       (None, 9, 9, 512)         2359808   \n",
            "                                                                 \n",
            " block5_conv2 (Conv2D)       (None, 9, 9, 512)         2359808   \n",
            "                                                                 \n",
            " block5_conv3 (Conv2D)       (None, 9, 9, 512)         2359808   \n",
            "                                                                 \n",
            " block5_pool (MaxPooling2D)  (None, 4, 4, 512)         0         \n",
            "                                                                 \n",
            "=================================================================\n",
            "Total params: 14,714,688\n",
            "Trainable params: 0\n",
            "Non-trainable params: 14,714,688\n",
            "_________________________________________________________________\n"
          ]
        }
      ]
    },
    {
      "cell_type": "code",
      "source": [
        "finetune_model = models.Sequential()\n",
        "finetune_model.add(transfer_model)\n",
        "finetune_model.add(Flatten())\n",
        "finetune_model.add(Dense(64, activation='relu'))\n",
        "finetune_model.add(Dense(2, activation='softmax'))\n",
        "\n",
        "finetune_model.summary()"
      ],
      "metadata": {
        "colab": {
          "base_uri": "https://localhost:8080/"
        },
        "id": "rbZ0qQrEpFl4",
        "outputId": "ade9886b-879c-4a08-e47f-f30308ad24ba"
      },
      "execution_count": 9,
      "outputs": [
        {
          "output_type": "stream",
          "name": "stdout",
          "text": [
            "Model: \"sequential\"\n",
            "_________________________________________________________________\n",
            " Layer (type)                Output Shape              Param #   \n",
            "=================================================================\n",
            " vgg16 (Functional)          (None, 4, 4, 512)         14714688  \n",
            "                                                                 \n",
            " flatten (Flatten)           (None, 8192)              0         \n",
            "                                                                 \n",
            " dense (Dense)               (None, 64)                524352    \n",
            "                                                                 \n",
            " dense_1 (Dense)             (None, 2)                 130       \n",
            "                                                                 \n",
            "=================================================================\n",
            "Total params: 15,239,170\n",
            "Trainable params: 524,482\n",
            "Non-trainable params: 14,714,688\n",
            "_________________________________________________________________\n"
          ]
        }
      ]
    },
    {
      "cell_type": "code",
      "source": [
        "# 모델 컴파일\n",
        "finetune_model.compile(loss='sparse_categorical_crossentropy',\n",
        "                       optimizer=optimizers.Adam(learning_rate=0.0002),\n",
        "                       metrics=['accuracy'])"
      ],
      "metadata": {
        "id": "XqIL2X1IpV-3"
      },
      "execution_count": 12,
      "outputs": []
    },
    {
      "cell_type": "code",
      "source": [
        "# 모델 학습\n",
        "history = finetune_model.fit(train_generator,\n",
        "                             steps_per_epoch=160//5,\n",
        "                             epochs=20,\n",
        "                             validation_data=test_generator,\n",
        "                             validation_steps=120//5)"
      ],
      "metadata": {
        "colab": {
          "base_uri": "https://localhost:8080/"
        },
        "id": "CYs4yPYEpkTB",
        "outputId": "e379ceac-0f35-4a71-b85c-6a1cfd87a6e4"
      },
      "execution_count": 15,
      "outputs": [
        {
          "output_type": "stream",
          "name": "stdout",
          "text": [
            "Epoch 1/20\n",
            "32/32 [==============================] - 48s 2s/step - loss: 0.3777 - accuracy: 0.8438 - val_loss: 0.3373 - val_accuracy: 0.8583\n",
            "Epoch 2/20\n",
            "32/32 [==============================] - 3s 87ms/step - loss: 0.2577 - accuracy: 0.9625 - val_loss: 0.2699 - val_accuracy: 0.9333\n",
            "Epoch 3/20\n",
            "32/32 [==============================] - 3s 95ms/step - loss: 0.2660 - accuracy: 0.9062 - val_loss: 0.2537 - val_accuracy: 0.9417\n",
            "Epoch 4/20\n",
            "32/32 [==============================] - 3s 85ms/step - loss: 0.2292 - accuracy: 0.9438 - val_loss: 0.3039 - val_accuracy: 0.8500\n",
            "Epoch 5/20\n",
            "32/32 [==============================] - 2s 76ms/step - loss: 0.1808 - accuracy: 0.9563 - val_loss: 0.2230 - val_accuracy: 0.9167\n",
            "Epoch 6/20\n",
            "32/32 [==============================] - 2s 71ms/step - loss: 0.1612 - accuracy: 0.9688 - val_loss: 0.1886 - val_accuracy: 0.9333\n",
            "Epoch 7/20\n",
            "32/32 [==============================] - 3s 79ms/step - loss: 0.1706 - accuracy: 0.9438 - val_loss: 0.1758 - val_accuracy: 0.9417\n",
            "Epoch 8/20\n",
            "32/32 [==============================] - 3s 106ms/step - loss: 0.1500 - accuracy: 0.9563 - val_loss: 0.1632 - val_accuracy: 0.9417\n",
            "Epoch 9/20\n",
            "32/32 [==============================] - 2s 72ms/step - loss: 0.1439 - accuracy: 0.9500 - val_loss: 0.1566 - val_accuracy: 0.9667\n",
            "Epoch 10/20\n",
            "32/32 [==============================] - 2s 72ms/step - loss: 0.1426 - accuracy: 0.9500 - val_loss: 0.1586 - val_accuracy: 0.9667\n",
            "Epoch 11/20\n",
            "32/32 [==============================] - 2s 73ms/step - loss: 0.1255 - accuracy: 0.9688 - val_loss: 0.2441 - val_accuracy: 0.8750\n",
            "Epoch 12/20\n",
            "32/32 [==============================] - 2s 72ms/step - loss: 0.1431 - accuracy: 0.9625 - val_loss: 0.1019 - val_accuracy: 0.9750\n",
            "Epoch 13/20\n",
            "32/32 [==============================] - 4s 133ms/step - loss: 0.1031 - accuracy: 0.9750 - val_loss: 0.1473 - val_accuracy: 0.9250\n",
            "Epoch 14/20\n",
            "32/32 [==============================] - 2s 75ms/step - loss: 0.1193 - accuracy: 0.9625 - val_loss: 0.1080 - val_accuracy: 0.9583\n",
            "Epoch 15/20\n",
            "32/32 [==============================] - 2s 72ms/step - loss: 0.1078 - accuracy: 0.9688 - val_loss: 0.1137 - val_accuracy: 0.9750\n",
            "Epoch 16/20\n",
            "32/32 [==============================] - 2s 73ms/step - loss: 0.0990 - accuracy: 0.9750 - val_loss: 0.1482 - val_accuracy: 0.9417\n",
            "Epoch 17/20\n",
            "32/32 [==============================] - 2s 72ms/step - loss: 0.0814 - accuracy: 0.9875 - val_loss: 0.1337 - val_accuracy: 0.9333\n",
            "Epoch 18/20\n",
            "32/32 [==============================] - 4s 138ms/step - loss: 0.0898 - accuracy: 0.9750 - val_loss: 0.1173 - val_accuracy: 0.9500\n",
            "Epoch 19/20\n",
            "32/32 [==============================] - 2s 73ms/step - loss: 0.0823 - accuracy: 0.9688 - val_loss: 0.1006 - val_accuracy: 0.9750\n",
            "Epoch 20/20\n",
            "32/32 [==============================] - 2s 73ms/step - loss: 0.0745 - accuracy: 0.9625 - val_loss: 0.1224 - val_accuracy: 0.9583\n"
          ]
        }
      ]
    },
    {
      "cell_type": "markdown",
      "source": [
        "## 결과 그래프"
      ],
      "metadata": {
        "id": "1nw7Lm8Mp7vx"
      }
    },
    {
      "cell_type": "code",
      "source": [
        "acc = history.history['accuracy']\n",
        "val_acc = history.history['val_accuracy']\n",
        "y_vloss = history.history['val_loss']\n",
        "y_loss = history.history['loss']\n",
        "x_len = np.arange(len(y_loss))\n",
        "\n",
        "plt.plot(x_len, acc, marker=',', c='red', label='Trainset_acc')\n",
        "plt.plot(x_len, val_acc, marker=',', c='lightcoral', label='Testset_acc')\n",
        "plt.plot(x_len, y_vloss, marker=',', c='cornflowerblue', label='Testset_loss')\n",
        "plt.plot(x_len, y_loss, marker=',', c='blue', label='Trainset_loss')\n",
        "\n",
        "plt.legend(loc='upper right')\n",
        "plt.grid()\n",
        "plt.xlabel('epoch')\n",
        "plt.ylabel('loss/acc')\n",
        "plt.show()"
      ],
      "metadata": {
        "colab": {
          "base_uri": "https://localhost:8080/",
          "height": 279
        },
        "id": "IBTXF0WSp1GA",
        "outputId": "7a955deb-4371-4d92-fab7-727935dfe31c"
      },
      "execution_count": 16,
      "outputs": [
        {
          "output_type": "display_data",
          "data": {
            "text/plain": [
              "<Figure size 432x288 with 1 Axes>"
            ],
            "image/png": "[encoded data removed]"
          },
          "metadata": {
            "needs_background": "light"
          }
        }
      ]
    },
    {
      "cell_type": "code",
      "source": [],
      "metadata": {
        "id": "2vQKnFW9rMl6"
      },
      "execution_count": null,
      "outputs": []
    }
  ]
}