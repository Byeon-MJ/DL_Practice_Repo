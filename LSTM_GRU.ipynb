{
  "nbformat": 4,
  "nbformat_minor": 0,
  "metadata": {
    "colab": {
      "provenance": [],
      "authorship_tag": "ABX9TyOyj0IPBhe8yJp11ajdTkKX",
      "include_colab_link": true
    },
    "kernelspec": {
      "name": "python3",
      "display_name": "Python 3"
    },
    "language_info": {
      "name": "python"
    },
    "accelerator": "GPU",
    "gpuClass": "standard"
  },
  "cells": [
    {
      "cell_type": "markdown",
      "metadata": {
        "id": "view-in-github",
        "colab_type": "text"
      },
      "source": [
        "<a href=\"https://colab.research.google.com/github/Byeon-MJ/DL_Practice_Repo/blob/main/LSTM_GRU.ipynb\" target=\"_parent\"><img src=\"https://colab.research.google.com/assets/colab-badge.svg\" alt=\"Open In Colab\"/></a>"
      ]
    },
    {
      "cell_type": "markdown",
      "source": [
        "# LSTM과 GRU 셀"
      ],
      "metadata": {
        "id": "7FblSpe1eUpb"
      }
    },
    {
      "cell_type": "markdown",
      "source": [
        "## LSTM 신경망 훈련하기"
      ],
      "metadata": {
        "id": "KFs2hFLDeynp"
      }
    },
    {
      "cell_type": "code",
      "source": [
        "import tensorflow as tf\n",
        "from tensorflow import keras\n",
        "from keras.datasets import imdb\n",
        "from sklearn.model_selection import train_test_split\n",
        "(train_input, train_target), (test_input, test_target) = imdb.load_data(num_words=500)\n",
        "train_input, val_input, train_target, val_target = train_test_split(train_input, train_target, test_size=0.2, random_state=42)"
      ],
      "metadata": {
        "id": "AUMLUUFhe2nZ"
      },
      "execution_count": 22,
      "outputs": []
    },
    {
      "cell_type": "code",
      "source": [
        "# pad_sequences() 함수로 각 샘플의 길이 맞추기\n",
        "from keras.utils import pad_sequences\n",
        "train_seq = pad_sequences(train_input, maxlen=100)\n",
        "val_seq = pad_sequences(val_input, maxlen=100)"
      ],
      "metadata": {
        "id": "-7pAAaDDQiz2"
      },
      "execution_count": 23,
      "outputs": []
    },
    {
      "cell_type": "code",
      "source": [
        "# LSTM 셀을 사용한 순환층\n",
        "model = keras.Sequential()\n",
        "model.add(keras.layers.Embedding(500, 16, input_length=100))\n",
        "model.add(keras.layers.LSTM(8))\n",
        "model.add(keras.layers.Dense(1, activation='sigmoid'))"
      ],
      "metadata": {
        "id": "yDcZIF7rVUlN"
      },
      "execution_count": 24,
      "outputs": []
    },
    {
      "cell_type": "code",
      "source": [
        "model.summary()"
      ],
      "metadata": {
        "colab": {
          "base_uri": "https://localhost:8080/"
        },
        "id": "PRgx3iBvWnZh",
        "outputId": "31b4d694-73fd-469f-bc92-0ba7277647ba"
      },
      "execution_count": 25,
      "outputs": [
        {
          "output_type": "stream",
          "name": "stdout",
          "text": [
            "Model: \"sequential_3\"\n",
            "_________________________________________________________________\n",
            " Layer (type)                Output Shape              Param #   \n",
            "=================================================================\n",
            " embedding_3 (Embedding)     (None, 100, 16)           8000      \n",
            "                                                                 \n",
            " lstm_4 (LSTM)               (None, 8)                 800       \n",
            "                                                                 \n",
            " dense_3 (Dense)             (None, 1)                 9         \n",
            "                                                                 \n",
            "=================================================================\n",
            "Total params: 8,809\n",
            "Trainable params: 8,809\n",
            "Non-trainable params: 0\n",
            "_________________________________________________________________\n"
          ]
        }
      ]
    },
    {
      "cell_type": "code",
      "source": [
        "rmsprop = keras.optimizers.RMSprop(learning_rate=1e-4)\n",
        "model.compile(optimizer=rmsprop, loss='binary_crossentropy', metrics=['accuracy'])\n",
        "checkpoint_cb = keras.callbacks.ModelCheckpoint('best-lstm-model.h5', save_best_only=True)\n",
        "early_stopping_cb = keras.callbacks.EarlyStopping(patience=3, restore_best_weights=True)\n",
        "history = model.fit(train_seq, train_target, epochs=100, batch_size=64,\n",
        "                    validation_data=(val_seq, val_target),\n",
        "                    callbacks=[checkpoint_cb, early_stopping_cb])"
      ],
      "metadata": {
        "colab": {
          "base_uri": "https://localhost:8080/"
        },
        "id": "Orbodlc4W9UQ",
        "outputId": "6e4cfced-fbcc-4648-8d89-678996a4a79e"
      },
      "execution_count": 26,
      "outputs": [
        {
          "output_type": "stream",
          "name": "stdout",
          "text": [
            "Epoch 1/100\n",
            "313/313 [==============================] - 5s 10ms/step - loss: 0.6926 - accuracy: 0.5396 - val_loss: 0.6920 - val_accuracy: 0.5642\n",
            "Epoch 2/100\n",
            "313/313 [==============================] - 3s 9ms/step - loss: 0.6905 - accuracy: 0.5960 - val_loss: 0.6893 - val_accuracy: 0.6026\n",
            "Epoch 3/100\n",
            "313/313 [==============================] - 3s 9ms/step - loss: 0.6859 - accuracy: 0.6271 - val_loss: 0.6828 - val_accuracy: 0.6390\n",
            "Epoch 4/100\n",
            "313/313 [==============================] - 3s 9ms/step - loss: 0.6746 - accuracy: 0.6642 - val_loss: 0.6663 - val_accuracy: 0.6604\n",
            "Epoch 5/100\n",
            "313/313 [==============================] - 3s 9ms/step - loss: 0.6359 - accuracy: 0.6949 - val_loss: 0.5982 - val_accuracy: 0.7142\n",
            "Epoch 6/100\n",
            "313/313 [==============================] - 3s 9ms/step - loss: 0.5635 - accuracy: 0.7398 - val_loss: 0.5510 - val_accuracy: 0.7426\n",
            "Epoch 7/100\n",
            "313/313 [==============================] - 3s 9ms/step - loss: 0.5282 - accuracy: 0.7566 - val_loss: 0.5202 - val_accuracy: 0.7582\n",
            "Epoch 8/100\n",
            "313/313 [==============================] - 3s 9ms/step - loss: 0.5004 - accuracy: 0.7713 - val_loss: 0.4959 - val_accuracy: 0.7714\n",
            "Epoch 9/100\n",
            "313/313 [==============================] - 3s 9ms/step - loss: 0.4793 - accuracy: 0.7830 - val_loss: 0.4816 - val_accuracy: 0.7704\n",
            "Epoch 10/100\n",
            "313/313 [==============================] - 3s 9ms/step - loss: 0.4638 - accuracy: 0.7915 - val_loss: 0.4697 - val_accuracy: 0.7862\n",
            "Epoch 11/100\n",
            "313/313 [==============================] - 3s 9ms/step - loss: 0.4527 - accuracy: 0.7995 - val_loss: 0.4636 - val_accuracy: 0.7916\n",
            "Epoch 12/100\n",
            "313/313 [==============================] - 3s 9ms/step - loss: 0.4444 - accuracy: 0.8008 - val_loss: 0.4529 - val_accuracy: 0.7918\n",
            "Epoch 13/100\n",
            "313/313 [==============================] - 3s 9ms/step - loss: 0.4379 - accuracy: 0.8026 - val_loss: 0.4480 - val_accuracy: 0.7958\n",
            "Epoch 14/100\n",
            "313/313 [==============================] - 3s 9ms/step - loss: 0.4325 - accuracy: 0.8071 - val_loss: 0.4477 - val_accuracy: 0.7996\n",
            "Epoch 15/100\n",
            "313/313 [==============================] - 3s 9ms/step - loss: 0.4281 - accuracy: 0.8073 - val_loss: 0.4419 - val_accuracy: 0.7942\n",
            "Epoch 16/100\n",
            "313/313 [==============================] - 4s 14ms/step - loss: 0.4243 - accuracy: 0.8091 - val_loss: 0.4395 - val_accuracy: 0.7954\n",
            "Epoch 17/100\n",
            "313/313 [==============================] - 4s 13ms/step - loss: 0.4209 - accuracy: 0.8101 - val_loss: 0.4368 - val_accuracy: 0.8016\n",
            "Epoch 18/100\n",
            "313/313 [==============================] - 3s 9ms/step - loss: 0.4180 - accuracy: 0.8113 - val_loss: 0.4355 - val_accuracy: 0.8000\n",
            "Epoch 19/100\n",
            "313/313 [==============================] - 3s 9ms/step - loss: 0.4159 - accuracy: 0.8130 - val_loss: 0.4343 - val_accuracy: 0.7988\n",
            "Epoch 20/100\n",
            "313/313 [==============================] - 3s 9ms/step - loss: 0.4133 - accuracy: 0.8126 - val_loss: 0.4360 - val_accuracy: 0.8020\n",
            "Epoch 21/100\n",
            "313/313 [==============================] - 3s 9ms/step - loss: 0.4116 - accuracy: 0.8140 - val_loss: 0.4331 - val_accuracy: 0.8032\n",
            "Epoch 22/100\n",
            "313/313 [==============================] - 3s 9ms/step - loss: 0.4100 - accuracy: 0.8144 - val_loss: 0.4320 - val_accuracy: 0.8012\n",
            "Epoch 23/100\n",
            "313/313 [==============================] - 3s 9ms/step - loss: 0.4087 - accuracy: 0.8151 - val_loss: 0.4304 - val_accuracy: 0.8004\n",
            "Epoch 24/100\n",
            "313/313 [==============================] - 4s 13ms/step - loss: 0.4067 - accuracy: 0.8156 - val_loss: 0.4337 - val_accuracy: 0.7946\n",
            "Epoch 25/100\n",
            "313/313 [==============================] - 4s 13ms/step - loss: 0.4058 - accuracy: 0.8163 - val_loss: 0.4314 - val_accuracy: 0.7984\n",
            "Epoch 26/100\n",
            "313/313 [==============================] - 4s 12ms/step - loss: 0.4047 - accuracy: 0.8166 - val_loss: 0.4303 - val_accuracy: 0.8014\n",
            "Epoch 27/100\n",
            "313/313 [==============================] - 4s 12ms/step - loss: 0.4033 - accuracy: 0.8185 - val_loss: 0.4284 - val_accuracy: 0.7994\n",
            "Epoch 28/100\n",
            "313/313 [==============================] - 4s 13ms/step - loss: 0.4023 - accuracy: 0.8170 - val_loss: 0.4308 - val_accuracy: 0.8016\n",
            "Epoch 29/100\n",
            "313/313 [==============================] - 5s 18ms/step - loss: 0.4016 - accuracy: 0.8193 - val_loss: 0.4284 - val_accuracy: 0.8024\n",
            "Epoch 30/100\n",
            "313/313 [==============================] - 4s 14ms/step - loss: 0.4004 - accuracy: 0.8189 - val_loss: 0.4289 - val_accuracy: 0.8028\n",
            "Epoch 31/100\n",
            "313/313 [==============================] - 5s 15ms/step - loss: 0.3997 - accuracy: 0.8188 - val_loss: 0.4281 - val_accuracy: 0.8044\n",
            "Epoch 32/100\n",
            "313/313 [==============================] - 4s 14ms/step - loss: 0.3988 - accuracy: 0.8193 - val_loss: 0.4306 - val_accuracy: 0.7982\n",
            "Epoch 33/100\n",
            "313/313 [==============================] - 4s 13ms/step - loss: 0.3983 - accuracy: 0.8207 - val_loss: 0.4295 - val_accuracy: 0.8004\n",
            "Epoch 34/100\n",
            "313/313 [==============================] - 4s 12ms/step - loss: 0.3975 - accuracy: 0.8197 - val_loss: 0.4283 - val_accuracy: 0.7996\n"
          ]
        }
      ]
    },
    {
      "cell_type": "code",
      "source": [
        "import matplotlib.pyplot as plt\n",
        "plt.plot(history.history['loss'])\n",
        "plt.plot(history.history['val_loss'])\n",
        "plt.xlabel('epoch')\n",
        "plt.ylabel('loss')\n",
        "plt.legend(['train', 'val'])\n",
        "plt.show()"
      ],
      "metadata": {
        "colab": {
          "base_uri": "https://localhost:8080/",
          "height": 279
        },
        "id": "lW4iFBBuXsRO",
        "outputId": "86974141-7b73-45d8-b011-c6ea80f2b2e6"
      },
      "execution_count": 27,
      "outputs": [
        {
          "output_type": "display_data",
          "data": {
            "text/plain": [
              "<Figure size 432x288 with 1 Axes>"
            ],
            "image/png": "[encoded data removed]"
          },
          "metadata": {
            "needs_background": "light"
          }
        }
      ]
    },
    {
      "cell_type": "markdown",
      "source": [
        "## 순환층에 드롭아웃 적용하기"
      ],
      "metadata": {
        "id": "Ytw7l1q3X9oh"
      }
    },
    {
      "cell_type": "code",
      "source": [
        "model2 = keras.Sequential()\n",
        "model2.add(keras.layers.Embedding(500, 16, input_length=100))\n",
        "model2.add(keras.layers.LSTM(8, dropout=0.3))\n",
        "model2.add(keras.layers.Dense(1, activation='sigmoid'))"
      ],
      "metadata": {
        "id": "o-UJCkHuYADw"
      },
      "execution_count": 36,
      "outputs": []
    },
    {
      "cell_type": "code",
      "source": [
        "rmsporp = keras.optimizers.RMSprop(learning_rate=1e-4)\n",
        "model2.compile(optimizer=rmsprop, loss='binary_crossentropy', metrics=['accuracy'])\n",
        "checkpoint_cb = keras.callbacks.ModelCheckpoint('best-dropout-model.h5', save_best_only=True)\n",
        "early_stopping_cb = keras.callbacks.EarlyStopping(patience=3, restore_best_weights=True)\n",
        "history = model2.fit(train_seq, train_target, epochs=100, batch_size=64,\n",
        "                    validation_data=(val_seq, val_target),\n",
        "                    callbacks=[checkpoint_cb, early_stopping_cb])"
      ],
      "metadata": {
        "colab": {
          "base_uri": "https://localhost:8080/"
        },
        "id": "HVCgw-PbYdRs",
        "outputId": "57b3009c-6a4e-4df7-e1ce-a89be17cda2c"
      },
      "execution_count": 37,
      "outputs": [
        {
          "output_type": "stream",
          "name": "stdout",
          "text": [
            "Epoch 1/100\n",
            "313/313 [==============================] - 5s 11ms/step - loss: 0.6925 - accuracy: 0.5411 - val_loss: 0.6918 - val_accuracy: 0.5944\n",
            "Epoch 2/100\n",
            "313/313 [==============================] - 3s 9ms/step - loss: 0.6907 - accuracy: 0.5950 - val_loss: 0.6892 - val_accuracy: 0.6366\n",
            "Epoch 3/100\n",
            "313/313 [==============================] - 3s 10ms/step - loss: 0.6867 - accuracy: 0.6287 - val_loss: 0.6832 - val_accuracy: 0.6436\n",
            "Epoch 4/100\n",
            "313/313 [==============================] - 3s 10ms/step - loss: 0.6756 - accuracy: 0.6277 - val_loss: 0.6602 - val_accuracy: 0.6242\n",
            "Epoch 5/100\n",
            "313/313 [==============================] - 3s 10ms/step - loss: 0.6355 - accuracy: 0.6709 - val_loss: 0.6124 - val_accuracy: 0.7292\n",
            "Epoch 6/100\n",
            "313/313 [==============================] - 3s 10ms/step - loss: 0.5959 - accuracy: 0.7372 - val_loss: 0.5821 - val_accuracy: 0.7460\n",
            "Epoch 7/100\n",
            "313/313 [==============================] - 4s 12ms/step - loss: 0.5750 - accuracy: 0.7561 - val_loss: 0.5671 - val_accuracy: 0.7534\n",
            "Epoch 8/100\n",
            "313/313 [==============================] - 3s 9ms/step - loss: 0.5604 - accuracy: 0.7584 - val_loss: 0.5557 - val_accuracy: 0.7584\n",
            "Epoch 9/100\n",
            "313/313 [==============================] - 3s 9ms/step - loss: 0.5483 - accuracy: 0.7670 - val_loss: 0.5436 - val_accuracy: 0.7648\n",
            "Epoch 10/100\n",
            "313/313 [==============================] - 3s 10ms/step - loss: 0.5341 - accuracy: 0.7734 - val_loss: 0.5327 - val_accuracy: 0.7692\n",
            "Epoch 11/100\n",
            "313/313 [==============================] - 3s 10ms/step - loss: 0.5218 - accuracy: 0.7757 - val_loss: 0.5226 - val_accuracy: 0.7700\n",
            "Epoch 12/100\n",
            "313/313 [==============================] - 3s 9ms/step - loss: 0.5095 - accuracy: 0.7817 - val_loss: 0.5115 - val_accuracy: 0.7716\n",
            "Epoch 13/100\n",
            "313/313 [==============================] - 3s 9ms/step - loss: 0.4974 - accuracy: 0.7843 - val_loss: 0.4998 - val_accuracy: 0.7760\n",
            "Epoch 14/100\n",
            "313/313 [==============================] - 3s 9ms/step - loss: 0.4867 - accuracy: 0.7868 - val_loss: 0.4892 - val_accuracy: 0.7806\n",
            "Epoch 15/100\n",
            "313/313 [==============================] - 3s 9ms/step - loss: 0.4775 - accuracy: 0.7890 - val_loss: 0.4802 - val_accuracy: 0.7838\n",
            "Epoch 16/100\n",
            "313/313 [==============================] - 4s 11ms/step - loss: 0.4674 - accuracy: 0.7931 - val_loss: 0.4728 - val_accuracy: 0.7848\n",
            "Epoch 17/100\n",
            "313/313 [==============================] - 3s 9ms/step - loss: 0.4610 - accuracy: 0.7951 - val_loss: 0.4658 - val_accuracy: 0.7892\n",
            "Epoch 18/100\n",
            "313/313 [==============================] - 3s 9ms/step - loss: 0.4563 - accuracy: 0.7986 - val_loss: 0.4600 - val_accuracy: 0.7886\n",
            "Epoch 19/100\n",
            "313/313 [==============================] - 3s 9ms/step - loss: 0.4502 - accuracy: 0.7965 - val_loss: 0.4558 - val_accuracy: 0.7890\n",
            "Epoch 20/100\n",
            "313/313 [==============================] - 3s 9ms/step - loss: 0.4451 - accuracy: 0.8016 - val_loss: 0.4510 - val_accuracy: 0.7936\n",
            "Epoch 21/100\n",
            "313/313 [==============================] - 3s 9ms/step - loss: 0.4409 - accuracy: 0.8041 - val_loss: 0.4481 - val_accuracy: 0.7918\n",
            "Epoch 22/100\n",
            "313/313 [==============================] - 3s 9ms/step - loss: 0.4370 - accuracy: 0.8045 - val_loss: 0.4455 - val_accuracy: 0.7930\n",
            "Epoch 23/100\n",
            "313/313 [==============================] - 3s 9ms/step - loss: 0.4348 - accuracy: 0.8041 - val_loss: 0.4431 - val_accuracy: 0.7956\n",
            "Epoch 24/100\n",
            "313/313 [==============================] - 3s 9ms/step - loss: 0.4310 - accuracy: 0.8061 - val_loss: 0.4456 - val_accuracy: 0.7938\n",
            "Epoch 25/100\n",
            "313/313 [==============================] - 3s 9ms/step - loss: 0.4300 - accuracy: 0.8080 - val_loss: 0.4389 - val_accuracy: 0.7954\n",
            "Epoch 26/100\n",
            "313/313 [==============================] - 3s 9ms/step - loss: 0.4274 - accuracy: 0.8079 - val_loss: 0.4384 - val_accuracy: 0.7990\n",
            "Epoch 27/100\n",
            "313/313 [==============================] - 3s 9ms/step - loss: 0.4274 - accuracy: 0.8079 - val_loss: 0.4370 - val_accuracy: 0.7996\n",
            "Epoch 28/100\n",
            "313/313 [==============================] - 3s 9ms/step - loss: 0.4246 - accuracy: 0.8102 - val_loss: 0.4377 - val_accuracy: 0.7982\n",
            "Epoch 29/100\n",
            "313/313 [==============================] - 3s 11ms/step - loss: 0.4225 - accuracy: 0.8091 - val_loss: 0.4371 - val_accuracy: 0.7962\n",
            "Epoch 30/100\n",
            "313/313 [==============================] - 3s 9ms/step - loss: 0.4212 - accuracy: 0.8111 - val_loss: 0.4337 - val_accuracy: 0.7988\n",
            "Epoch 31/100\n",
            "313/313 [==============================] - 3s 9ms/step - loss: 0.4220 - accuracy: 0.8067 - val_loss: 0.4329 - val_accuracy: 0.7978\n",
            "Epoch 32/100\n",
            "313/313 [==============================] - 3s 9ms/step - loss: 0.4188 - accuracy: 0.8091 - val_loss: 0.4337 - val_accuracy: 0.8020\n",
            "Epoch 33/100\n",
            "313/313 [==============================] - 3s 9ms/step - loss: 0.4184 - accuracy: 0.8091 - val_loss: 0.4317 - val_accuracy: 0.7988\n",
            "Epoch 34/100\n",
            "313/313 [==============================] - 3s 9ms/step - loss: 0.4172 - accuracy: 0.8094 - val_loss: 0.4358 - val_accuracy: 0.7962\n",
            "Epoch 35/100\n",
            "313/313 [==============================] - 3s 9ms/step - loss: 0.4173 - accuracy: 0.8115 - val_loss: 0.4311 - val_accuracy: 0.8006\n",
            "Epoch 36/100\n",
            "313/313 [==============================] - 3s 9ms/step - loss: 0.4152 - accuracy: 0.8120 - val_loss: 0.4346 - val_accuracy: 0.8016\n",
            "Epoch 37/100\n",
            "313/313 [==============================] - 3s 9ms/step - loss: 0.4149 - accuracy: 0.8130 - val_loss: 0.4312 - val_accuracy: 0.8000\n",
            "Epoch 38/100\n",
            "313/313 [==============================] - 3s 9ms/step - loss: 0.4153 - accuracy: 0.8098 - val_loss: 0.4377 - val_accuracy: 0.7904\n"
          ]
        }
      ]
    },
    {
      "cell_type": "markdown",
      "source": [
        "## 2개의 층을 연결하기"
      ],
      "metadata": {
        "id": "qPYZKCPMY1xO"
      }
    },
    {
      "cell_type": "code",
      "source": [
        "model3 = keras.Sequential()\n",
        "model3.add(keras.layers.Embedding(500, 16, input_length=100))\n",
        "model3.add(keras.layers.LSTM(8, dropout=0.3, return_sequences=True))\n",
        "model3.add(keras.layers.LSTM(8, dropout=0.3))\n",
        "model3.add(keras.layers.Dense(1, activation='sigmoid'))"
      ],
      "metadata": {
        "id": "_yd7UkEJZQvf"
      },
      "execution_count": 38,
      "outputs": []
    },
    {
      "cell_type": "code",
      "source": [
        "model3.summary()"
      ],
      "metadata": {
        "colab": {
          "base_uri": "https://localhost:8080/"
        },
        "id": "EdRC6vyUZlAv",
        "outputId": "7ede4946-a6f5-4617-a11e-bd42a67e6dae"
      },
      "execution_count": 39,
      "outputs": [
        {
          "output_type": "stream",
          "name": "stdout",
          "text": [
            "Model: \"sequential_9\"\n",
            "_________________________________________________________________\n",
            " Layer (type)                Output Shape              Param #   \n",
            "=================================================================\n",
            " embedding_9 (Embedding)     (None, 100, 16)           8000      \n",
            "                                                                 \n",
            " lstm_9 (LSTM)               (None, 100, 8)            800       \n",
            "                                                                 \n",
            " lstm_10 (LSTM)              (None, 8)                 544       \n",
            "                                                                 \n",
            " dense_8 (Dense)             (None, 1)                 9         \n",
            "                                                                 \n",
            "=================================================================\n",
            "Total params: 9,353\n",
            "Trainable params: 9,353\n",
            "Non-trainable params: 0\n",
            "_________________________________________________________________\n"
          ]
        }
      ]
    },
    {
      "cell_type": "code",
      "source": [
        "rmsporp = keras.optimizers.RMSprop(learning_rate=1e-4)\n",
        "model3.compile(optimizer=rmsprop, loss='binary_crossentropy', metrics=['accuracy'])\n",
        "checkpoint_cb = keras.callbacks.ModelCheckpoint('best-2rnn-model.h5', save_best_only=True)\n",
        "early_stopping_cb = keras.callbacks.EarlyStopping(patience=3, restore_best_weights=True)\n",
        "history = model3.fit(train_seq, train_target, epochs=100, batch_size=64,\n",
        "                    validation_data=(val_seq, val_target),\n",
        "                    callbacks=[checkpoint_cb, early_stopping_cb])"
      ],
      "metadata": {
        "colab": {
          "base_uri": "https://localhost:8080/"
        },
        "id": "2I6zT4FSZt8X",
        "outputId": "204a7c16-b244-465b-a40d-c1d8a489a569"
      },
      "execution_count": 40,
      "outputs": [
        {
          "output_type": "stream",
          "name": "stdout",
          "text": [
            "Epoch 1/100\n",
            "313/313 [==============================] - 8s 16ms/step - loss: 0.6926 - accuracy: 0.5290 - val_loss: 0.6918 - val_accuracy: 0.5480\n",
            "Epoch 2/100\n",
            "313/313 [==============================] - 4s 14ms/step - loss: 0.6893 - accuracy: 0.5897 - val_loss: 0.6854 - val_accuracy: 0.6452\n",
            "Epoch 3/100\n",
            "313/313 [==============================] - 4s 13ms/step - loss: 0.6717 - accuracy: 0.6559 - val_loss: 0.6476 - val_accuracy: 0.6852\n",
            "Epoch 4/100\n",
            "313/313 [==============================] - 4s 13ms/step - loss: 0.6041 - accuracy: 0.7140 - val_loss: 0.5711 - val_accuracy: 0.7302\n",
            "Epoch 5/100\n",
            "313/313 [==============================] - 4s 13ms/step - loss: 0.5555 - accuracy: 0.7344 - val_loss: 0.5407 - val_accuracy: 0.7432\n",
            "Epoch 6/100\n",
            "313/313 [==============================] - 4s 13ms/step - loss: 0.5333 - accuracy: 0.7480 - val_loss: 0.5196 - val_accuracy: 0.7512\n",
            "Epoch 7/100\n",
            "313/313 [==============================] - 4s 13ms/step - loss: 0.5156 - accuracy: 0.7592 - val_loss: 0.5045 - val_accuracy: 0.7620\n",
            "Epoch 8/100\n",
            "313/313 [==============================] - 4s 13ms/step - loss: 0.5028 - accuracy: 0.7671 - val_loss: 0.4921 - val_accuracy: 0.7714\n",
            "Epoch 9/100\n",
            "313/313 [==============================] - 4s 14ms/step - loss: 0.4937 - accuracy: 0.7703 - val_loss: 0.4831 - val_accuracy: 0.7778\n",
            "Epoch 10/100\n",
            "313/313 [==============================] - 4s 13ms/step - loss: 0.4811 - accuracy: 0.7800 - val_loss: 0.4761 - val_accuracy: 0.7762\n",
            "Epoch 11/100\n",
            "313/313 [==============================] - 4s 13ms/step - loss: 0.4754 - accuracy: 0.7828 - val_loss: 0.4716 - val_accuracy: 0.7770\n",
            "Epoch 12/100\n",
            "313/313 [==============================] - 4s 13ms/step - loss: 0.4683 - accuracy: 0.7854 - val_loss: 0.4663 - val_accuracy: 0.7848\n",
            "Epoch 13/100\n",
            "313/313 [==============================] - 4s 13ms/step - loss: 0.4649 - accuracy: 0.7872 - val_loss: 0.4616 - val_accuracy: 0.7854\n",
            "Epoch 14/100\n",
            "313/313 [==============================] - 4s 13ms/step - loss: 0.4593 - accuracy: 0.7915 - val_loss: 0.4600 - val_accuracy: 0.7852\n",
            "Epoch 15/100\n",
            "313/313 [==============================] - 4s 13ms/step - loss: 0.4559 - accuracy: 0.7918 - val_loss: 0.4571 - val_accuracy: 0.7854\n",
            "Epoch 16/100\n",
            "313/313 [==============================] - 4s 13ms/step - loss: 0.4513 - accuracy: 0.7943 - val_loss: 0.4590 - val_accuracy: 0.7858\n",
            "Epoch 17/100\n",
            "313/313 [==============================] - 5s 16ms/step - loss: 0.4489 - accuracy: 0.7959 - val_loss: 0.4531 - val_accuracy: 0.7904\n",
            "Epoch 18/100\n",
            "313/313 [==============================] - 4s 13ms/step - loss: 0.4475 - accuracy: 0.7958 - val_loss: 0.4515 - val_accuracy: 0.7884\n",
            "Epoch 19/100\n",
            "313/313 [==============================] - 4s 13ms/step - loss: 0.4437 - accuracy: 0.7969 - val_loss: 0.4495 - val_accuracy: 0.7920\n",
            "Epoch 20/100\n",
            "313/313 [==============================] - 4s 13ms/step - loss: 0.4419 - accuracy: 0.7984 - val_loss: 0.4478 - val_accuracy: 0.7894\n",
            "Epoch 21/100\n",
            "313/313 [==============================] - 4s 13ms/step - loss: 0.4429 - accuracy: 0.7962 - val_loss: 0.4463 - val_accuracy: 0.7926\n",
            "Epoch 22/100\n",
            "313/313 [==============================] - 4s 13ms/step - loss: 0.4387 - accuracy: 0.8006 - val_loss: 0.4465 - val_accuracy: 0.7910\n",
            "Epoch 23/100\n",
            "313/313 [==============================] - 4s 13ms/step - loss: 0.4379 - accuracy: 0.8029 - val_loss: 0.4452 - val_accuracy: 0.7886\n",
            "Epoch 24/100\n",
            "313/313 [==============================] - 4s 13ms/step - loss: 0.4357 - accuracy: 0.8026 - val_loss: 0.4458 - val_accuracy: 0.7900\n",
            "Epoch 25/100\n",
            "313/313 [==============================] - 4s 13ms/step - loss: 0.4341 - accuracy: 0.8019 - val_loss: 0.4442 - val_accuracy: 0.7956\n",
            "Epoch 26/100\n",
            "313/313 [==============================] - 4s 13ms/step - loss: 0.4350 - accuracy: 0.8003 - val_loss: 0.4424 - val_accuracy: 0.7922\n",
            "Epoch 27/100\n",
            "313/313 [==============================] - 4s 13ms/step - loss: 0.4342 - accuracy: 0.8009 - val_loss: 0.4426 - val_accuracy: 0.7904\n",
            "Epoch 28/100\n",
            "313/313 [==============================] - 4s 13ms/step - loss: 0.4302 - accuracy: 0.8045 - val_loss: 0.4410 - val_accuracy: 0.7948\n",
            "Epoch 29/100\n",
            "313/313 [==============================] - 4s 13ms/step - loss: 0.4307 - accuracy: 0.8018 - val_loss: 0.4409 - val_accuracy: 0.7952\n",
            "Epoch 30/100\n",
            "313/313 [==============================] - 4s 13ms/step - loss: 0.4278 - accuracy: 0.8049 - val_loss: 0.4433 - val_accuracy: 0.7962\n",
            "Epoch 31/100\n",
            "313/313 [==============================] - 4s 13ms/step - loss: 0.4279 - accuracy: 0.8045 - val_loss: 0.4458 - val_accuracy: 0.7970\n",
            "Epoch 32/100\n",
            "313/313 [==============================] - 4s 13ms/step - loss: 0.4289 - accuracy: 0.8041 - val_loss: 0.4392 - val_accuracy: 0.7952\n",
            "Epoch 33/100\n",
            "313/313 [==============================] - 4s 13ms/step - loss: 0.4272 - accuracy: 0.8050 - val_loss: 0.4401 - val_accuracy: 0.7938\n",
            "Epoch 34/100\n",
            "313/313 [==============================] - 4s 13ms/step - loss: 0.4268 - accuracy: 0.8050 - val_loss: 0.4425 - val_accuracy: 0.7898\n",
            "Epoch 35/100\n",
            "313/313 [==============================] - 4s 13ms/step - loss: 0.4228 - accuracy: 0.8080 - val_loss: 0.4393 - val_accuracy: 0.7936\n"
          ]
        }
      ]
    },
    {
      "cell_type": "code",
      "source": [
        "plt.plot(history.history['loss'])\n",
        "plt.plot(history.history['val_loss'])\n",
        "plt.xlabel('epoch')\n",
        "plt.ylabel('loss')\n",
        "plt.legend(['train', 'val'])\n",
        "plt.show()"
      ],
      "metadata": {
        "colab": {
          "base_uri": "https://localhost:8080/",
          "height": 279
        },
        "id": "FZlqcme7aN7X",
        "outputId": "eb051e69-e237-4503-ec53-443d79f4edef"
      },
      "execution_count": 41,
      "outputs": [
        {
          "output_type": "display_data",
          "data": {
            "text/plain": [
              "<Figure size 432x288 with 1 Axes>"
            ],
            "image/png": "[encoded data removed]"
          },
          "metadata": {
            "needs_background": "light"
          }
        }
      ]
    },
    {
      "cell_type": "markdown",
      "source": [
        "## GRU 구조"
      ],
      "metadata": {
        "id": "wUj5Ftt9ajd_"
      }
    },
    {
      "cell_type": "markdown",
      "source": [
        "## GRU 신경망 훈련하기"
      ],
      "metadata": {
        "id": "Frzaw1ZRa4Qy"
      }
    },
    {
      "cell_type": "code",
      "source": [
        "model4 = keras.Sequential()\n",
        "model4.add(keras.layers.Embedding(500, 16, input_length=100))\n",
        "model4.add(keras.layers.GRU(8))\n",
        "model4.add(keras.layers.Dense(1, activation='sigmoid'))"
      ],
      "metadata": {
        "id": "y9weBUVJa5oa"
      },
      "execution_count": 42,
      "outputs": []
    },
    {
      "cell_type": "code",
      "source": [
        "model4.summary()"
      ],
      "metadata": {
        "colab": {
          "base_uri": "https://localhost:8080/"
        },
        "id": "yWkYiuW0bEc4",
        "outputId": "1b144b0b-d792-46bc-b847-4c5a17f7577e"
      },
      "execution_count": 43,
      "outputs": [
        {
          "output_type": "stream",
          "name": "stdout",
          "text": [
            "Model: \"sequential_10\"\n",
            "_________________________________________________________________\n",
            " Layer (type)                Output Shape              Param #   \n",
            "=================================================================\n",
            " embedding_10 (Embedding)    (None, 100, 16)           8000      \n",
            "                                                                 \n",
            " gru_2 (GRU)                 (None, 8)                 624       \n",
            "                                                                 \n",
            " dense_9 (Dense)             (None, 1)                 9         \n",
            "                                                                 \n",
            "=================================================================\n",
            "Total params: 8,633\n",
            "Trainable params: 8,633\n",
            "Non-trainable params: 0\n",
            "_________________________________________________________________\n"
          ]
        }
      ]
    },
    {
      "cell_type": "code",
      "source": [
        "rmsporp = keras.optimizers.RMSprop(learning_rate=1e-4)\n",
        "model4.compile(optimizer=rmsprop, loss='binary_crossentropy', metrics=['accuracy'])\n",
        "checkpoint_cb = keras.callbacks.ModelCheckpoint('best-gru-model.h5', save_best_only=True)\n",
        "early_stopping_cb = keras.callbacks.EarlyStopping(patience=3, restore_best_weights=True)\n",
        "history = model4.fit(train_seq, train_target, epochs=100, batch_size=64,\n",
        "                    validation_data=(val_seq, val_target),\n",
        "                    callbacks=[checkpoint_cb, early_stopping_cb])"
      ],
      "metadata": {
        "colab": {
          "base_uri": "https://localhost:8080/"
        },
        "id": "licwgDp8bJpN",
        "outputId": "92c31a37-57dc-436f-9b86-0af6c0e70c32"
      },
      "execution_count": 44,
      "outputs": [
        {
          "output_type": "stream",
          "name": "stdout",
          "text": [
            "Epoch 1/100\n",
            "313/313 [==============================] - 5s 10ms/step - loss: 0.6921 - accuracy: 0.5303 - val_loss: 0.6915 - val_accuracy: 0.5494\n",
            "Epoch 2/100\n",
            "313/313 [==============================] - 4s 11ms/step - loss: 0.6898 - accuracy: 0.5727 - val_loss: 0.6888 - val_accuracy: 0.5770\n",
            "Epoch 3/100\n",
            "313/313 [==============================] - 3s 9ms/step - loss: 0.6857 - accuracy: 0.5968 - val_loss: 0.6841 - val_accuracy: 0.5876\n",
            "Epoch 4/100\n",
            "313/313 [==============================] - 3s 9ms/step - loss: 0.6785 - accuracy: 0.6170 - val_loss: 0.6759 - val_accuracy: 0.6020\n",
            "Epoch 5/100\n",
            "313/313 [==============================] - 3s 9ms/step - loss: 0.6661 - accuracy: 0.6371 - val_loss: 0.6609 - val_accuracy: 0.6340\n",
            "Epoch 6/100\n",
            "313/313 [==============================] - 3s 9ms/step - loss: 0.6444 - accuracy: 0.6598 - val_loss: 0.6346 - val_accuracy: 0.6616\n",
            "Epoch 7/100\n",
            "313/313 [==============================] - 3s 9ms/step - loss: 0.6015 - accuracy: 0.6896 - val_loss: 0.5808 - val_accuracy: 0.7032\n",
            "Epoch 8/100\n",
            "313/313 [==============================] - 3s 9ms/step - loss: 0.5482 - accuracy: 0.7300 - val_loss: 0.5428 - val_accuracy: 0.7334\n",
            "Epoch 9/100\n",
            "313/313 [==============================] - 3s 9ms/step - loss: 0.5221 - accuracy: 0.7476 - val_loss: 0.5271 - val_accuracy: 0.7456\n",
            "Epoch 10/100\n",
            "313/313 [==============================] - 3s 9ms/step - loss: 0.5073 - accuracy: 0.7587 - val_loss: 0.5177 - val_accuracy: 0.7478\n",
            "Epoch 11/100\n",
            "313/313 [==============================] - 3s 9ms/step - loss: 0.4953 - accuracy: 0.7635 - val_loss: 0.5063 - val_accuracy: 0.7660\n",
            "Epoch 12/100\n",
            "313/313 [==============================] - 3s 9ms/step - loss: 0.4853 - accuracy: 0.7718 - val_loss: 0.4981 - val_accuracy: 0.7686\n",
            "Epoch 13/100\n",
            "313/313 [==============================] - 3s 9ms/step - loss: 0.4774 - accuracy: 0.7757 - val_loss: 0.4917 - val_accuracy: 0.7638\n",
            "Epoch 14/100\n",
            "313/313 [==============================] - 3s 9ms/step - loss: 0.4702 - accuracy: 0.7803 - val_loss: 0.4855 - val_accuracy: 0.7700\n",
            "Epoch 15/100\n",
            "313/313 [==============================] - 3s 9ms/step - loss: 0.4640 - accuracy: 0.7841 - val_loss: 0.4807 - val_accuracy: 0.7806\n",
            "Epoch 16/100\n",
            "313/313 [==============================] - 3s 9ms/step - loss: 0.4583 - accuracy: 0.7900 - val_loss: 0.4752 - val_accuracy: 0.7746\n",
            "Epoch 17/100\n",
            "313/313 [==============================] - 3s 9ms/step - loss: 0.4532 - accuracy: 0.7921 - val_loss: 0.4709 - val_accuracy: 0.7816\n",
            "Epoch 18/100\n",
            "313/313 [==============================] - 3s 8ms/step - loss: 0.4491 - accuracy: 0.7946 - val_loss: 0.4685 - val_accuracy: 0.7772\n",
            "Epoch 19/100\n",
            "313/313 [==============================] - 3s 9ms/step - loss: 0.4453 - accuracy: 0.7972 - val_loss: 0.4643 - val_accuracy: 0.7848\n",
            "Epoch 20/100\n",
            "313/313 [==============================] - 3s 9ms/step - loss: 0.4421 - accuracy: 0.7995 - val_loss: 0.4607 - val_accuracy: 0.7860\n",
            "Epoch 21/100\n",
            "313/313 [==============================] - 3s 9ms/step - loss: 0.4389 - accuracy: 0.7997 - val_loss: 0.4580 - val_accuracy: 0.7876\n",
            "Epoch 22/100\n",
            "313/313 [==============================] - 3s 9ms/step - loss: 0.4361 - accuracy: 0.8022 - val_loss: 0.4568 - val_accuracy: 0.7856\n",
            "Epoch 23/100\n",
            "313/313 [==============================] - 3s 9ms/step - loss: 0.4340 - accuracy: 0.8047 - val_loss: 0.4551 - val_accuracy: 0.7914\n",
            "Epoch 24/100\n",
            "313/313 [==============================] - 3s 9ms/step - loss: 0.4318 - accuracy: 0.8047 - val_loss: 0.4528 - val_accuracy: 0.7892\n",
            "Epoch 25/100\n",
            "313/313 [==============================] - 3s 9ms/step - loss: 0.4297 - accuracy: 0.8055 - val_loss: 0.4512 - val_accuracy: 0.7898\n",
            "Epoch 26/100\n",
            "313/313 [==============================] - 3s 9ms/step - loss: 0.4275 - accuracy: 0.8080 - val_loss: 0.4505 - val_accuracy: 0.7934\n",
            "Epoch 27/100\n",
            "313/313 [==============================] - 3s 9ms/step - loss: 0.4258 - accuracy: 0.8094 - val_loss: 0.4536 - val_accuracy: 0.7868\n",
            "Epoch 28/100\n",
            "313/313 [==============================] - 3s 9ms/step - loss: 0.4246 - accuracy: 0.8103 - val_loss: 0.4478 - val_accuracy: 0.7926\n",
            "Epoch 29/100\n",
            "313/313 [==============================] - 3s 9ms/step - loss: 0.4232 - accuracy: 0.8116 - val_loss: 0.4477 - val_accuracy: 0.7924\n",
            "Epoch 30/100\n",
            "313/313 [==============================] - 3s 9ms/step - loss: 0.4219 - accuracy: 0.8112 - val_loss: 0.4496 - val_accuracy: 0.7928\n",
            "Epoch 31/100\n",
            "313/313 [==============================] - 3s 9ms/step - loss: 0.4206 - accuracy: 0.8105 - val_loss: 0.4465 - val_accuracy: 0.7930\n",
            "Epoch 32/100\n",
            "313/313 [==============================] - 3s 9ms/step - loss: 0.4203 - accuracy: 0.8127 - val_loss: 0.4476 - val_accuracy: 0.7912\n",
            "Epoch 33/100\n",
            "313/313 [==============================] - 3s 9ms/step - loss: 0.4190 - accuracy: 0.8149 - val_loss: 0.4443 - val_accuracy: 0.7930\n",
            "Epoch 34/100\n",
            "313/313 [==============================] - 3s 9ms/step - loss: 0.4184 - accuracy: 0.8134 - val_loss: 0.4437 - val_accuracy: 0.7916\n",
            "Epoch 35/100\n",
            "313/313 [==============================] - 3s 9ms/step - loss: 0.4173 - accuracy: 0.8154 - val_loss: 0.4430 - val_accuracy: 0.7946\n",
            "Epoch 36/100\n",
            "313/313 [==============================] - 3s 8ms/step - loss: 0.4167 - accuracy: 0.8146 - val_loss: 0.4432 - val_accuracy: 0.7922\n",
            "Epoch 37/100\n",
            "313/313 [==============================] - 3s 9ms/step - loss: 0.4161 - accuracy: 0.8148 - val_loss: 0.4453 - val_accuracy: 0.7940\n",
            "Epoch 38/100\n",
            "313/313 [==============================] - 3s 9ms/step - loss: 0.4155 - accuracy: 0.8141 - val_loss: 0.4483 - val_accuracy: 0.7912\n"
          ]
        }
      ]
    },
    {
      "cell_type": "code",
      "source": [
        "plt.plot(history.history['loss'])\n",
        "plt.plot(history.history['val_loss'])\n",
        "plt.xlabel('epoch')\n",
        "plt.ylabel('loss')\n",
        "plt.legend(['train', 'val'])\n",
        "plt.show()"
      ],
      "metadata": {
        "colab": {
          "base_uri": "https://localhost:8080/",
          "height": 279
        },
        "id": "5aOZHI_qbNAg",
        "outputId": "9cdbd0d6-e8e8-43e4-ac61-8bba622ce666"
      },
      "execution_count": 45,
      "outputs": [
        {
          "output_type": "display_data",
          "data": {
            "text/plain": [
              "<Figure size 432x288 with 1 Axes>"
            ],
            "image/png": "[encoded data removed]"
          },
          "metadata": {
            "needs_background": "light"
          }
        }
      ]
    },
    {
      "cell_type": "code",
      "source": [
        "test_seq = pad_sequences(test_input, maxlen=100)\n",
        "rnn_model = keras.models.load_model('best-2rnn-model.h5')\n",
        "rnn_model.evaluate(test_seq, test_target)"
      ],
      "metadata": {
        "colab": {
          "base_uri": "https://localhost:8080/"
        },
        "id": "q_DCoK9abTfh",
        "outputId": "5aaa75ad-146f-4e8f-a508-151610a58e58"
      },
      "execution_count": 48,
      "outputs": [
        {
          "output_type": "stream",
          "name": "stderr",
          "text": [
            "WARNING:tensorflow:Error in loading the saved optimizer state. As a result, your model is starting with a freshly initialized optimizer.\n"
          ]
        },
        {
          "output_type": "stream",
          "name": "stdout",
          "text": [
            "782/782 [==============================] - 5s 6ms/step - loss: 0.4328 - accuracy: 0.7986\n"
          ]
        },
        {
          "output_type": "execute_result",
          "data": {
            "text/plain": [
              "[0.43277594447135925, 0.7985600233078003]"
            ]
          },
          "metadata": {},
          "execution_count": 48
        }
      ]
    },
    {
      "cell_type": "code",
      "source": [],
      "metadata": {
        "id": "savjvWtXbtn6"
      },
      "execution_count": null,
      "outputs": []
    }
  ]
}