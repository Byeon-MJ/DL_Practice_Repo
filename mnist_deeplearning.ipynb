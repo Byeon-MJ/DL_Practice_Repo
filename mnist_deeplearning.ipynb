{
  "cells": [
    {
      "cell_type": "markdown",
      "metadata": {
        "id": "view-in-github",
        "colab_type": "text"
      },
      "source": [
        "<a href=\"https://colab.research.google.com/github/Byeon-MJ/EveryOnes_AI_DL/blob/main/mnist_deeplearning.ipynb\" target=\"_parent\"><img src=\"https://colab.research.google.com/assets/colab-badge.svg\" alt=\"Open In Colab\"/></a>"
      ]
    },
    {
      "cell_type": "code",
      "execution_count": null,
      "id": "0a1e11f8",
      "metadata": {
        "ExecuteTime": {
          "end_time": "2022-10-13T13:53:19.340911Z",
          "start_time": "2022-10-13T13:53:16.237988Z"
        },
        "id": "0a1e11f8"
      },
      "outputs": [],
      "source": [
        "from tensorflow.keras.models import Sequential\n",
        "from tensorflow.keras.layers import Dense, Activation\n",
        "from tensorflow.keras.utils import to_categorical\n",
        "from tensorflow.keras.datasets import mnist\n",
        "import numpy as np\n",
        "import matplotlib.pyplot as plt"
      ]
    },
    {
      "cell_type": "markdown",
      "id": "3a03df4a",
      "metadata": {
        "id": "3a03df4a"
      },
      "source": [
        "### 데이터 로드"
      ]
    },
    {
      "cell_type": "code",
      "execution_count": null,
      "id": "7a797aac",
      "metadata": {
        "ExecuteTime": {
          "end_time": "2022-10-13T13:53:19.507842Z",
          "start_time": "2022-10-13T13:53:19.341912Z"
        },
        "id": "7a797aac"
      },
      "outputs": [],
      "source": [
        "(x_train, y_train), (x_test, y_test) = mnist.load_data()"
      ]
    },
    {
      "cell_type": "code",
      "execution_count": null,
      "id": "f2344015",
      "metadata": {
        "ExecuteTime": {
          "end_time": "2022-10-13T13:53:19.522855Z",
          "start_time": "2022-10-13T13:53:19.508843Z"
        },
        "id": "f2344015",
        "outputId": "6b6eeb81-ae35-4875-8efe-a032cc5966c7"
      },
      "outputs": [
        {
          "name": "stdout",
          "output_type": "stream",
          "text": [
            "x_train shape (60000, 28, 28)\n",
            "y_train shape (60000,)\n",
            "x_test shape (10000, 28, 28)\n",
            "y_test shape (10000,)\n"
          ]
        }
      ],
      "source": [
        "print('x_train shape', x_train.shape)\n",
        "print('y_train shape', y_train.shape)\n",
        "print('x_test shape', x_test.shape)\n",
        "print('y_test shape', y_test.shape)"
      ]
    },
    {
      "cell_type": "markdown",
      "id": "2ea86a23",
      "metadata": {
        "id": "2ea86a23"
      },
      "source": [
        "### 숫자 데이터 정렬"
      ]
    },
    {
      "cell_type": "code",
      "execution_count": null,
      "id": "3b241265",
      "metadata": {
        "ExecuteTime": {
          "end_time": "2022-10-13T13:53:19.597936Z",
          "start_time": "2022-10-13T13:53:19.523856Z"
        },
        "id": "3b241265",
        "outputId": "dd39af54-778e-49a3-cf0f-ff88839063d9"
      },
      "outputs": [
        {
          "name": "stdout",
          "output_type": "stream",
          "text": [
            "X Training matrix shape (60000, 784)\n",
            "X Testing matrix shape (10000, 784)\n"
          ]
        }
      ],
      "source": [
        "X_train = x_train.reshape(60000, 784)\n",
        "X_test = x_test.reshape(10000, 784)\n",
        "X_train = X_train.astype('float32')\n",
        "X_test =  X_test.astype('float32')\n",
        "X_train /= 255\n",
        "X_test /= 255\n",
        "\n",
        "print(\"X Training matrix shape\", X_train.shape)\n",
        "print(\"X Testing matrix shape\", X_test.shape)"
      ]
    },
    {
      "cell_type": "markdown",
      "id": "c078df1a",
      "metadata": {
        "id": "c078df1a"
      },
      "source": [
        "### 원-핫 인코딩"
      ]
    },
    {
      "cell_type": "code",
      "execution_count": null,
      "id": "047cba7f",
      "metadata": {
        "ExecuteTime": {
          "end_time": "2022-10-13T13:53:19.612948Z",
          "start_time": "2022-10-13T13:53:19.599936Z"
        },
        "id": "047cba7f",
        "outputId": "0696c784-6111-48f5-b776-c7d27da4d81f"
      },
      "outputs": [
        {
          "name": "stdout",
          "output_type": "stream",
          "text": [
            "Y Training matrix shape (60000, 10)\n",
            "Y Testing matrix shape (10000, 10)\n"
          ]
        }
      ],
      "source": [
        "Y_train = to_categorical(y_train, 10)\n",
        "Y_test = to_categorical(y_test, 10)\n",
        "\n",
        "print(\"Y Training matrix shape\", Y_train.shape)\n",
        "print(\"Y Testing matrix shape\", Y_test.shape)"
      ]
    },
    {
      "cell_type": "markdown",
      "id": "421f0069",
      "metadata": {
        "id": "421f0069"
      },
      "source": [
        "### 모델 설계"
      ]
    },
    {
      "cell_type": "code",
      "execution_count": null,
      "id": "a00d9630",
      "metadata": {
        "ExecuteTime": {
          "end_time": "2022-10-13T13:53:19.688843Z",
          "start_time": "2022-10-13T13:53:19.613949Z"
        },
        "id": "a00d9630",
        "outputId": "bbf9d910-14b3-469c-c836-bbcba8c7a099"
      },
      "outputs": [
        {
          "name": "stdout",
          "output_type": "stream",
          "text": [
            "Model: \"sequential\"\n",
            "_________________________________________________________________\n",
            " Layer (type)                Output Shape              Param #   \n",
            "=================================================================\n",
            " dense (Dense)               (None, 512)               401920    \n",
            "                                                                 \n",
            " activation (Activation)     (None, 512)               0         \n",
            "                                                                 \n",
            " dense_1 (Dense)             (None, 256)               131328    \n",
            "                                                                 \n",
            " activation_1 (Activation)   (None, 256)               0         \n",
            "                                                                 \n",
            " dense_2 (Dense)             (None, 10)                2570      \n",
            "                                                                 \n",
            " activation_2 (Activation)   (None, 10)                0         \n",
            "                                                                 \n",
            "=================================================================\n",
            "Total params: 535,818\n",
            "Trainable params: 535,818\n",
            "Non-trainable params: 0\n",
            "_________________________________________________________________\n"
          ]
        }
      ],
      "source": [
        "model = Sequential()\n",
        "model.add(Dense(512, input_shape=(784,)))\n",
        "model.add(Activation('relu'))\n",
        "model.add(Dense(256))\n",
        "model.add(Activation('relu'))\n",
        "model.add(Dense(10))\n",
        "model.add(Activation('softmax'))\n",
        "model.summary()"
      ]
    },
    {
      "cell_type": "markdown",
      "id": "c5d7685e",
      "metadata": {
        "id": "c5d7685e"
      },
      "source": [
        "### 모델 학습"
      ]
    },
    {
      "cell_type": "code",
      "execution_count": null,
      "id": "af22b5af",
      "metadata": {
        "ExecuteTime": {
          "end_time": "2022-10-13T13:56:39.412980Z",
          "start_time": "2022-10-13T13:56:29.136198Z"
        },
        "id": "af22b5af",
        "outputId": "6465417a-9d1f-4c64-bcd9-9fc39f6da5ff"
      },
      "outputs": [
        {
          "name": "stdout",
          "output_type": "stream",
          "text": [
            "Epoch 1/10\n",
            "469/469 [==============================] - 1s 2ms/step - loss: 0.2255 - accuracy: 0.9338\n",
            "Epoch 2/10\n",
            "469/469 [==============================] - 1s 2ms/step - loss: 0.0827 - accuracy: 0.9746\n",
            "Epoch 3/10\n",
            "469/469 [==============================] - 1s 2ms/step - loss: 0.0530 - accuracy: 0.9837\n",
            "Epoch 4/10\n",
            "469/469 [==============================] - 1s 2ms/step - loss: 0.0354 - accuracy: 0.9889\n",
            "Epoch 5/10\n",
            "469/469 [==============================] - 1s 2ms/step - loss: 0.0274 - accuracy: 0.9910\n",
            "Epoch 6/10\n",
            "469/469 [==============================] - 1s 2ms/step - loss: 0.0213 - accuracy: 0.9930\n",
            "Epoch 7/10\n",
            "469/469 [==============================] - 1s 2ms/step - loss: 0.0184 - accuracy: 0.9942\n",
            "Epoch 8/10\n",
            "469/469 [==============================] - 1s 2ms/step - loss: 0.0146 - accuracy: 0.9949\n",
            "Epoch 9/10\n",
            "469/469 [==============================] - 1s 2ms/step - loss: 0.0131 - accuracy: 0.9956\n",
            "Epoch 10/10\n",
            "469/469 [==============================] - 1s 2ms/step - loss: 0.0152 - accuracy: 0.9949\n"
          ]
        },
        {
          "data": {
            "text/plain": [
              "<keras.callbacks.History at 0x1c1e88d68e0>"
            ]
          },
          "execution_count": 7,
          "metadata": {},
          "output_type": "execute_result"
        }
      ],
      "source": [
        "model.compile(loss='categorical_crossentropy', optimizer='adam', metrics=['accuracy'])\n",
        "model.fit(X_train, Y_train, batch_size=128, epochs=10, verbose=1)"
      ]
    },
    {
      "cell_type": "markdown",
      "id": "17473982",
      "metadata": {
        "id": "17473982"
      },
      "source": [
        "### 모델 평가"
      ]
    },
    {
      "cell_type": "code",
      "execution_count": null,
      "id": "b66e4dbe",
      "metadata": {
        "ExecuteTime": {
          "end_time": "2022-10-13T14:03:36.030848Z",
          "start_time": "2022-10-13T14:03:35.824118Z"
        },
        "id": "b66e4dbe",
        "outputId": "fab82873-d913-43e6-e816-45eb5cc90293"
      },
      "outputs": [
        {
          "name": "stdout",
          "output_type": "stream",
          "text": [
            "313/313 [==============================] - 0s 542us/step - loss: 0.0761 - accuracy: 0.9808\n",
            "Test loss: 0.07609669119119644\n",
            "Test accuracy: 0.9807999730110168\n"
          ]
        }
      ],
      "source": [
        "score = model.evaluate(X_test, Y_test)\n",
        "print(\"Test loss:\", score[0])\n",
        "print(\"Test accuracy:\", score[1])"
      ]
    },
    {
      "cell_type": "markdown",
      "id": "71d3c3ce",
      "metadata": {
        "id": "71d3c3ce"
      },
      "source": [
        "### 모델 학습 결과 확인"
      ]
    },
    {
      "cell_type": "code",
      "execution_count": null,
      "id": "45cab46a",
      "metadata": {
        "ExecuteTime": {
          "end_time": "2022-10-13T14:06:12.341730Z",
          "start_time": "2022-10-13T14:06:12.176718Z"
        },
        "id": "45cab46a"
      },
      "outputs": [],
      "source": [
        "predicted_classes = np.argmax(model.predict(X_test), axis=1)\n",
        "correct_indices = np.nonzero(predicted_classes == y_test)[0]\n",
        "incorrect_indices = np.nonzero(predicted_classes != y_test)[0]"
      ]
    },
    {
      "cell_type": "code",
      "execution_count": null,
      "id": "737c0510",
      "metadata": {
        "ExecuteTime": {
          "end_time": "2022-10-13T14:10:21.133043Z",
          "start_time": "2022-10-13T14:10:20.710851Z"
        },
        "id": "737c0510",
        "outputId": "8c5e3750-7e8b-41c2-f91b-3146ac72aa4b"
      },
      "outputs": [
        {
          "data": {
            "image/png": "[encoded data removed]",
            "text/plain": [
              "<Figure size 432x288 with 9 Axes>"
            ]
          },
          "metadata": {
            "needs_background": "light"
          },
          "output_type": "display_data"
        }
      ],
      "source": [
        "plt.figure()\n",
        "for i in range(9):\n",
        "    plt.subplot(3, 3, i+1)\n",
        "    correct = correct_indices[i]\n",
        "    plt.imshow(X_test[correct].reshape(28, 28), cmap='gray')\n",
        "    plt.title(\"Predicted {}, Class {}\".format(predicted_classes[correct], y_test[correct]))\n",
        "plt.tight_layout()"
      ]
    },
    {
      "cell_type": "code",
      "execution_count": null,
      "id": "81349565",
      "metadata": {
        "ExecuteTime": {
          "end_time": "2022-10-13T14:14:12.191039Z",
          "start_time": "2022-10-13T14:14:11.797891Z"
        },
        "id": "81349565",
        "outputId": "948b55e6-6b4f-4ea6-a0dc-dd0ca9d71d4a"
      },
      "outputs": [
        {
          "data": {
            "image/png": "[encoded data removed]",
            "text/plain": [
              "<Figure size 432x288 with 9 Axes>"
            ]
          },
          "metadata": {
            "needs_background": "light"
          },
          "output_type": "display_data"
        }
      ],
      "source": [
        "plt.figure()\n",
        "for i in range(9):\n",
        "    plt.subplot(3, 3, i+1)\n",
        "    incorrect = incorrect_indices[i]\n",
        "    plt.imshow(X_test[incorrect].reshape(28, 28), cmap='gray')\n",
        "    plt.title(\"Predicted {}, Class {}\".format(predicted_classes[incorrect], y_test[incorrect]))\n",
        "plt.tight_layout()"
      ]
    }
  ],
  "metadata": {
    "kernelspec": {
      "display_name": "Python 3",
      "language": "python",
      "name": "python3"
    },
    "language_info": {
      "codemirror_mode": {
        "name": "ipython",
        "version": 3
      },
      "file_extension": ".py",
      "mimetype": "text/x-python",
      "name": "python",
      "nbconvert_exporter": "python",
      "pygments_lexer": "ipython3",
      "version": "3.8.8"
    },
    "latex_envs": {
      "LaTeX_envs_menu_present": true,
      "autoclose": false,
      "autocomplete": true,
      "bibliofile": "biblio.bib",
      "cite_by": "apalike",
      "current_citInitial": 1,
      "eqLabelWithNumbers": true,
      "eqNumInitial": 1,
      "hotkeys": {
        "equation": "Ctrl-E",
        "itemize": "Ctrl-I"
      },
      "labels_anchors": false,
      "latex_user_defs": false,
      "report_style_numbering": false,
      "user_envs_cfg": false
    },
    "toc": {
      "base_numbering": 1,
      "nav_menu": {},
      "number_sections": true,
      "sideBar": true,
      "skip_h1_title": false,
      "title_cell": "Table of Contents",
      "title_sidebar": "Contents",
      "toc_cell": false,
      "toc_position": {},
      "toc_section_display": true,
      "toc_window_display": false
    },
    "colab": {
      "provenance": [],
      "include_colab_link": true
    }
  },
  "nbformat": 4,
  "nbformat_minor": 5
}