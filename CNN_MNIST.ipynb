{
  "nbformat": 4,
  "nbformat_minor": 0,
  "metadata": {
    "colab": {
      "provenance": [],
      "authorship_tag": "ABX9TyOsqQA9OwD63SquJdVMYrWU",
      "include_colab_link": true
    },
    "kernelspec": {
      "name": "python3",
      "display_name": "Python 3"
    },
    "language_info": {
      "name": "python"
    },
    "accelerator": "GPU",
    "gpuClass": "standard"
  },
  "cells": [
    {
      "cell_type": "markdown",
      "metadata": {
        "id": "view-in-github",
        "colab_type": "text"
      },
      "source": [
        "<a href=\"https://colab.research.google.com/github/Byeon-MJ/DL_Practice_Repo/blob/main/CNN_MNIST.ipynb\" target=\"_parent\"><img src=\"https://colab.research.google.com/assets/colab-badge.svg\" alt=\"Open In Colab\"/></a>"
      ]
    },
    {
      "cell_type": "markdown",
      "source": [
        "# MNIST 손글씨 인식하기"
      ],
      "metadata": {
        "id": "eRxxT6VW908x"
      }
    },
    {
      "cell_type": "markdown",
      "source": [
        "## 기본 프레임 : No CNN"
      ],
      "metadata": {
        "id": "kCRocB5l-coj"
      }
    },
    {
      "cell_type": "code",
      "source": [
        "from keras.datasets import mnist\n",
        "from keras.utils import np_utils\n",
        "from keras.models import Sequential\n",
        "from keras.layers import Dense, Dropout, Flatten, Conv2D, MaxPooling2D\n",
        "from keras.callbacks import ModelCheckpoint, EarlyStopping\n",
        "\n",
        "import matplotlib.pyplot as plt\n",
        "import numpy as np\n",
        "import os\n",
        "import tensorflow as tf"
      ],
      "metadata": {
        "id": "4N3m85A_-f0x"
      },
      "execution_count": 38,
      "outputs": []
    },
    {
      "cell_type": "code",
      "source": [
        "# MNIST 데이터 로드\n",
        "(X_train, y_train), (X_test, y_test) = mnist.load_data()"
      ],
      "metadata": {
        "id": "yVzYmYA_-1wk"
      },
      "execution_count": 22,
      "outputs": []
    },
    {
      "cell_type": "code",
      "source": [
        "X_train.shape, y_train.shape"
      ],
      "metadata": {
        "colab": {
          "base_uri": "https://localhost:8080/"
        },
        "id": "p-ArfAGP--4J",
        "outputId": "0bd45a05-62c1-4ac0-c5f5-e208c891034e"
      },
      "execution_count": 23,
      "outputs": [
        {
          "output_type": "execute_result",
          "data": {
            "text/plain": [
              "((60000, 28, 28), (60000,))"
            ]
          },
          "metadata": {},
          "execution_count": 23
        }
      ]
    },
    {
      "cell_type": "code",
      "source": [
        "X_test.shape, y_test.shape"
      ],
      "metadata": {
        "colab": {
          "base_uri": "https://localhost:8080/"
        },
        "id": "oEDCzh-U_BKk",
        "outputId": "15fa6651-c24a-4224-cbbd-cbc8486ec396"
      },
      "execution_count": 24,
      "outputs": [
        {
          "output_type": "execute_result",
          "data": {
            "text/plain": [
              "((10000, 28, 28), (10000,))"
            ]
          },
          "metadata": {},
          "execution_count": 24
        }
      ]
    },
    {
      "cell_type": "code",
      "source": [
        "plt.imshow(X_train[0], cmap='Greys')\n",
        "plt.show()"
      ],
      "metadata": {
        "colab": {
          "base_uri": "https://localhost:8080/",
          "height": 265
        },
        "id": "bauHNRoKCNgk",
        "outputId": "c0116520-3cf5-46d2-af7a-92387b726b5c"
      },
      "execution_count": 25,
      "outputs": [
        {
          "output_type": "display_data",
          "data": {
            "text/plain": [
              "<Figure size 432x288 with 1 Axes>"
            ],
            "image/png": "[encoded data removed]"
          },
          "metadata": {
            "needs_background": "light"
          }
        }
      ]
    },
    {
      "cell_type": "code",
      "source": [
        "X_train = X_train.reshape(X_train.shape[0], 784).astype('float32') / 255\n",
        "X_test = X_test.reshape(X_test.shape[0], 784).astype('float32') / 255"
      ],
      "metadata": {
        "id": "PdZhM05H_ExC"
      },
      "execution_count": 27,
      "outputs": []
    },
    {
      "cell_type": "code",
      "source": [
        "y_train = np_utils.to_categorical(y_train, 10)\n",
        "y_test = np_utils.to_categorical(y_test, 10)"
      ],
      "metadata": {
        "id": "IHE51zzn_NIS"
      },
      "execution_count": 28,
      "outputs": []
    },
    {
      "cell_type": "code",
      "source": [
        "# 모델 정의\n",
        "model = Sequential()\n",
        "model.add(Dense(512, input_dim=784, activation='relu'))\n",
        "model.add(Dense(10, activation='softmax'))"
      ],
      "metadata": {
        "id": "ylNELPaR_ZK6"
      },
      "execution_count": 29,
      "outputs": []
    },
    {
      "cell_type": "code",
      "source": [
        "# 모델 실행 환경 설정\n",
        "model.compile(loss='categorical_crossentropy',\n",
        "              optimizer='adam',\n",
        "              metrics=['accuracy'])"
      ],
      "metadata": {
        "id": "lxVPC1jn_oRt"
      },
      "execution_count": 30,
      "outputs": []
    },
    {
      "cell_type": "code",
      "source": [
        "# Callback 설정\n",
        "model_dir = './model/'\n",
        "if not os.path.exists(model_dir):\n",
        "    os.mkdir(model_dir)\n",
        "\n",
        "model_path = \"./model/{epoch:02d}-{val_loss:.4f}.hdf5\"\n",
        "checkpointer = ModelCheckpoint(filepath=model_path, monitor='val_loss', verbose=1, save_best_only=True)\n",
        "early_stopping_callback = EarlyStopping(monitor='val_loss', patience=10)"
      ],
      "metadata": {
        "id": "e2XW087e_tyf"
      },
      "execution_count": 33,
      "outputs": []
    },
    {
      "cell_type": "code",
      "source": [
        "# 모델 학습\n",
        "history = model.fit(X_train, y_train, validation_data=(X_test, y_test), \n",
        "                    epochs=30, batch_size=200, verbose=0, \n",
        "                    callbacks=[early_stopping_callback, checkpointer])"
      ],
      "metadata": {
        "colab": {
          "base_uri": "https://localhost:8080/"
        },
        "id": "zjTFXiEXAPax",
        "outputId": "a4060df1-eb83-4d87-fcdf-94a39c4bb96f"
      },
      "execution_count": 34,
      "outputs": [
        {
          "output_type": "stream",
          "name": "stdout",
          "text": [
            "\n",
            "Epoch 1: val_loss improved from inf to 0.14747, saving model to ./model/01-0.1475.hdf5\n",
            "\n",
            "Epoch 2: val_loss improved from 0.14747 to 0.10506, saving model to ./model/02-0.1051.hdf5\n",
            "\n",
            "Epoch 3: val_loss improved from 0.10506 to 0.08683, saving model to ./model/03-0.0868.hdf5\n",
            "\n",
            "Epoch 4: val_loss improved from 0.08683 to 0.07469, saving model to ./model/04-0.0747.hdf5\n",
            "\n",
            "Epoch 5: val_loss improved from 0.07469 to 0.07089, saving model to ./model/05-0.0709.hdf5\n",
            "\n",
            "Epoch 6: val_loss improved from 0.07089 to 0.06895, saving model to ./model/06-0.0690.hdf5\n",
            "\n",
            "Epoch 7: val_loss improved from 0.06895 to 0.06191, saving model to ./model/07-0.0619.hdf5\n",
            "\n",
            "Epoch 8: val_loss improved from 0.06191 to 0.06127, saving model to ./model/08-0.0613.hdf5\n",
            "\n",
            "Epoch 9: val_loss did not improve from 0.06127\n",
            "\n",
            "Epoch 10: val_loss did not improve from 0.06127\n",
            "\n",
            "Epoch 11: val_loss did not improve from 0.06127\n",
            "\n",
            "Epoch 12: val_loss did not improve from 0.06127\n",
            "\n",
            "Epoch 13: val_loss did not improve from 0.06127\n",
            "\n",
            "Epoch 14: val_loss improved from 0.06127 to 0.06101, saving model to ./model/14-0.0610.hdf5\n",
            "\n",
            "Epoch 15: val_loss did not improve from 0.06101\n",
            "\n",
            "Epoch 16: val_loss did not improve from 0.06101\n",
            "\n",
            "Epoch 17: val_loss did not improve from 0.06101\n",
            "\n",
            "Epoch 18: val_loss did not improve from 0.06101\n",
            "\n",
            "Epoch 19: val_loss did not improve from 0.06101\n",
            "\n",
            "Epoch 20: val_loss did not improve from 0.06101\n",
            "\n",
            "Epoch 21: val_loss did not improve from 0.06101\n",
            "\n",
            "Epoch 22: val_loss did not improve from 0.06101\n",
            "\n",
            "Epoch 23: val_loss did not improve from 0.06101\n",
            "\n",
            "Epoch 24: val_loss did not improve from 0.06101\n"
          ]
        }
      ]
    },
    {
      "cell_type": "code",
      "source": [
        "# 테스트 정확도 출력\n",
        "print(f'Test Accuracy: {model.evaluate(X_test, y_test)[1]:.4f}')"
      ],
      "metadata": {
        "colab": {
          "base_uri": "https://localhost:8080/"
        },
        "id": "5yEzyjSjAfZS",
        "outputId": "699e7102-322b-475c-f9d6-659da6d0a457"
      },
      "execution_count": 35,
      "outputs": [
        {
          "output_type": "stream",
          "name": "stdout",
          "text": [
            "313/313 [==============================] - 1s 3ms/step - loss: 0.0695 - accuracy: 0.9835\n",
            "Test Accuracy: 0.9835\n"
          ]
        }
      ]
    },
    {
      "cell_type": "code",
      "source": [
        "# 테스트셋 오차\n",
        "y_vloss = history.history['val_loss']\n",
        "# 학습셋 오차\n",
        "y_loss = history.history['loss']\n",
        "\n",
        "# 그래프 그리기\n",
        "x_len = np.arange(len(y_loss))\n",
        "plt.plot(x_len, y_vloss, marker='.', c='red', label='Testset_loss')\n",
        "plt.plot(x_len, y_loss, marker='.', c='blue', label='Trainset_loss')\n",
        "plt.legend(loc='upper right')\n",
        "plt.grid()\n",
        "plt.xlabel('epoch')\n",
        "plt.ylabel('loss')\n",
        "plt.show()"
      ],
      "metadata": {
        "colab": {
          "base_uri": "https://localhost:8080/",
          "height": 279
        },
        "id": "q6z-7z00BUi0",
        "outputId": "18e79dfb-88e9-4e51-fc1e-36d48c1d753e"
      },
      "execution_count": 36,
      "outputs": [
        {
          "output_type": "display_data",
          "data": {
            "text/plain": [
              "<Figure size 432x288 with 1 Axes>"
            ],
            "image/png": "[encoded data removed]"
          },
          "metadata": {
            "needs_background": "light"
          }
        }
      ]
    },
    {
      "cell_type": "markdown",
      "source": [
        "## 컨볼루션 신경망 적용"
      ],
      "metadata": {
        "id": "QeMFxjz3B4ai"
      }
    },
    {
      "cell_type": "code",
      "source": [
        "# MNIST 데이터 로드\n",
        "(X_train, y_train), (X_test, y_test) = mnist.load_data()\n",
        "X_train = X_train.reshape(X_train.shape[0], 28, 28, 1).astype('float32') / 255\n",
        "X_test = X_test.reshape(X_test.shape[0], 28, 28, 1).astype('float32') / 255\n",
        "y_train = np_utils.to_categorical(y_train)\n",
        "y_test = np_utils.to_categorical(y_test)"
      ],
      "metadata": {
        "id": "AMPqhGQ3FqbI"
      },
      "execution_count": 43,
      "outputs": []
    },
    {
      "cell_type": "code",
      "source": [
        "# 컨볼루션 신경망 설정\n",
        "model = Sequential()\n",
        "model.add(Conv2D(32, kernel_size=(3, 3), input_shape=(28, 28, 1), activation='relu'))\n",
        "model.add(MaxPooling2D(pool_size=2))\n",
        "model.add(Dropout(0.25))\n",
        "model.add(Flatten())\n",
        "model.add(Dense(128, activation='relu'))\n",
        "model.add(Dropout(0.5))\n",
        "model.add(Dense(10, activation='softmax'))"
      ],
      "metadata": {
        "id": "86UDVscTDRiC"
      },
      "execution_count": 44,
      "outputs": []
    },
    {
      "cell_type": "code",
      "source": [
        "model.compile(loss='categorical_crossentropy', optimizer='adam', metrics=['accuracy'])"
      ],
      "metadata": {
        "id": "cWt5Br4HFBnM"
      },
      "execution_count": 45,
      "outputs": []
    },
    {
      "cell_type": "code",
      "source": [
        "# Callback 설정\n",
        "model_dir = './model_CNN/'\n",
        "if not os.path.exists(model_dir):\n",
        "    os.mkdir(model_dir)\n",
        "\n",
        "model_path = \"./model_CNN/{epoch:02d}-{val_loss:.4f}.hdf5\"\n",
        "checkpointer = ModelCheckpoint(filepath=model_path, monitor='val_loss', verbose=1, save_best_only=True)\n",
        "early_stopping_callback = EarlyStopping(monitor='val_loss', patience=10)"
      ],
      "metadata": {
        "id": "32n63rvTFTG6"
      },
      "execution_count": 46,
      "outputs": []
    },
    {
      "cell_type": "code",
      "source": [
        "# 모델 학습\n",
        "history = model.fit(X_train, y_train, validation_data=(X_test, y_test), \n",
        "                    epochs=30, batch_size=200, verbose=0, \n",
        "                    callbacks=[early_stopping_callback, checkpointer])"
      ],
      "metadata": {
        "colab": {
          "base_uri": "https://localhost:8080/"
        },
        "id": "KgUrm8bNFavE",
        "outputId": "9610ccef-a7d9-47bc-e912-7d1679942b9a"
      },
      "execution_count": 47,
      "outputs": [
        {
          "output_type": "stream",
          "name": "stdout",
          "text": [
            "\n",
            "Epoch 1: val_loss improved from inf to 0.11262, saving model to ./model_CNN/01-0.1126.hdf5\n",
            "\n",
            "Epoch 2: val_loss improved from 0.11262 to 0.06918, saving model to ./model_CNN/02-0.0692.hdf5\n",
            "\n",
            "Epoch 3: val_loss improved from 0.06918 to 0.05756, saving model to ./model_CNN/03-0.0576.hdf5\n",
            "\n",
            "Epoch 4: val_loss improved from 0.05756 to 0.05090, saving model to ./model_CNN/04-0.0509.hdf5\n",
            "\n",
            "Epoch 5: val_loss improved from 0.05090 to 0.04713, saving model to ./model_CNN/05-0.0471.hdf5\n",
            "\n",
            "Epoch 6: val_loss improved from 0.04713 to 0.04275, saving model to ./model_CNN/06-0.0428.hdf5\n",
            "\n",
            "Epoch 7: val_loss improved from 0.04275 to 0.04209, saving model to ./model_CNN/07-0.0421.hdf5\n",
            "\n",
            "Epoch 8: val_loss improved from 0.04209 to 0.03996, saving model to ./model_CNN/08-0.0400.hdf5\n",
            "\n",
            "Epoch 9: val_loss improved from 0.03996 to 0.03967, saving model to ./model_CNN/09-0.0397.hdf5\n",
            "\n",
            "Epoch 10: val_loss improved from 0.03967 to 0.03580, saving model to ./model_CNN/10-0.0358.hdf5\n",
            "\n",
            "Epoch 11: val_loss did not improve from 0.03580\n",
            "\n",
            "Epoch 12: val_loss did not improve from 0.03580\n",
            "\n",
            "Epoch 13: val_loss did not improve from 0.03580\n",
            "\n",
            "Epoch 14: val_loss did not improve from 0.03580\n",
            "\n",
            "Epoch 15: val_loss did not improve from 0.03580\n",
            "\n",
            "Epoch 16: val_loss did not improve from 0.03580\n",
            "\n",
            "Epoch 17: val_loss did not improve from 0.03580\n",
            "\n",
            "Epoch 18: val_loss improved from 0.03580 to 0.03578, saving model to ./model_CNN/18-0.0358.hdf5\n",
            "\n",
            "Epoch 19: val_loss improved from 0.03578 to 0.03296, saving model to ./model_CNN/19-0.0330.hdf5\n",
            "\n",
            "Epoch 20: val_loss did not improve from 0.03296\n",
            "\n",
            "Epoch 21: val_loss did not improve from 0.03296\n",
            "\n",
            "Epoch 22: val_loss did not improve from 0.03296\n",
            "\n",
            "Epoch 23: val_loss did not improve from 0.03296\n",
            "\n",
            "Epoch 24: val_loss did not improve from 0.03296\n",
            "\n",
            "Epoch 25: val_loss did not improve from 0.03296\n",
            "\n",
            "Epoch 26: val_loss did not improve from 0.03296\n",
            "\n",
            "Epoch 27: val_loss did not improve from 0.03296\n",
            "\n",
            "Epoch 28: val_loss did not improve from 0.03296\n",
            "\n",
            "Epoch 29: val_loss did not improve from 0.03296\n"
          ]
        }
      ]
    },
    {
      "cell_type": "code",
      "source": [
        "# 테스트 정확도 출력\n",
        "print(f'Test Accuracy: {model.evaluate(X_test, y_test)[1]:.4f}')"
      ],
      "metadata": {
        "colab": {
          "base_uri": "https://localhost:8080/"
        },
        "id": "m5L4djJWFfta",
        "outputId": "bbd31525-4972-401d-b85e-b6a0665ef66e"
      },
      "execution_count": 48,
      "outputs": [
        {
          "output_type": "stream",
          "name": "stdout",
          "text": [
            "313/313 [==============================] - 1s 4ms/step - loss: 0.0342 - accuracy: 0.9896\n",
            "Test Accuracy: 0.9896\n"
          ]
        }
      ]
    },
    {
      "cell_type": "code",
      "source": [
        "# 테스트셋 오차\n",
        "y_vloss = history.history['val_loss']\n",
        "# 학습셋 오차\n",
        "y_loss = history.history['loss']\n",
        "\n",
        "# 그래프 그리기\n",
        "x_len = np.arange(len(y_loss))\n",
        "plt.plot(x_len, y_vloss, marker='.', c='red', label='Testset_loss')\n",
        "plt.plot(x_len, y_loss, marker='.', c='blue', label='Trainset_loss')\n",
        "plt.legend(loc='upper right')\n",
        "plt.grid()\n",
        "plt.xlabel('epoch')\n",
        "plt.ylabel('loss')\n",
        "plt.show()"
      ],
      "metadata": {
        "colab": {
          "base_uri": "https://localhost:8080/",
          "height": 283
        },
        "id": "0cgFVwp1F4lo",
        "outputId": "84ab7c64-afc2-4db0-8fac-6b8ed4be127a"
      },
      "execution_count": 49,
      "outputs": [
        {
          "output_type": "display_data",
          "data": {
            "text/plain": [
              "<Figure size 432x288 with 1 Axes>"
            ],
            "image/png": "[encoded data removed]"
          },
          "metadata": {
            "needs_background": "light"
          }
        }
      ]
    },
    {
      "cell_type": "code",
      "source": [],
      "metadata": {
        "id": "xXcS0hb1GEDh"
      },
      "execution_count": null,
      "outputs": []
    }
  ]
}