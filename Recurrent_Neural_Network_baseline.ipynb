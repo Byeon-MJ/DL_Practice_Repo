{
  "cells": [
    {
      "cell_type": "markdown",
      "metadata": {
        "id": "view-in-github",
        "colab_type": "text"
      },
      "source": [
        "<a href=\"https://colab.research.google.com/github/Byeon-MJ/DL_Practice_Repo/blob/main/Recurrent_Neural_Network_baseline.ipynb\" target=\"_parent\"><img src=\"https://colab.research.google.com/assets/colab-badge.svg\" alt=\"Open In Colab\"/></a>"
      ]
    },
    {
      "cell_type": "markdown",
      "metadata": {
        "id": "lCgZw4qOcimW"
      },
      "source": [
        "# 순환 신경망으로 IMDB 리뷰 분류하기"
      ]
    },
    {
      "cell_type": "markdown",
      "metadata": {
        "id": "uQBYrqjvcp5A"
      },
      "source": [
        "## 순차 데이터\n",
        "* 텍스트나 시계열 데이터와 같이 순서에 의미가 있는 데이터"
      ]
    },
    {
      "cell_type": "markdown",
      "metadata": {
        "id": "cX04tRSfcuNM"
      },
      "source": [
        "## 순환 신경망\n",
        "* 앞의 입력으로 나온 출력이 다시 입력으로 사용\n",
        "* 이전 입력에 대한 기억이 어느정도 포함되어 있다.\n",
        "* 타임 스텝 : 샘플을 처리하는 한 단계\n",
        "* 셀 : 레이어의 개념\n",
        "* 은닉 상태 : 셀의 출력\n",
        "* RNN 에서는 활성화 함수로 tanh 를 많이 사용한다."
      ]
    },
    {
      "cell_type": "markdown",
      "metadata": {
        "id": "5Tak1FTBeLwM"
      },
      "source": [
        "## IMDB 리뷰 데이터셋\n",
        "* 유명한 인터넷 영화 데이터베이스 imdb.com에서 수집한 리뷰를 감상평에 따라 긍정과 부정으로 분류해 놓은 데이터셋\n",
        "* 토큰화 된 데이터셋, 1개의 토큰이 하나의 타임스텝으로 사용\n",
        "* 토큰 중 몇 개는 특정한 용도로 예약되는 경우가 많다. : 0(패딩), 1(문장 시작), 2(어휘 사전에 없는 토큰) 등"
      ]
    },
    {
      "cell_type": "code",
      "execution_count": 1,
      "metadata": {
        "id": "SknKeo_ViSxp",
        "colab": {
          "base_uri": "https://localhost:8080/"
        },
        "outputId": "15db9c51-9d94-4919-f474-aa02628428c7"
      },
      "outputs": [
        {
          "output_type": "stream",
          "name": "stdout",
          "text": [
            "Downloading data from https://storage.googleapis.com/tensorflow/tf-keras-datasets/imdb.npz\n",
            "17464789/17464789 [==============================] - 0s 0us/step\n"
          ]
        }
      ],
      "source": [
        "import tensorflow as tf\n",
        "from tensorflow import keras\n",
        "from keras.datasets import imdb\n",
        "(train_input, train_target), (test_input, test_target) = imdb.load_data(num_words=500)"
      ]
    },
    {
      "cell_type": "code",
      "execution_count": 2,
      "metadata": {
        "colab": {
          "base_uri": "https://localhost:8080/"
        },
        "id": "pkZg52ROi1_r",
        "outputId": "97717844-d272-4747-d2d3-9b37bd0e0f04"
      },
      "outputs": [
        {
          "output_type": "stream",
          "name": "stdout",
          "text": [
            "(25000,) (25000,)\n"
          ]
        }
      ],
      "source": [
        "# 개별 리뷰를 담은 파이썬 리스트 객체로 이루어진 넘파이 배열\n",
        "print(train_input.shape, test_input.shape)"
      ]
    },
    {
      "cell_type": "code",
      "execution_count": 3,
      "metadata": {
        "colab": {
          "base_uri": "https://localhost:8080/"
        },
        "id": "t8EaNywri5Ju",
        "outputId": "eca62e6e-acae-479e-cc98-3762493bd9f1"
      },
      "outputs": [
        {
          "output_type": "stream",
          "name": "stdout",
          "text": [
            "218\n"
          ]
        }
      ],
      "source": [
        "print(len(train_input[0]))"
      ]
    },
    {
      "cell_type": "code",
      "execution_count": 4,
      "metadata": {
        "colab": {
          "base_uri": "https://localhost:8080/"
        },
        "id": "J-6oMAdMjOAb",
        "outputId": "18e4ff10-8279-4d68-98e0-ca76bd5de3a0"
      },
      "outputs": [
        {
          "output_type": "stream",
          "name": "stdout",
          "text": [
            "189\n"
          ]
        }
      ],
      "source": [
        "print(len(train_input[1]))"
      ]
    },
    {
      "cell_type": "code",
      "execution_count": 5,
      "metadata": {
        "colab": {
          "base_uri": "https://localhost:8080/"
        },
        "id": "t13icFJ6jj_7",
        "outputId": "e784556a-379d-4373-c1bc-45dcf52ef4e1"
      },
      "outputs": [
        {
          "output_type": "stream",
          "name": "stdout",
          "text": [
            "[1, 14, 22, 16, 43, 2, 2, 2, 2, 65, 458, 2, 66, 2, 4, 173, 36, 256, 5, 25, 100, 43, 2, 112, 50, 2, 2, 9, 35, 480, 284, 5, 150, 4, 172, 112, 167, 2, 336, 385, 39, 4, 172, 2, 2, 17, 2, 38, 13, 447, 4, 192, 50, 16, 6, 147, 2, 19, 14, 22, 4, 2, 2, 469, 4, 22, 71, 87, 12, 16, 43, 2, 38, 76, 15, 13, 2, 4, 22, 17, 2, 17, 12, 16, 2, 18, 2, 5, 62, 386, 12, 8, 316, 8, 106, 5, 4, 2, 2, 16, 480, 66, 2, 33, 4, 130, 12, 16, 38, 2, 5, 25, 124, 51, 36, 135, 48, 25, 2, 33, 6, 22, 12, 215, 28, 77, 52, 5, 14, 407, 16, 82, 2, 8, 4, 107, 117, 2, 15, 256, 4, 2, 7, 2, 5, 2, 36, 71, 43, 2, 476, 26, 400, 317, 46, 7, 4, 2, 2, 13, 104, 88, 4, 381, 15, 297, 98, 32, 2, 56, 26, 141, 6, 194, 2, 18, 4, 226, 22, 21, 134, 476, 26, 480, 5, 144, 30, 2, 18, 51, 36, 28, 224, 92, 25, 104, 4, 226, 65, 16, 38, 2, 88, 12, 16, 283, 5, 16, 2, 113, 103, 32, 15, 16, 2, 19, 178, 32]\n"
          ]
        }
      ],
      "source": [
        "# 첫번째 리뷰에 담긴 내용 > 토큰화 되어있다.\n",
        "# 단어를 500개로 제한해서 어휘사전에 없는 단어는 모두 2로 표시됨\n",
        "print(train_input[0])"
      ]
    },
    {
      "cell_type": "code",
      "execution_count": 6,
      "metadata": {
        "colab": {
          "base_uri": "https://localhost:8080/"
        },
        "id": "pI1KrqGNjmZM",
        "outputId": "b1e2b99f-5824-4d12-8413-be1b2ee30e19"
      },
      "outputs": [
        {
          "output_type": "stream",
          "name": "stdout",
          "text": [
            "[1 0 0 1 0 0 1 0 1 0 1 0 0 0 0 0 1 1 0 1]\n"
          ]
        }
      ],
      "source": [
        "# 긍정 : 1, 부정 : 0\n",
        "print(train_target[:20])"
      ]
    },
    {
      "cell_type": "code",
      "execution_count": 7,
      "metadata": {
        "id": "W2pngemfjx55"
      },
      "outputs": [],
      "source": [
        "from sklearn.model_selection import train_test_split\n",
        "train_input, val_input, train_target, val_target = train_test_split(\n",
        "    train_input, train_target, test_size=0.2, random_state=42\n",
        ")"
      ]
    },
    {
      "cell_type": "markdown",
      "metadata": {
        "id": "EUWaZRctkXwK"
      },
      "source": [
        "### 훈련 세트 EDA"
      ]
    },
    {
      "cell_type": "code",
      "execution_count": 8,
      "metadata": {
        "id": "mwqVNMiVkbjF"
      },
      "outputs": [],
      "source": [
        "# 리뷰의 길이 계산하기\n",
        "import numpy as np\n",
        "lengths = np.array([len(x) for x in train_input])"
      ]
    },
    {
      "cell_type": "code",
      "execution_count": 9,
      "metadata": {
        "colab": {
          "base_uri": "https://localhost:8080/"
        },
        "id": "Q5FvX_cJkfER",
        "outputId": "c9653746-1cbf-4161-f1f1-5d4be2dc8ff8"
      },
      "outputs": [
        {
          "output_type": "stream",
          "name": "stdout",
          "text": [
            "239.00925 178.0\n"
          ]
        }
      ],
      "source": [
        "print(np.mean(lengths), np.median(lengths))"
      ]
    },
    {
      "cell_type": "code",
      "execution_count": 10,
      "metadata": {
        "colab": {
          "base_uri": "https://localhost:8080/",
          "height": 279
        },
        "id": "Z6s9ellAkhzs",
        "outputId": "1ee903a8-6c94-4892-be69-43d07d83ffd1"
      },
      "outputs": [
        {
          "output_type": "display_data",
          "data": {
            "text/plain": [
              "<Figure size 432x288 with 1 Axes>"
            ],
            "image/png": "[encoded data removed]"
          },
          "metadata": {
            "needs_background": "light"
          }
        }
      ],
      "source": [
        "import matplotlib.pyplot as plt\n",
        "plt.hist(lengths)\n",
        "plt.xlabel('length')\n",
        "plt.ylabel('frequency')\n",
        "plt.show()"
      ]
    },
    {
      "cell_type": "code",
      "execution_count": 11,
      "metadata": {
        "id": "a6XIrVtMkvpG"
      },
      "outputs": [],
      "source": [
        "# 시퀀스 데이터 길이를 맞추는 pad_sequences() 함수 사용, train_input 길이 100으로 맞추기\n",
        "# from tensorflow.keras.preprocessing.sequence import pad_sequences\n",
        "from keras.utils import pad_sequences\n",
        "train_seq = pad_sequences(train_input, maxlen=100)      # maxlen 보다 긴 시퀀스의 앞부분을 자른다.\n",
        "                                                        # 뒷부분을 자르고 싶다면 truncating 매개변수의 값을 'post'로 변경"
      ]
    },
    {
      "cell_type": "code",
      "execution_count": 12,
      "metadata": {
        "colab": {
          "base_uri": "https://localhost:8080/"
        },
        "id": "kim5akUUlDdX",
        "outputId": "4a0263e7-ceb4-481f-ffea-20f750bc965d"
      },
      "outputs": [
        {
          "output_type": "stream",
          "name": "stdout",
          "text": [
            "(20000, 100)\n"
          ]
        }
      ],
      "source": [
        "print(train_seq.shape)"
      ]
    },
    {
      "cell_type": "code",
      "execution_count": 13,
      "metadata": {
        "colab": {
          "base_uri": "https://localhost:8080/"
        },
        "id": "cMdhzH-xlrB2",
        "outputId": "a7e91752-dbab-49a9-e7f8-cb1ab6b43a9d"
      },
      "outputs": [
        {
          "output_type": "stream",
          "name": "stdout",
          "text": [
            "[ 10   4  20   9   2 364 352   5  45   6   2   2  33 269   8   2 142   2\n",
            "   5   2  17  73  17 204   5   2  19  55   2   2  92  66 104  14  20  93\n",
            "  76   2 151  33   4  58  12 188   2 151  12 215  69 224 142  73 237   6\n",
            "   2   7   2   2 188   2 103  14  31  10  10 451   7   2   5   2  80  91\n",
            "   2  30   2  34  14  20 151  50  26 131  49   2  84  46  50  37  80  79\n",
            "   6   2  46   7  14  20  10  10 470 158]\n"
          ]
        }
      ],
      "source": [
        "print(train_seq[0])"
      ]
    },
    {
      "cell_type": "code",
      "execution_count": 14,
      "metadata": {
        "colab": {
          "base_uri": "https://localhost:8080/"
        },
        "id": "X0hC_WmoltS3",
        "outputId": "fde89cb6-4327-4e28-cca0-70dcfccf0ceb"
      },
      "outputs": [
        {
          "output_type": "stream",
          "name": "stdout",
          "text": [
            "[6, 2, 46, 7, 14, 20, 10, 10, 470, 158]\n"
          ]
        }
      ],
      "source": [
        "print(train_input[0][-10:])"
      ]
    },
    {
      "cell_type": "code",
      "execution_count": 15,
      "metadata": {
        "colab": {
          "base_uri": "https://localhost:8080/"
        },
        "id": "qrInCrMql-ya",
        "outputId": "47c93353-a2c4-45a2-b3d1-62ee46810113"
      },
      "outputs": [
        {
          "output_type": "stream",
          "name": "stdout",
          "text": [
            "[  0   0   0   0   1   2 195  19  49   2   2 190   4   2 352   2 183  10\n",
            "  10  13  82  79   4   2  36  71 269   8   2  25  19  49   7   4   2   2\n",
            "   2   2   2  10  10  48  25  40   2  11   2   2  40   2   2   5   4   2\n",
            "   2  95  14 238  56 129   2  10  10  21   2  94 364 352   2   2  11 190\n",
            "  24 484   2   7  94 205 405  10  10  87   2  34  49   2   7   2   2   2\n",
            "   2   2 290   2  46  48  64  18   4   2]\n"
          ]
        }
      ],
      "source": [
        "print(train_seq[5])"
      ]
    },
    {
      "cell_type": "code",
      "execution_count": 16,
      "metadata": {
        "id": "kSt1PNPBmUxj"
      },
      "outputs": [],
      "source": [
        "val_seq = pad_sequences(val_input, maxlen=100)"
      ]
    },
    {
      "cell_type": "markdown",
      "metadata": {
        "id": "z8tZPoqImduD"
      },
      "source": [
        "## 순환 신경망 만들기 "
      ]
    },
    {
      "cell_type": "code",
      "execution_count": 17,
      "metadata": {
        "id": "vXGUYJ3KJXq9"
      },
      "outputs": [],
      "source": [
        "from tensorflow import keras\n",
        "model = keras.Sequential()\n",
        "model.add(keras.layers.SimpleRNN(8, input_shape=(100, 500)))\n",
        "model.add(keras.layers.Dense(1, activation='sigmoid'))"
      ]
    },
    {
      "cell_type": "code",
      "execution_count": 18,
      "metadata": {
        "id": "szW7RMm0Juhn"
      },
      "outputs": [],
      "source": [
        "# to_categorical() : 원-핫 인코딩된 배열 반환\n",
        "train_oh = keras.utils.to_categorical(train_seq)"
      ]
    },
    {
      "cell_type": "code",
      "execution_count": 19,
      "metadata": {
        "colab": {
          "base_uri": "https://localhost:8080/"
        },
        "id": "RfMUqt49LYGS",
        "outputId": "958ac2b1-ba9a-46f4-a297-0f8659e93dbd"
      },
      "outputs": [
        {
          "output_type": "stream",
          "name": "stdout",
          "text": [
            "(20000, 100, 500)\n"
          ]
        }
      ],
      "source": [
        "print(train_oh.shape)"
      ]
    },
    {
      "cell_type": "code",
      "execution_count": 20,
      "metadata": {
        "colab": {
          "base_uri": "https://localhost:8080/"
        },
        "id": "IX-eVmzgLd_K",
        "outputId": "df9c0419-29ad-42bf-c6a6-72d68d70b8e6"
      },
      "outputs": [
        {
          "output_type": "stream",
          "name": "stdout",
          "text": [
            "[0. 0. 0. 0. 0. 0. 0. 0. 0. 0. 1. 0.]\n"
          ]
        }
      ],
      "source": [
        "# 원-핫 인코딩 확인\n",
        "print(train_oh[0][0][:12])"
      ]
    },
    {
      "cell_type": "code",
      "execution_count": 21,
      "metadata": {
        "colab": {
          "base_uri": "https://localhost:8080/"
        },
        "id": "jYpinjgeLqTi",
        "outputId": "fb8c2da2-62ad-402d-ca24-f9e6d18c3706"
      },
      "outputs": [
        {
          "output_type": "stream",
          "name": "stdout",
          "text": [
            "1.0\n"
          ]
        }
      ],
      "source": [
        "print(np.sum(train_oh[0][0]))"
      ]
    },
    {
      "cell_type": "code",
      "execution_count": 22,
      "metadata": {
        "id": "bMNAhwIsLxer"
      },
      "outputs": [],
      "source": [
        "# val_seq도 원-핫 인코딩\n",
        "val_oh = keras.utils.to_categorical(val_seq)"
      ]
    },
    {
      "cell_type": "code",
      "execution_count": 23,
      "metadata": {
        "colab": {
          "base_uri": "https://localhost:8080/"
        },
        "id": "4v88oN4eL4WT",
        "outputId": "21739347-107c-4211-940c-9bebef85e543"
      },
      "outputs": [
        {
          "output_type": "stream",
          "name": "stdout",
          "text": [
            "Model: \"sequential\"\n",
            "_________________________________________________________________\n",
            " Layer (type)                Output Shape              Param #   \n",
            "=================================================================\n",
            " simple_rnn (SimpleRNN)      (None, 8)                 4072      \n",
            "                                                                 \n",
            " dense (Dense)               (None, 1)                 9         \n",
            "                                                                 \n",
            "=================================================================\n",
            "Total params: 4,081\n",
            "Trainable params: 4,081\n",
            "Non-trainable params: 0\n",
            "_________________________________________________________________\n"
          ]
        }
      ],
      "source": [
        "# 모델 구조 출력\n",
        "model.summary()"
      ]
    },
    {
      "cell_type": "markdown",
      "metadata": {
        "id": "y_bQ5HcjL96R"
      },
      "source": [
        "## 순환 신경망 훈련하기"
      ]
    },
    {
      "cell_type": "code",
      "execution_count": 24,
      "metadata": {
        "colab": {
          "base_uri": "https://localhost:8080/"
        },
        "id": "IwHdsWCDMpIj",
        "outputId": "64221c92-01bb-4cad-976a-32d8dc9e777f"
      },
      "outputs": [
        {
          "output_type": "stream",
          "name": "stdout",
          "text": [
            "Epoch 1/100\n",
            "313/313 [==============================] - 26s 74ms/step - loss: 0.6968 - accuracy: 0.5064 - val_loss: 0.6959 - val_accuracy: 0.5148\n",
            "Epoch 2/100\n",
            "313/313 [==============================] - 23s 75ms/step - loss: 0.6935 - accuracy: 0.5155 - val_loss: 0.6937 - val_accuracy: 0.5246\n",
            "Epoch 3/100\n",
            "313/313 [==============================] - 22s 70ms/step - loss: 0.6909 - accuracy: 0.5286 - val_loss: 0.6918 - val_accuracy: 0.5342\n",
            "Epoch 4/100\n",
            "313/313 [==============================] - 21s 68ms/step - loss: 0.6886 - accuracy: 0.5379 - val_loss: 0.6899 - val_accuracy: 0.5414\n",
            "Epoch 5/100\n",
            "313/313 [==============================] - 21s 68ms/step - loss: 0.6862 - accuracy: 0.5497 - val_loss: 0.6876 - val_accuracy: 0.5522\n",
            "Epoch 6/100\n",
            "313/313 [==============================] - 22s 71ms/step - loss: 0.6826 - accuracy: 0.5634 - val_loss: 0.6837 - val_accuracy: 0.5582\n",
            "Epoch 7/100\n",
            "313/313 [==============================] - 21s 68ms/step - loss: 0.6730 - accuracy: 0.5979 - val_loss: 0.6614 - val_accuracy: 0.6272\n",
            "Epoch 8/100\n",
            "313/313 [==============================] - 22s 69ms/step - loss: 0.6463 - accuracy: 0.6531 - val_loss: 0.6469 - val_accuracy: 0.6484\n",
            "Epoch 9/100\n",
            "313/313 [==============================] - 22s 70ms/step - loss: 0.6308 - accuracy: 0.6742 - val_loss: 0.6321 - val_accuracy: 0.6618\n",
            "Epoch 10/100\n",
            "313/313 [==============================] - 21s 68ms/step - loss: 0.6156 - accuracy: 0.6878 - val_loss: 0.6170 - val_accuracy: 0.6868\n",
            "Epoch 11/100\n",
            "313/313 [==============================] - 22s 69ms/step - loss: 0.6024 - accuracy: 0.7022 - val_loss: 0.6054 - val_accuracy: 0.6958\n",
            "Epoch 12/100\n",
            "313/313 [==============================] - 24s 76ms/step - loss: 0.5905 - accuracy: 0.7129 - val_loss: 0.5928 - val_accuracy: 0.7100\n",
            "Epoch 13/100\n",
            "313/313 [==============================] - 22s 69ms/step - loss: 0.5770 - accuracy: 0.7260 - val_loss: 0.5823 - val_accuracy: 0.7146\n",
            "Epoch 14/100\n",
            "313/313 [==============================] - 22s 70ms/step - loss: 0.5663 - accuracy: 0.7308 - val_loss: 0.5712 - val_accuracy: 0.7272\n",
            "Epoch 15/100\n",
            "313/313 [==============================] - 21s 68ms/step - loss: 0.5558 - accuracy: 0.7373 - val_loss: 0.5610 - val_accuracy: 0.7310\n",
            "Epoch 16/100\n",
            "313/313 [==============================] - 21s 68ms/step - loss: 0.5450 - accuracy: 0.7449 - val_loss: 0.5613 - val_accuracy: 0.7260\n",
            "Epoch 17/100\n",
            "313/313 [==============================] - 21s 69ms/step - loss: 0.5368 - accuracy: 0.7495 - val_loss: 0.5451 - val_accuracy: 0.7410\n",
            "Epoch 18/100\n",
            "313/313 [==============================] - 21s 67ms/step - loss: 0.5276 - accuracy: 0.7566 - val_loss: 0.5435 - val_accuracy: 0.7402\n",
            "Epoch 19/100\n",
            "313/313 [==============================] - 21s 68ms/step - loss: 0.5196 - accuracy: 0.7595 - val_loss: 0.5323 - val_accuracy: 0.7472\n",
            "Epoch 20/100\n",
            "313/313 [==============================] - 22s 70ms/step - loss: 0.5136 - accuracy: 0.7628 - val_loss: 0.5250 - val_accuracy: 0.7532\n",
            "Epoch 21/100\n",
            "313/313 [==============================] - 21s 67ms/step - loss: 0.5054 - accuracy: 0.7704 - val_loss: 0.5194 - val_accuracy: 0.7540\n",
            "Epoch 22/100\n",
            "313/313 [==============================] - 21s 69ms/step - loss: 0.4999 - accuracy: 0.7727 - val_loss: 0.5141 - val_accuracy: 0.7564\n",
            "Epoch 23/100\n",
            "313/313 [==============================] - 23s 74ms/step - loss: 0.4921 - accuracy: 0.7756 - val_loss: 0.5138 - val_accuracy: 0.7606\n",
            "Epoch 24/100\n",
            "313/313 [==============================] - 21s 68ms/step - loss: 0.4869 - accuracy: 0.7785 - val_loss: 0.5060 - val_accuracy: 0.7624\n",
            "Epoch 25/100\n",
            "313/313 [==============================] - 22s 69ms/step - loss: 0.4805 - accuracy: 0.7832 - val_loss: 0.5004 - val_accuracy: 0.7650\n",
            "Epoch 26/100\n",
            "313/313 [==============================] - 21s 67ms/step - loss: 0.4745 - accuracy: 0.7864 - val_loss: 0.4954 - val_accuracy: 0.7672\n",
            "Epoch 27/100\n",
            "313/313 [==============================] - 21s 67ms/step - loss: 0.4697 - accuracy: 0.7883 - val_loss: 0.4968 - val_accuracy: 0.7696\n",
            "Epoch 28/100\n",
            "313/313 [==============================] - 22s 70ms/step - loss: 0.4649 - accuracy: 0.7919 - val_loss: 0.4909 - val_accuracy: 0.7700\n",
            "Epoch 29/100\n",
            "313/313 [==============================] - 21s 67ms/step - loss: 0.4605 - accuracy: 0.7944 - val_loss: 0.4868 - val_accuracy: 0.7712\n",
            "Epoch 30/100\n",
            "313/313 [==============================] - 21s 68ms/step - loss: 0.4567 - accuracy: 0.7947 - val_loss: 0.4817 - val_accuracy: 0.7720\n",
            "Epoch 31/100\n",
            "313/313 [==============================] - 22s 70ms/step - loss: 0.4524 - accuracy: 0.7980 - val_loss: 0.4789 - val_accuracy: 0.7748\n",
            "Epoch 32/100\n",
            "313/313 [==============================] - 23s 73ms/step - loss: 0.4491 - accuracy: 0.7999 - val_loss: 0.4775 - val_accuracy: 0.7770\n",
            "Epoch 33/100\n",
            "313/313 [==============================] - 21s 68ms/step - loss: 0.4458 - accuracy: 0.8019 - val_loss: 0.4750 - val_accuracy: 0.7778\n",
            "Epoch 34/100\n",
            "313/313 [==============================] - 22s 69ms/step - loss: 0.4423 - accuracy: 0.8030 - val_loss: 0.4753 - val_accuracy: 0.7720\n",
            "Epoch 35/100\n",
            "313/313 [==============================] - 21s 68ms/step - loss: 0.4394 - accuracy: 0.8044 - val_loss: 0.4769 - val_accuracy: 0.7806\n",
            "Epoch 36/100\n",
            "313/313 [==============================] - 21s 68ms/step - loss: 0.4374 - accuracy: 0.8063 - val_loss: 0.4710 - val_accuracy: 0.7770\n",
            "Epoch 37/100\n",
            "313/313 [==============================] - 21s 68ms/step - loss: 0.4340 - accuracy: 0.8081 - val_loss: 0.4651 - val_accuracy: 0.7818\n",
            "Epoch 38/100\n",
            "313/313 [==============================] - 21s 68ms/step - loss: 0.4317 - accuracy: 0.8105 - val_loss: 0.4632 - val_accuracy: 0.7830\n",
            "Epoch 39/100\n",
            "313/313 [==============================] - 22s 69ms/step - loss: 0.4295 - accuracy: 0.8116 - val_loss: 0.4639 - val_accuracy: 0.7798\n",
            "Epoch 40/100\n",
            "313/313 [==============================] - 21s 68ms/step - loss: 0.4268 - accuracy: 0.8123 - val_loss: 0.4612 - val_accuracy: 0.7816\n",
            "Epoch 41/100\n",
            "313/313 [==============================] - 21s 67ms/step - loss: 0.4248 - accuracy: 0.8126 - val_loss: 0.4600 - val_accuracy: 0.7818\n",
            "Epoch 42/100\n",
            "313/313 [==============================] - 22s 70ms/step - loss: 0.4229 - accuracy: 0.8141 - val_loss: 0.4586 - val_accuracy: 0.7812\n",
            "Epoch 43/100\n",
            "313/313 [==============================] - 23s 74ms/step - loss: 0.4205 - accuracy: 0.8166 - val_loss: 0.4615 - val_accuracy: 0.7850\n",
            "Epoch 44/100\n",
            "313/313 [==============================] - 21s 67ms/step - loss: 0.4192 - accuracy: 0.8158 - val_loss: 0.4605 - val_accuracy: 0.7826\n",
            "Epoch 45/100\n",
            "313/313 [==============================] - 21s 68ms/step - loss: 0.4173 - accuracy: 0.8167 - val_loss: 0.4577 - val_accuracy: 0.7832\n",
            "Epoch 46/100\n",
            "313/313 [==============================] - 21s 68ms/step - loss: 0.4156 - accuracy: 0.8174 - val_loss: 0.4571 - val_accuracy: 0.7826\n",
            "Epoch 47/100\n",
            "313/313 [==============================] - 21s 68ms/step - loss: 0.4140 - accuracy: 0.8195 - val_loss: 0.4594 - val_accuracy: 0.7872\n",
            "Epoch 48/100\n",
            "313/313 [==============================] - 21s 68ms/step - loss: 0.4132 - accuracy: 0.8174 - val_loss: 0.4567 - val_accuracy: 0.7836\n",
            "Epoch 49/100\n",
            "313/313 [==============================] - 21s 68ms/step - loss: 0.4112 - accuracy: 0.8203 - val_loss: 0.4590 - val_accuracy: 0.7818\n",
            "Epoch 50/100\n",
            "313/313 [==============================] - 21s 69ms/step - loss: 0.4102 - accuracy: 0.8195 - val_loss: 0.4598 - val_accuracy: 0.7862\n",
            "Epoch 51/100\n",
            "313/313 [==============================] - 21s 68ms/step - loss: 0.4084 - accuracy: 0.8213 - val_loss: 0.4571 - val_accuracy: 0.7876\n"
          ]
        }
      ],
      "source": [
        "rmsprop = keras.optimizers.RMSprop(learning_rate=1e-4)\n",
        "model.compile(optimizer=rmsprop, loss='binary_crossentropy', metrics=['accuracy'])\n",
        "\n",
        "checkpoint_cb = keras.callbacks.ModelCheckpoint('best-simplernn-model.h5', save_best_only=True)\n",
        "early_stopping_cb = keras.callbacks.EarlyStopping(patience=3, restore_best_weights=True)\n",
        "\n",
        "history = model.fit(train_oh, train_target, epochs=100, batch_size=64,\n",
        "                    validation_data=(val_oh, val_target),\n",
        "                    callbacks=[checkpoint_cb, early_stopping_cb])"
      ]
    },
    {
      "cell_type": "code",
      "execution_count": 25,
      "metadata": {
        "colab": {
          "base_uri": "https://localhost:8080/",
          "height": 279
        },
        "id": "d6AjStLTQgli",
        "outputId": "acb62b46-f882-45a4-97a8-4e9563077fbe"
      },
      "outputs": [
        {
          "output_type": "display_data",
          "data": {
            "text/plain": [
              "<Figure size 432x288 with 1 Axes>"
            ],
            "image/png": "[encoded data removed]"
          },
          "metadata": {
            "needs_background": "light"
          }
        }
      ],
      "source": [
        "# 훈련 손실과 검증 손실 그래프\n",
        "plt.plot(history.history['loss'])\n",
        "plt.plot(history.history['val_loss'])\n",
        "plt.xlabel('epoch')\n",
        "plt.ylabel('loss')\n",
        "plt.legend(['train', 'val'])\n",
        "plt.show()"
      ]
    },
    {
      "cell_type": "code",
      "execution_count": 26,
      "metadata": {
        "colab": {
          "base_uri": "https://localhost:8080/"
        },
        "id": "FZzIA0wURt_D",
        "outputId": "498e194a-05dd-42b3-828a-1d2fd5047260"
      },
      "outputs": [
        {
          "output_type": "stream",
          "name": "stdout",
          "text": [
            "8000000 4000000000\n"
          ]
        }
      ],
      "source": [
        "print(train_seq.nbytes, train_oh.nbytes)"
      ]
    },
    {
      "cell_type": "markdown",
      "metadata": {
        "id": "0GdBA9t4RyiI"
      },
      "source": [
        "## 단어 임베딩을 사용하기\n",
        "* 케라스의 keras.layers 패키지 아래 Embedding 클래스로 임베딩 기능 제공\n",
        "* 단어 임베딩을 사용하면 메모리를 훨씬 효율적으로 사용할 수 있다."
      ]
    },
    {
      "cell_type": "code",
      "execution_count": 27,
      "metadata": {
        "id": "fKRE2tBDSLQF"
      },
      "outputs": [],
      "source": [
        "model2 = keras.Sequential()\n",
        "model2.add(keras.layers.Embedding(500, 16, input_length=100))\n",
        "model2.add(keras.layers.SimpleRNN(8))\n",
        "model2.add(keras.layers.Dense(1, activation='sigmoid'))"
      ]
    },
    {
      "cell_type": "code",
      "execution_count": 28,
      "metadata": {
        "colab": {
          "base_uri": "https://localhost:8080/"
        },
        "id": "Uj43balDSqK7",
        "outputId": "c496ecfa-36a4-4085-a3b9-065d914f2ed6"
      },
      "outputs": [
        {
          "output_type": "stream",
          "name": "stdout",
          "text": [
            "Model: \"sequential_1\"\n",
            "_________________________________________________________________\n",
            " Layer (type)                Output Shape              Param #   \n",
            "=================================================================\n",
            " embedding (Embedding)       (None, 100, 16)           8000      \n",
            "                                                                 \n",
            " simple_rnn_1 (SimpleRNN)    (None, 8)                 200       \n",
            "                                                                 \n",
            " dense_1 (Dense)             (None, 1)                 9         \n",
            "                                                                 \n",
            "=================================================================\n",
            "Total params: 8,209\n",
            "Trainable params: 8,209\n",
            "Non-trainable params: 0\n",
            "_________________________________________________________________\n"
          ]
        }
      ],
      "source": [
        "model2.summary()"
      ]
    },
    {
      "cell_type": "code",
      "execution_count": 29,
      "metadata": {
        "colab": {
          "base_uri": "https://localhost:8080/"
        },
        "id": "k9Zz0hyLXlw3",
        "outputId": "9c45d92f-cb56-4b62-9019-9ae254540538"
      },
      "outputs": [
        {
          "output_type": "stream",
          "name": "stdout",
          "text": [
            "Epoch 1/100\n",
            "313/313 [==============================] - 30s 92ms/step - loss: 0.6872 - accuracy: 0.5513 - val_loss: 0.6755 - val_accuracy: 0.6130\n",
            "Epoch 2/100\n",
            "313/313 [==============================] - 29s 94ms/step - loss: 0.6677 - accuracy: 0.6329 - val_loss: 0.6601 - val_accuracy: 0.6542\n",
            "Epoch 3/100\n",
            "313/313 [==============================] - 29s 93ms/step - loss: 0.6467 - accuracy: 0.6809 - val_loss: 0.6398 - val_accuracy: 0.6908\n",
            "Epoch 4/100\n",
            "313/313 [==============================] - 29s 93ms/step - loss: 0.6264 - accuracy: 0.7088 - val_loss: 0.6226 - val_accuracy: 0.7142\n",
            "Epoch 5/100\n",
            "313/313 [==============================] - 29s 92ms/step - loss: 0.6074 - accuracy: 0.7278 - val_loss: 0.6040 - val_accuracy: 0.7264\n",
            "Epoch 6/100\n",
            "313/313 [==============================] - 30s 95ms/step - loss: 0.5893 - accuracy: 0.7403 - val_loss: 0.5861 - val_accuracy: 0.7390\n",
            "Epoch 7/100\n",
            "313/313 [==============================] - 28s 91ms/step - loss: 0.5711 - accuracy: 0.7534 - val_loss: 0.5732 - val_accuracy: 0.7414\n",
            "Epoch 8/100\n",
            "313/313 [==============================] - 32s 101ms/step - loss: 0.5543 - accuracy: 0.7633 - val_loss: 0.5567 - val_accuracy: 0.7542\n",
            "Epoch 9/100\n",
            "313/313 [==============================] - 29s 92ms/step - loss: 0.5378 - accuracy: 0.7723 - val_loss: 0.5439 - val_accuracy: 0.7540\n",
            "Epoch 10/100\n",
            "313/313 [==============================] - 29s 94ms/step - loss: 0.5227 - accuracy: 0.7793 - val_loss: 0.5308 - val_accuracy: 0.7630\n",
            "Epoch 11/100\n",
            "313/313 [==============================] - 29s 92ms/step - loss: 0.5086 - accuracy: 0.7862 - val_loss: 0.5190 - val_accuracy: 0.7666\n",
            "Epoch 12/100\n",
            "313/313 [==============================] - 29s 94ms/step - loss: 0.4960 - accuracy: 0.7902 - val_loss: 0.5122 - val_accuracy: 0.7648\n",
            "Epoch 13/100\n",
            "313/313 [==============================] - 29s 91ms/step - loss: 0.4839 - accuracy: 0.7964 - val_loss: 0.5029 - val_accuracy: 0.7728\n",
            "Epoch 14/100\n",
            "313/313 [==============================] - 29s 94ms/step - loss: 0.4734 - accuracy: 0.8020 - val_loss: 0.4942 - val_accuracy: 0.7766\n",
            "Epoch 15/100\n",
            "313/313 [==============================] - 28s 90ms/step - loss: 0.4639 - accuracy: 0.8048 - val_loss: 0.4856 - val_accuracy: 0.7808\n",
            "Epoch 16/100\n",
            "313/313 [==============================] - 31s 98ms/step - loss: 0.4551 - accuracy: 0.8076 - val_loss: 0.4804 - val_accuracy: 0.7814\n",
            "Epoch 17/100\n",
            "313/313 [==============================] - 29s 92ms/step - loss: 0.4471 - accuracy: 0.8119 - val_loss: 0.4763 - val_accuracy: 0.7844\n",
            "Epoch 18/100\n",
            "313/313 [==============================] - 29s 93ms/step - loss: 0.4408 - accuracy: 0.8120 - val_loss: 0.4731 - val_accuracy: 0.7826\n",
            "Epoch 19/100\n",
            "313/313 [==============================] - 29s 92ms/step - loss: 0.4344 - accuracy: 0.8156 - val_loss: 0.4677 - val_accuracy: 0.7844\n",
            "Epoch 20/100\n",
            "313/313 [==============================] - 29s 93ms/step - loss: 0.4286 - accuracy: 0.8188 - val_loss: 0.4689 - val_accuracy: 0.7858\n",
            "Epoch 21/100\n",
            "313/313 [==============================] - 29s 91ms/step - loss: 0.4240 - accuracy: 0.8181 - val_loss: 0.4655 - val_accuracy: 0.7880\n",
            "Epoch 22/100\n",
            "313/313 [==============================] - 29s 94ms/step - loss: 0.4197 - accuracy: 0.8200 - val_loss: 0.4617 - val_accuracy: 0.7870\n",
            "Epoch 23/100\n",
            "313/313 [==============================] - 29s 91ms/step - loss: 0.4160 - accuracy: 0.8210 - val_loss: 0.4651 - val_accuracy: 0.7830\n",
            "Epoch 24/100\n",
            "313/313 [==============================] - 31s 99ms/step - loss: 0.4121 - accuracy: 0.8235 - val_loss: 0.4609 - val_accuracy: 0.7852\n",
            "Epoch 25/100\n",
            "313/313 [==============================] - 29s 94ms/step - loss: 0.4093 - accuracy: 0.8235 - val_loss: 0.4658 - val_accuracy: 0.7886\n",
            "Epoch 26/100\n",
            "313/313 [==============================] - 29s 92ms/step - loss: 0.4064 - accuracy: 0.8245 - val_loss: 0.4598 - val_accuracy: 0.7880\n",
            "Epoch 27/100\n",
            "313/313 [==============================] - 29s 91ms/step - loss: 0.4036 - accuracy: 0.8245 - val_loss: 0.4595 - val_accuracy: 0.7900\n",
            "Epoch 28/100\n",
            "313/313 [==============================] - 29s 92ms/step - loss: 0.4013 - accuracy: 0.8261 - val_loss: 0.4585 - val_accuracy: 0.7874\n",
            "Epoch 29/100\n",
            "313/313 [==============================] - 29s 94ms/step - loss: 0.3991 - accuracy: 0.8269 - val_loss: 0.4608 - val_accuracy: 0.7886\n",
            "Epoch 30/100\n",
            "313/313 [==============================] - 29s 91ms/step - loss: 0.3975 - accuracy: 0.8279 - val_loss: 0.4619 - val_accuracy: 0.7874\n",
            "Epoch 31/100\n",
            "313/313 [==============================] - 29s 92ms/step - loss: 0.3959 - accuracy: 0.8295 - val_loss: 0.4593 - val_accuracy: 0.7888\n"
          ]
        }
      ],
      "source": [
        "rmsprop = keras.optimizers.RMSprop(learning_rate=1e-4)\n",
        "model2.compile(optimizer=rmsprop, loss='binary_crossentropy', metrics=['accuracy'])\n",
        "\n",
        "checkpoint_cb = keras.callbacks.ModelCheckpoint('best-embedding-model.h5', save_best_only=True)\n",
        "early_stopping_cb = keras.callbacks.EarlyStopping(patience=3, restore_best_weights=True)\n",
        "\n",
        "history = model2.fit(train_seq, train_target, epochs=100, batch_size=64,\n",
        "                    validation_data=(val_seq, val_target),\n",
        "                    callbacks=[checkpoint_cb, early_stopping_cb])"
      ]
    },
    {
      "cell_type": "code",
      "execution_count": 30,
      "metadata": {
        "colab": {
          "base_uri": "https://localhost:8080/",
          "height": 282
        },
        "id": "RwkaSzmBZGtx",
        "outputId": "b7323af1-fa05-4502-d2b1-a9a2ba4f879a"
      },
      "outputs": [
        {
          "output_type": "display_data",
          "data": {
            "text/plain": [
              "<Figure size 432x288 with 1 Axes>"
            ],
            "image/png": "[encoded data removed]"
          },
          "metadata": {
            "needs_background": "light"
          }
        }
      ],
      "source": [
        "# 훈련 손실과 검증 손실 그래프\n",
        "plt.plot(history.history['loss'])\n",
        "plt.plot(history.history['val_loss'])\n",
        "plt.xlabel('epoch')\n",
        "plt.ylabel('loss')\n",
        "plt.legend(['train', 'val'])\n",
        "plt.show()"
      ]
    }
  ],
  "metadata": {
    "accelerator": "GPU",
    "colab": {
      "provenance": [],
      "authorship_tag": "ABX9TyMaM/6hJhov1mMb+LdXrB+Y",
      "include_colab_link": true
    },
    "gpuClass": "standard",
    "kernelspec": {
      "display_name": "Python 3",
      "name": "python3"
    },
    "language_info": {
      "name": "python"
    }
  },
  "nbformat": 4,
  "nbformat_minor": 0
}