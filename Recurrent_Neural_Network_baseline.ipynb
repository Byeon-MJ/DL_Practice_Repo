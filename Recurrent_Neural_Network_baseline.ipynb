{
  "nbformat": 4,
  "nbformat_minor": 0,
  "metadata": {
    "colab": {
      "provenance": [],
      "authorship_tag": "ABX9TyMaM/6hJhov1mMb+LdXrB+Y",
      "include_colab_link": true
    },
    "kernelspec": {
      "name": "python3",
      "display_name": "Python 3"
    },
    "language_info": {
      "name": "python"
    },
    "gpuClass": "standard",
    "accelerator": "GPU"
  },
  "cells": [
    {
      "cell_type": "markdown",
      "metadata": {
        "id": "view-in-github",
        "colab_type": "text"
      },
      "source": [
        "<a href=\"https://colab.research.google.com/github/Byeon-MJ/DL_Practice_Repo/blob/main/Recurrent_Neural_Network_baseline.ipynb\" target=\"_parent\"><img src=\"https://colab.research.google.com/assets/colab-badge.svg\" alt=\"Open In Colab\"/></a>"
      ]
    },
    {
      "cell_type": "markdown",
      "source": [
        "# 순환 신경망으로 IMDB 리뷰 분류하기"
      ],
      "metadata": {
        "id": "lCgZw4qOcimW"
      }
    },
    {
      "cell_type": "markdown",
      "source": [
        "## 순차 데이터\n",
        "* 텍스트나 시계열 데이터와 같이 순서에 의미가 있는 데이터"
      ],
      "metadata": {
        "id": "uQBYrqjvcp5A"
      }
    },
    {
      "cell_type": "markdown",
      "source": [
        "## 순환 신경망\n",
        "* 앞의 입력으로 나온 출력이 다시 입력으로 사용\n",
        "* 이전 입력에 대한 기억이 어느정도 포함되어 있다.\n",
        "* 타임 스텝 : 샘플을 처리하는 한 단계\n",
        "* 셀 : 레이어의 개념\n",
        "* 은닉 상태 : 셀의 출력\n",
        "* RNN 에서는 활성화 함수로 tanh 를 많이 사용한다."
      ],
      "metadata": {
        "id": "cX04tRSfcuNM"
      }
    },
    {
      "cell_type": "markdown",
      "source": [
        "## IMDB 리뷰 데이터셋\n",
        "* 유명한 인터넷 영화 데이터베이스 imdb.com에서 수집한 리뷰를 감상평에 따라 긍정과 부정으로 분류해 놓은 데이터셋\n",
        "* 토큰화 된 데이터셋, 1개의 토큰이 하나의 타임스텝으로 사용\n",
        "* 토큰 중 몇 개는 특정한 용도로 예약되는 경우가 많다. : 0(패딩), 1(문장 시작), 2(어휘 사전에 없는 토큰) 등"
      ],
      "metadata": {
        "id": "5Tak1FTBeLwM"
      }
    },
    {
      "cell_type": "code",
      "source": [
        "import tensorflow as tf\n",
        "from tensorflow import keras\n",
        "from keras.datasets import imdb\n",
        "(train_input, train_target), (test_input, test_target) = imdb.load_data(num_words=500)"
      ],
      "metadata": {
        "id": "SknKeo_ViSxp",
        "colab": {
          "base_uri": "https://localhost:8080/"
        },
        "outputId": "a37256d1-c55f-4989-d153-56d1b954f167"
      },
      "execution_count": 1,
      "outputs": [
        {
          "output_type": "stream",
          "name": "stdout",
          "text": [
            "Downloading data from https://storage.googleapis.com/tensorflow/tf-keras-datasets/imdb.npz\n",
            "17464789/17464789 [==============================] - 1s 0us/step\n"
          ]
        }
      ]
    },
    {
      "cell_type": "code",
      "source": [
        "# 개별 리뷰를 담은 파이썬 리스트 객체로 이루어진 넘파이 배열\n",
        "print(train_input.shape, test_input.shape)"
      ],
      "metadata": {
        "colab": {
          "base_uri": "https://localhost:8080/"
        },
        "id": "pkZg52ROi1_r",
        "outputId": "e5847823-f54a-4c29-b39b-6029a48b444a"
      },
      "execution_count": 2,
      "outputs": [
        {
          "output_type": "stream",
          "name": "stdout",
          "text": [
            "(25000,) (25000,)\n"
          ]
        }
      ]
    },
    {
      "cell_type": "code",
      "source": [
        "print(len(train_input[0]))"
      ],
      "metadata": {
        "colab": {
          "base_uri": "https://localhost:8080/"
        },
        "id": "t8EaNywri5Ju",
        "outputId": "ce5f64c8-f16e-4fe7-bbd2-7e5fbb6ca367"
      },
      "execution_count": 3,
      "outputs": [
        {
          "output_type": "stream",
          "name": "stdout",
          "text": [
            "218\n"
          ]
        }
      ]
    },
    {
      "cell_type": "code",
      "source": [
        "print(len(train_input[1]))"
      ],
      "metadata": {
        "colab": {
          "base_uri": "https://localhost:8080/"
        },
        "id": "J-6oMAdMjOAb",
        "outputId": "e38f7f38-5748-486c-f4b9-fb3cdeb08cd9"
      },
      "execution_count": 4,
      "outputs": [
        {
          "output_type": "stream",
          "name": "stdout",
          "text": [
            "189\n"
          ]
        }
      ]
    },
    {
      "cell_type": "code",
      "source": [
        "# 첫번째 리뷰에 담긴 내용 > 토큰화 되어있다.\n",
        "# 단어를 500개로 제한해서 어휘사전에 없는 단어는 모두 2로 표시됨\n",
        "print(train_input[0])"
      ],
      "metadata": {
        "colab": {
          "base_uri": "https://localhost:8080/"
        },
        "id": "t13icFJ6jj_7",
        "outputId": "ba6570d1-01da-4728-a9ba-50419eea3e12"
      },
      "execution_count": 5,
      "outputs": [
        {
          "output_type": "stream",
          "name": "stdout",
          "text": [
            "[1, 14, 22, 16, 43, 2, 2, 2, 2, 65, 458, 2, 66, 2, 4, 173, 36, 256, 5, 25, 100, 43, 2, 112, 50, 2, 2, 9, 35, 480, 284, 5, 150, 4, 172, 112, 167, 2, 336, 385, 39, 4, 172, 2, 2, 17, 2, 38, 13, 447, 4, 192, 50, 16, 6, 147, 2, 19, 14, 22, 4, 2, 2, 469, 4, 22, 71, 87, 12, 16, 43, 2, 38, 76, 15, 13, 2, 4, 22, 17, 2, 17, 12, 16, 2, 18, 2, 5, 62, 386, 12, 8, 316, 8, 106, 5, 4, 2, 2, 16, 480, 66, 2, 33, 4, 130, 12, 16, 38, 2, 5, 25, 124, 51, 36, 135, 48, 25, 2, 33, 6, 22, 12, 215, 28, 77, 52, 5, 14, 407, 16, 82, 2, 8, 4, 107, 117, 2, 15, 256, 4, 2, 7, 2, 5, 2, 36, 71, 43, 2, 476, 26, 400, 317, 46, 7, 4, 2, 2, 13, 104, 88, 4, 381, 15, 297, 98, 32, 2, 56, 26, 141, 6, 194, 2, 18, 4, 226, 22, 21, 134, 476, 26, 480, 5, 144, 30, 2, 18, 51, 36, 28, 224, 92, 25, 104, 4, 226, 65, 16, 38, 2, 88, 12, 16, 283, 5, 16, 2, 113, 103, 32, 15, 16, 2, 19, 178, 32]\n"
          ]
        }
      ]
    },
    {
      "cell_type": "code",
      "source": [
        "# 긍정 : 1, 부정 : 0\n",
        "print(train_target[:20])"
      ],
      "metadata": {
        "colab": {
          "base_uri": "https://localhost:8080/"
        },
        "id": "pI1KrqGNjmZM",
        "outputId": "4fe5e59a-d182-418f-e98f-c1f665e8fc2b"
      },
      "execution_count": 6,
      "outputs": [
        {
          "output_type": "stream",
          "name": "stdout",
          "text": [
            "[1 0 0 1 0 0 1 0 1 0 1 0 0 0 0 0 1 1 0 1]\n"
          ]
        }
      ]
    },
    {
      "cell_type": "code",
      "source": [
        "from sklearn.model_selection import train_test_split\n",
        "train_input, val_input, train_target, val_target = train_test_split(\n",
        "    train_input, train_target, test_size=0.2, random_state=42\n",
        ")"
      ],
      "metadata": {
        "id": "W2pngemfjx55"
      },
      "execution_count": 7,
      "outputs": []
    },
    {
      "cell_type": "markdown",
      "source": [
        "### 훈련 세트 EDA"
      ],
      "metadata": {
        "id": "EUWaZRctkXwK"
      }
    },
    {
      "cell_type": "code",
      "source": [
        "# 리뷰의 길이 계산하기\n",
        "import numpy as np\n",
        "lengths = np.array([len(x) for x in train_input])"
      ],
      "metadata": {
        "id": "mwqVNMiVkbjF"
      },
      "execution_count": 8,
      "outputs": []
    },
    {
      "cell_type": "code",
      "source": [
        "print(np.mean(lengths), np.median(lengths))"
      ],
      "metadata": {
        "colab": {
          "base_uri": "https://localhost:8080/"
        },
        "id": "Q5FvX_cJkfER",
        "outputId": "0fafe7a4-fa07-4ee4-df83-170b5356da10"
      },
      "execution_count": 9,
      "outputs": [
        {
          "output_type": "stream",
          "name": "stdout",
          "text": [
            "239.00925 178.0\n"
          ]
        }
      ]
    },
    {
      "cell_type": "code",
      "source": [
        "import matplotlib.pyplot as plt\n",
        "plt.hist(lengths)\n",
        "plt.xlabel('length')\n",
        "plt.ylabel('frequency')\n",
        "plt.show()"
      ],
      "metadata": {
        "colab": {
          "base_uri": "https://localhost:8080/",
          "height": 279
        },
        "id": "Z6s9ellAkhzs",
        "outputId": "4562d3d1-f1b2-4eb8-8e72-8c9d59fbe5f5"
      },
      "execution_count": 10,
      "outputs": [
        {
          "output_type": "display_data",
          "data": {
            "text/plain": [
              "<Figure size 432x288 with 1 Axes>"
            ],
            "image/png": "[encoded data removed]"
          },
          "metadata": {
            "needs_background": "light"
          }
        }
      ]
    },
    {
      "cell_type": "code",
      "source": [
        "# 시퀀스 데이터 길이를 맞추는 pad_sequences() 함수 사용, train_input 길이 100으로 맞추기\n",
        "# from tensorflow.keras.preprocessing.sequence import pad_sequences\n",
        "from keras.utils import pad_sequences\n",
        "train_seq = pad_sequences(train_input, maxlen=100)      # maxlen 보다 긴 시퀀스의 앞부분을 자른다.\n",
        "                                                        # 뒷부분을 자르고 싶다면 truncating 매개변수의 값을 'post'로 변경"
      ],
      "metadata": {
        "id": "a6XIrVtMkvpG"
      },
      "execution_count": 11,
      "outputs": []
    },
    {
      "cell_type": "code",
      "source": [
        "print(train_seq.shape)"
      ],
      "metadata": {
        "colab": {
          "base_uri": "https://localhost:8080/"
        },
        "id": "kim5akUUlDdX",
        "outputId": "6986ba7b-3451-421c-fb8c-e98996f2b191"
      },
      "execution_count": 12,
      "outputs": [
        {
          "output_type": "stream",
          "name": "stdout",
          "text": [
            "(20000, 100)\n"
          ]
        }
      ]
    },
    {
      "cell_type": "code",
      "source": [
        "print(train_seq[0])"
      ],
      "metadata": {
        "colab": {
          "base_uri": "https://localhost:8080/"
        },
        "id": "cMdhzH-xlrB2",
        "outputId": "1d30e6f5-b0e4-47d9-d35b-8a498350d8c5"
      },
      "execution_count": 13,
      "outputs": [
        {
          "output_type": "stream",
          "name": "stdout",
          "text": [
            "[ 10   4  20   9   2 364 352   5  45   6   2   2  33 269   8   2 142   2\n",
            "   5   2  17  73  17 204   5   2  19  55   2   2  92  66 104  14  20  93\n",
            "  76   2 151  33   4  58  12 188   2 151  12 215  69 224 142  73 237   6\n",
            "   2   7   2   2 188   2 103  14  31  10  10 451   7   2   5   2  80  91\n",
            "   2  30   2  34  14  20 151  50  26 131  49   2  84  46  50  37  80  79\n",
            "   6   2  46   7  14  20  10  10 470 158]\n"
          ]
        }
      ]
    },
    {
      "cell_type": "code",
      "source": [
        "print(train_input[0][-10:])"
      ],
      "metadata": {
        "colab": {
          "base_uri": "https://localhost:8080/"
        },
        "id": "X0hC_WmoltS3",
        "outputId": "352090bf-36b4-4ebb-e3cc-af11e598e75c"
      },
      "execution_count": 14,
      "outputs": [
        {
          "output_type": "stream",
          "name": "stdout",
          "text": [
            "[6, 2, 46, 7, 14, 20, 10, 10, 470, 158]\n"
          ]
        }
      ]
    },
    {
      "cell_type": "code",
      "source": [
        "print(train_seq[5])"
      ],
      "metadata": {
        "colab": {
          "base_uri": "https://localhost:8080/"
        },
        "id": "qrInCrMql-ya",
        "outputId": "b7dcb74a-3f5d-4d53-c4b5-480ea2f0dc2b"
      },
      "execution_count": 15,
      "outputs": [
        {
          "output_type": "stream",
          "name": "stdout",
          "text": [
            "[  0   0   0   0   1   2 195  19  49   2   2 190   4   2 352   2 183  10\n",
            "  10  13  82  79   4   2  36  71 269   8   2  25  19  49   7   4   2   2\n",
            "   2   2   2  10  10  48  25  40   2  11   2   2  40   2   2   5   4   2\n",
            "   2  95  14 238  56 129   2  10  10  21   2  94 364 352   2   2  11 190\n",
            "  24 484   2   7  94 205 405  10  10  87   2  34  49   2   7   2   2   2\n",
            "   2   2 290   2  46  48  64  18   4   2]\n"
          ]
        }
      ]
    },
    {
      "cell_type": "code",
      "source": [
        "val_seq = pad_sequences(val_input, maxlen=100)"
      ],
      "metadata": {
        "id": "kSt1PNPBmUxj"
      },
      "execution_count": 16,
      "outputs": []
    },
    {
      "cell_type": "markdown",
      "source": [
        "## 순환 신경망 만들기 "
      ],
      "metadata": {
        "id": "z8tZPoqImduD"
      }
    },
    {
      "cell_type": "code",
      "source": [
        "from tensorflow import keras\n",
        "model = keras.Sequential()\n",
        "model.add(keras.layers.SimpleRNN(8, input_shape=(100, 500)))\n",
        "model.add(keras.layers.Dense(1, activation='sigmoid'))"
      ],
      "metadata": {
        "id": "vXGUYJ3KJXq9"
      },
      "execution_count": 18,
      "outputs": []
    },
    {
      "cell_type": "code",
      "source": [
        "# to_categorical() : 원-핫 인코딩된 배열 반환\n",
        "train_oh = keras.utils.to_categorical(train_seq)"
      ],
      "metadata": {
        "id": "szW7RMm0Juhn"
      },
      "execution_count": 19,
      "outputs": []
    },
    {
      "cell_type": "code",
      "source": [
        "print(train_oh.shape)"
      ],
      "metadata": {
        "colab": {
          "base_uri": "https://localhost:8080/"
        },
        "id": "RfMUqt49LYGS",
        "outputId": "148f8ec8-cae4-4c12-8230-780c4c0eb959"
      },
      "execution_count": 20,
      "outputs": [
        {
          "output_type": "stream",
          "name": "stdout",
          "text": [
            "(20000, 100, 500)\n"
          ]
        }
      ]
    },
    {
      "cell_type": "code",
      "source": [
        "# 원-핫 인코딩 확인\n",
        "print(train_oh[0][0][:12])"
      ],
      "metadata": {
        "colab": {
          "base_uri": "https://localhost:8080/"
        },
        "id": "IX-eVmzgLd_K",
        "outputId": "1229dee9-668b-4991-eb37-00578022a459"
      },
      "execution_count": 21,
      "outputs": [
        {
          "output_type": "stream",
          "name": "stdout",
          "text": [
            "[0. 0. 0. 0. 0. 0. 0. 0. 0. 0. 1. 0.]\n"
          ]
        }
      ]
    },
    {
      "cell_type": "code",
      "source": [
        "print(np.sum(train_oh[0][0]))"
      ],
      "metadata": {
        "colab": {
          "base_uri": "https://localhost:8080/"
        },
        "id": "jYpinjgeLqTi",
        "outputId": "c66766b5-1829-453c-8640-1e22574eea86"
      },
      "execution_count": 22,
      "outputs": [
        {
          "output_type": "stream",
          "name": "stdout",
          "text": [
            "1.0\n"
          ]
        }
      ]
    },
    {
      "cell_type": "code",
      "source": [
        "# val_seq도 원-핫 인코딩\n",
        "val_oh = keras.utils.to_categorical(val_seq)"
      ],
      "metadata": {
        "id": "bMNAhwIsLxer"
      },
      "execution_count": 23,
      "outputs": []
    },
    {
      "cell_type": "code",
      "source": [
        "# 모델 구조 출력\n",
        "model.summary()"
      ],
      "metadata": {
        "colab": {
          "base_uri": "https://localhost:8080/"
        },
        "id": "4v88oN4eL4WT",
        "outputId": "8f09e867-a9f1-468d-e9b9-cfa750e23a9c"
      },
      "execution_count": 24,
      "outputs": [
        {
          "output_type": "stream",
          "name": "stdout",
          "text": [
            "Model: \"sequential_1\"\n",
            "_________________________________________________________________\n",
            " Layer (type)                Output Shape              Param #   \n",
            "=================================================================\n",
            " simple_rnn_1 (SimpleRNN)    (None, 8)                 4072      \n",
            "                                                                 \n",
            " dense_1 (Dense)             (None, 1)                 9         \n",
            "                                                                 \n",
            "=================================================================\n",
            "Total params: 4,081\n",
            "Trainable params: 4,081\n",
            "Non-trainable params: 0\n",
            "_________________________________________________________________\n"
          ]
        }
      ]
    },
    {
      "cell_type": "markdown",
      "source": [
        "## 순환 신경망 훈련하기"
      ],
      "metadata": {
        "id": "y_bQ5HcjL96R"
      }
    },
    {
      "cell_type": "code",
      "source": [
        "rmsprop = keras.optimizers.RMSprop(learning_rate=1e-4)\n",
        "model.compile(optimizer=rmsprop, loss='binary_crossentropy', metrics=['accuracy'])\n",
        "\n",
        "checkpoint_cb = keras.callbacks.ModelCheckpoint('best-simplernn-model.h5', save_best_only=True)\n",
        "early_stopping_cb = keras.callbacks.EarlyStopping(patience=3, restore_best_weights=True)\n",
        "\n",
        "history = model.fit(train_oh, train_target, epochs=100, batch_size=64,\n",
        "                    validation_data=(val_oh, val_target),\n",
        "                    callbacks=[checkpoint_cb, early_stopping_cb])"
      ],
      "metadata": {
        "colab": {
          "base_uri": "https://localhost:8080/"
        },
        "id": "IwHdsWCDMpIj",
        "outputId": "45f33634-c83f-4e1a-f61d-37f1efbe66eb"
      },
      "execution_count": 25,
      "outputs": [
        {
          "output_type": "stream",
          "name": "stdout",
          "text": [
            "Epoch 1/100\n",
            "313/313 [==============================] - 27s 72ms/step - loss: 0.6980 - accuracy: 0.5027 - val_loss: 0.6970 - val_accuracy: 0.5044\n",
            "Epoch 2/100\n",
            "313/313 [==============================] - 21s 68ms/step - loss: 0.6949 - accuracy: 0.5120 - val_loss: 0.6951 - val_accuracy: 0.5108\n",
            "Epoch 3/100\n",
            "313/313 [==============================] - 21s 68ms/step - loss: 0.6922 - accuracy: 0.5217 - val_loss: 0.6928 - val_accuracy: 0.5226\n",
            "Epoch 4/100\n",
            "313/313 [==============================] - 23s 72ms/step - loss: 0.6885 - accuracy: 0.5444 - val_loss: 0.6873 - val_accuracy: 0.5540\n",
            "Epoch 5/100\n",
            "313/313 [==============================] - 20s 65ms/step - loss: 0.6806 - accuracy: 0.5918 - val_loss: 0.6776 - val_accuracy: 0.5990\n",
            "Epoch 6/100\n",
            "313/313 [==============================] - 21s 66ms/step - loss: 0.6711 - accuracy: 0.6234 - val_loss: 0.6690 - val_accuracy: 0.6244\n",
            "Epoch 7/100\n",
            "313/313 [==============================] - 21s 67ms/step - loss: 0.6613 - accuracy: 0.6437 - val_loss: 0.6586 - val_accuracy: 0.6480\n",
            "Epoch 8/100\n",
            "313/313 [==============================] - 21s 67ms/step - loss: 0.6510 - accuracy: 0.6643 - val_loss: 0.6486 - val_accuracy: 0.6672\n",
            "Epoch 9/100\n",
            "313/313 [==============================] - 21s 66ms/step - loss: 0.6401 - accuracy: 0.6783 - val_loss: 0.6371 - val_accuracy: 0.6872\n",
            "Epoch 10/100\n",
            "313/313 [==============================] - 20s 65ms/step - loss: 0.6301 - accuracy: 0.6860 - val_loss: 0.6291 - val_accuracy: 0.6878\n",
            "Epoch 11/100\n",
            "313/313 [==============================] - 20s 65ms/step - loss: 0.6187 - accuracy: 0.6990 - val_loss: 0.6176 - val_accuracy: 0.6984\n",
            "Epoch 12/100\n",
            "313/313 [==============================] - 21s 66ms/step - loss: 0.6095 - accuracy: 0.7048 - val_loss: 0.6101 - val_accuracy: 0.6992\n",
            "Epoch 13/100\n",
            "313/313 [==============================] - 20s 65ms/step - loss: 0.5993 - accuracy: 0.7121 - val_loss: 0.6033 - val_accuracy: 0.6992\n",
            "Epoch 14/100\n",
            "313/313 [==============================] - 21s 66ms/step - loss: 0.5920 - accuracy: 0.7140 - val_loss: 0.6001 - val_accuracy: 0.7006\n",
            "Epoch 15/100\n",
            "313/313 [==============================] - 21s 67ms/step - loss: 0.5830 - accuracy: 0.7207 - val_loss: 0.5881 - val_accuracy: 0.7128\n",
            "Epoch 16/100\n",
            "313/313 [==============================] - 22s 69ms/step - loss: 0.5779 - accuracy: 0.7176 - val_loss: 0.6007 - val_accuracy: 0.6864\n",
            "Epoch 17/100\n",
            "313/313 [==============================] - 21s 66ms/step - loss: 0.5708 - accuracy: 0.7242 - val_loss: 0.5790 - val_accuracy: 0.7170\n",
            "Epoch 18/100\n",
            "313/313 [==============================] - 21s 66ms/step - loss: 0.5637 - accuracy: 0.7305 - val_loss: 0.5728 - val_accuracy: 0.7178\n",
            "Epoch 19/100\n",
            "313/313 [==============================] - 21s 66ms/step - loss: 0.5552 - accuracy: 0.7379 - val_loss: 0.5718 - val_accuracy: 0.7204\n",
            "Epoch 20/100\n",
            "313/313 [==============================] - 21s 67ms/step - loss: 0.5540 - accuracy: 0.7366 - val_loss: 0.5657 - val_accuracy: 0.7220\n",
            "Epoch 21/100\n",
            "313/313 [==============================] - 22s 70ms/step - loss: 0.5460 - accuracy: 0.7420 - val_loss: 0.5612 - val_accuracy: 0.7258\n",
            "Epoch 22/100\n",
            "313/313 [==============================] - 21s 66ms/step - loss: 0.5414 - accuracy: 0.7440 - val_loss: 0.5595 - val_accuracy: 0.7236\n",
            "Epoch 23/100\n",
            "313/313 [==============================] - 21s 66ms/step - loss: 0.5377 - accuracy: 0.7460 - val_loss: 0.5542 - val_accuracy: 0.7296\n",
            "Epoch 24/100\n",
            "313/313 [==============================] - 21s 67ms/step - loss: 0.5333 - accuracy: 0.7492 - val_loss: 0.5492 - val_accuracy: 0.7348\n",
            "Epoch 25/100\n",
            "313/313 [==============================] - 21s 66ms/step - loss: 0.5295 - accuracy: 0.7504 - val_loss: 0.5455 - val_accuracy: 0.7380\n",
            "Epoch 26/100\n",
            "313/313 [==============================] - 21s 66ms/step - loss: 0.5250 - accuracy: 0.7545 - val_loss: 0.5467 - val_accuracy: 0.7334\n",
            "Epoch 27/100\n",
            "313/313 [==============================] - 21s 67ms/step - loss: 0.5221 - accuracy: 0.7563 - val_loss: 0.5411 - val_accuracy: 0.7382\n",
            "Epoch 28/100\n",
            "313/313 [==============================] - 21s 66ms/step - loss: 0.5194 - accuracy: 0.7580 - val_loss: 0.5376 - val_accuracy: 0.7416\n",
            "Epoch 29/100\n",
            "313/313 [==============================] - 20s 65ms/step - loss: 0.5121 - accuracy: 0.7639 - val_loss: 0.5394 - val_accuracy: 0.7390\n",
            "Epoch 30/100\n",
            "313/313 [==============================] - 20s 65ms/step - loss: 0.5070 - accuracy: 0.7684 - val_loss: 0.5371 - val_accuracy: 0.7398\n",
            "Epoch 31/100\n",
            "313/313 [==============================] - 21s 66ms/step - loss: 0.5048 - accuracy: 0.7700 - val_loss: 0.5335 - val_accuracy: 0.7448\n",
            "Epoch 32/100\n",
            "313/313 [==============================] - 20s 65ms/step - loss: 0.5021 - accuracy: 0.7709 - val_loss: 0.5342 - val_accuracy: 0.7428\n",
            "Epoch 33/100\n",
            "313/313 [==============================] - 20s 65ms/step - loss: 0.4988 - accuracy: 0.7723 - val_loss: 0.5334 - val_accuracy: 0.7412\n",
            "Epoch 34/100\n",
            "313/313 [==============================] - 20s 65ms/step - loss: 0.4951 - accuracy: 0.7758 - val_loss: 0.5291 - val_accuracy: 0.7468\n",
            "Epoch 35/100\n",
            "313/313 [==============================] - 20s 65ms/step - loss: 0.4945 - accuracy: 0.7746 - val_loss: 0.5281 - val_accuracy: 0.7474\n",
            "Epoch 36/100\n",
            "313/313 [==============================] - 20s 65ms/step - loss: 0.4890 - accuracy: 0.7790 - val_loss: 0.5248 - val_accuracy: 0.7526\n",
            "Epoch 37/100\n",
            "313/313 [==============================] - 21s 66ms/step - loss: 0.4874 - accuracy: 0.7796 - val_loss: 0.5194 - val_accuracy: 0.7536\n",
            "Epoch 38/100\n",
            "313/313 [==============================] - 22s 70ms/step - loss: 0.4834 - accuracy: 0.7834 - val_loss: 0.5241 - val_accuracy: 0.7524\n",
            "Epoch 39/100\n",
            "313/313 [==============================] - 21s 67ms/step - loss: 0.4818 - accuracy: 0.7843 - val_loss: 0.5206 - val_accuracy: 0.7542\n",
            "Epoch 40/100\n",
            "313/313 [==============================] - 21s 66ms/step - loss: 0.4782 - accuracy: 0.7866 - val_loss: 0.5152 - val_accuracy: 0.7548\n",
            "Epoch 41/100\n",
            "313/313 [==============================] - 21s 67ms/step - loss: 0.4746 - accuracy: 0.7886 - val_loss: 0.5129 - val_accuracy: 0.7556\n",
            "Epoch 42/100\n",
            "313/313 [==============================] - 21s 67ms/step - loss: 0.4717 - accuracy: 0.7922 - val_loss: 0.5133 - val_accuracy: 0.7572\n",
            "Epoch 43/100\n",
            "313/313 [==============================] - 21s 66ms/step - loss: 0.4689 - accuracy: 0.7936 - val_loss: 0.5061 - val_accuracy: 0.7618\n",
            "Epoch 44/100\n",
            "313/313 [==============================] - 20s 64ms/step - loss: 0.4671 - accuracy: 0.7954 - val_loss: 0.5122 - val_accuracy: 0.7554\n",
            "Epoch 45/100\n",
            "313/313 [==============================] - 20s 65ms/step - loss: 0.4631 - accuracy: 0.7980 - val_loss: 0.5027 - val_accuracy: 0.7642\n",
            "Epoch 46/100\n",
            "313/313 [==============================] - 20s 65ms/step - loss: 0.4611 - accuracy: 0.7983 - val_loss: 0.5036 - val_accuracy: 0.7588\n",
            "Epoch 47/100\n",
            "313/313 [==============================] - 20s 65ms/step - loss: 0.4576 - accuracy: 0.8018 - val_loss: 0.5037 - val_accuracy: 0.7586\n",
            "Epoch 48/100\n",
            "313/313 [==============================] - 20s 64ms/step - loss: 0.4557 - accuracy: 0.8015 - val_loss: 0.5006 - val_accuracy: 0.7632\n",
            "Epoch 49/100\n",
            "313/313 [==============================] - 20s 64ms/step - loss: 0.4520 - accuracy: 0.8034 - val_loss: 0.4960 - val_accuracy: 0.7684\n",
            "Epoch 50/100\n",
            "313/313 [==============================] - 20s 65ms/step - loss: 0.4504 - accuracy: 0.8056 - val_loss: 0.4928 - val_accuracy: 0.7708\n",
            "Epoch 51/100\n",
            "313/313 [==============================] - 20s 65ms/step - loss: 0.4480 - accuracy: 0.8067 - val_loss: 0.4945 - val_accuracy: 0.7680\n",
            "Epoch 52/100\n",
            "313/313 [==============================] - 20s 65ms/step - loss: 0.4459 - accuracy: 0.8057 - val_loss: 0.4914 - val_accuracy: 0.7716\n",
            "Epoch 53/100\n",
            "313/313 [==============================] - 20s 65ms/step - loss: 0.4430 - accuracy: 0.8088 - val_loss: 0.4913 - val_accuracy: 0.7696\n",
            "Epoch 54/100\n",
            "313/313 [==============================] - 20s 65ms/step - loss: 0.4419 - accuracy: 0.8086 - val_loss: 0.4868 - val_accuracy: 0.7726\n",
            "Epoch 55/100\n",
            "313/313 [==============================] - 22s 70ms/step - loss: 0.4393 - accuracy: 0.8104 - val_loss: 0.4854 - val_accuracy: 0.7734\n",
            "Epoch 56/100\n",
            "313/313 [==============================] - 20s 64ms/step - loss: 0.4374 - accuracy: 0.8109 - val_loss: 0.4825 - val_accuracy: 0.7768\n",
            "Epoch 57/100\n",
            "313/313 [==============================] - 21s 66ms/step - loss: 0.4350 - accuracy: 0.8121 - val_loss: 0.4820 - val_accuracy: 0.7758\n",
            "Epoch 58/100\n",
            "313/313 [==============================] - 20s 65ms/step - loss: 0.4343 - accuracy: 0.8123 - val_loss: 0.4803 - val_accuracy: 0.7760\n",
            "Epoch 59/100\n",
            "313/313 [==============================] - 20s 65ms/step - loss: 0.4320 - accuracy: 0.8136 - val_loss: 0.4790 - val_accuracy: 0.7764\n",
            "Epoch 60/100\n",
            "313/313 [==============================] - 20s 65ms/step - loss: 0.4306 - accuracy: 0.8142 - val_loss: 0.4776 - val_accuracy: 0.7764\n",
            "Epoch 61/100\n",
            "313/313 [==============================] - 20s 64ms/step - loss: 0.4290 - accuracy: 0.8149 - val_loss: 0.4755 - val_accuracy: 0.7790\n",
            "Epoch 62/100\n",
            "313/313 [==============================] - 20s 64ms/step - loss: 0.4272 - accuracy: 0.8159 - val_loss: 0.4748 - val_accuracy: 0.7774\n",
            "Epoch 63/100\n",
            "313/313 [==============================] - 20s 65ms/step - loss: 0.4256 - accuracy: 0.8166 - val_loss: 0.4732 - val_accuracy: 0.7796\n",
            "Epoch 64/100\n",
            "313/313 [==============================] - 20s 65ms/step - loss: 0.4241 - accuracy: 0.8172 - val_loss: 0.4750 - val_accuracy: 0.7792\n",
            "Epoch 65/100\n",
            "313/313 [==============================] - 21s 66ms/step - loss: 0.4223 - accuracy: 0.8189 - val_loss: 0.4707 - val_accuracy: 0.7814\n",
            "Epoch 66/100\n",
            "313/313 [==============================] - 20s 65ms/step - loss: 0.4209 - accuracy: 0.8192 - val_loss: 0.4700 - val_accuracy: 0.7834\n",
            "Epoch 67/100\n",
            "313/313 [==============================] - 21s 66ms/step - loss: 0.4199 - accuracy: 0.8196 - val_loss: 0.4705 - val_accuracy: 0.7822\n",
            "Epoch 68/100\n",
            "313/313 [==============================] - 20s 65ms/step - loss: 0.4187 - accuracy: 0.8209 - val_loss: 0.4692 - val_accuracy: 0.7826\n",
            "Epoch 69/100\n",
            "313/313 [==============================] - 20s 65ms/step - loss: 0.4173 - accuracy: 0.8207 - val_loss: 0.4702 - val_accuracy: 0.7806\n",
            "Epoch 70/100\n",
            "313/313 [==============================] - 20s 65ms/step - loss: 0.4159 - accuracy: 0.8209 - val_loss: 0.4690 - val_accuracy: 0.7832\n",
            "Epoch 71/100\n",
            "313/313 [==============================] - 21s 66ms/step - loss: 0.4144 - accuracy: 0.8225 - val_loss: 0.4651 - val_accuracy: 0.7862\n",
            "Epoch 72/100\n",
            "313/313 [==============================] - 20s 65ms/step - loss: 0.4135 - accuracy: 0.8233 - val_loss: 0.4655 - val_accuracy: 0.7852\n",
            "Epoch 73/100\n",
            "313/313 [==============================] - 21s 68ms/step - loss: 0.4120 - accuracy: 0.8230 - val_loss: 0.4648 - val_accuracy: 0.7864\n",
            "Epoch 74/100\n",
            "313/313 [==============================] - 20s 64ms/step - loss: 0.4109 - accuracy: 0.8252 - val_loss: 0.4654 - val_accuracy: 0.7820\n",
            "Epoch 75/100\n",
            "313/313 [==============================] - 20s 65ms/step - loss: 0.4099 - accuracy: 0.8255 - val_loss: 0.4631 - val_accuracy: 0.7868\n",
            "Epoch 76/100\n",
            "313/313 [==============================] - 20s 64ms/step - loss: 0.4089 - accuracy: 0.8254 - val_loss: 0.4644 - val_accuracy: 0.7854\n",
            "Epoch 77/100\n",
            "313/313 [==============================] - 20s 65ms/step - loss: 0.4077 - accuracy: 0.8264 - val_loss: 0.4654 - val_accuracy: 0.7834\n",
            "Epoch 78/100\n",
            "313/313 [==============================] - 20s 65ms/step - loss: 0.4070 - accuracy: 0.8260 - val_loss: 0.4643 - val_accuracy: 0.7862\n"
          ]
        }
      ]
    },
    {
      "cell_type": "code",
      "source": [
        "# 훈련 손실과 검증 손실 그래프\n",
        "plt.plot(history.history['loss'])\n",
        "plt.plot(history.history['val_loss'])\n",
        "plt.xlabel('epoch')\n",
        "plt.ylabel('loss')\n",
        "plt.legend(['train', 'val'])\n",
        "plt.show()"
      ],
      "metadata": {
        "id": "d6AjStLTQgli"
      },
      "execution_count": null,
      "outputs": []
    },
    {
      "cell_type": "code",
      "source": [
        "print(train_seq.nbytes, train_oh.nbytes)"
      ],
      "metadata": {
        "id": "FZzIA0wURt_D"
      },
      "execution_count": null,
      "outputs": []
    },
    {
      "cell_type": "markdown",
      "source": [
        "## 단어 임베딩을 사용하기\n",
        "* 케라스의 keras.layers 패키지 아래 Embedding 클래스로 임베딩 기능 제공\n",
        "* 단어 임베딩을 사용하면 메모리를 훨씬 효율적으로 사용할 수 있다."
      ],
      "metadata": {
        "id": "0GdBA9t4RyiI"
      }
    },
    {
      "cell_type": "code",
      "source": [
        "model2 = keras.Sequential()\n",
        "model2.add(keras.layers.Embedding(500, 16, input_length=100))\n",
        "model2.add(keras.layers.SimpleRNN(8))\n",
        "model2.add(keras.layers.Dense(1, activation='sigmoid'))"
      ],
      "metadata": {
        "id": "fKRE2tBDSLQF"
      },
      "execution_count": 26,
      "outputs": []
    },
    {
      "cell_type": "code",
      "source": [
        "model2.summary()"
      ],
      "metadata": {
        "colab": {
          "base_uri": "https://localhost:8080/"
        },
        "id": "Uj43balDSqK7",
        "outputId": "44eb4871-f2b0-4879-f339-a18a8b8d3a70"
      },
      "execution_count": 27,
      "outputs": [
        {
          "output_type": "stream",
          "name": "stdout",
          "text": [
            "Model: \"sequential_2\"\n",
            "_________________________________________________________________\n",
            " Layer (type)                Output Shape              Param #   \n",
            "=================================================================\n",
            " embedding (Embedding)       (None, 100, 16)           8000      \n",
            "                                                                 \n",
            " simple_rnn_2 (SimpleRNN)    (None, 8)                 200       \n",
            "                                                                 \n",
            " dense_2 (Dense)             (None, 1)                 9         \n",
            "                                                                 \n",
            "=================================================================\n",
            "Total params: 8,209\n",
            "Trainable params: 8,209\n",
            "Non-trainable params: 0\n",
            "_________________________________________________________________\n"
          ]
        }
      ]
    },
    {
      "cell_type": "code",
      "source": [
        "rmsprop = keras.optimizers.RMSprop(learning_rate=1e-4)\n",
        "model2.compile(optimizer=rmsprop, loss='binary_crossentropy', metrics=['accuracy'])\n",
        "\n",
        "checkpoint_cb = keras.callbacks.ModelCheckpoint('best-embedding-model.h5', save_best_only=True)\n",
        "early_stopping_cb = keras.callbacks.EarlyStopping(patience=3, restore_best_weights=True)\n",
        "\n",
        "history = model2.fit(train_seq, train_target, epochs=100, batch_size=64,\n",
        "                    validation_data=(val_seq, val_target),\n",
        "                    callbacks=[checkpoint_cb, early_stopping_cb])"
      ],
      "metadata": {
        "colab": {
          "base_uri": "https://localhost:8080/",
          "height": 585
        },
        "id": "k9Zz0hyLXlw3",
        "outputId": "4d58f7ee-3305-47f8-9ebd-52a1384f1664"
      },
      "execution_count": 29,
      "outputs": [
        {
          "output_type": "stream",
          "name": "stdout",
          "text": [
            "Epoch 1/100\n",
            "313/313 [==============================] - 31s 94ms/step - loss: 0.6715 - accuracy: 0.5778 - val_loss: 0.6379 - val_accuracy: 0.6556\n",
            "Epoch 2/100\n",
            "313/313 [==============================] - 28s 90ms/step - loss: 0.6088 - accuracy: 0.6989 - val_loss: 0.5937 - val_accuracy: 0.7134\n",
            "Epoch 3/100\n",
            "313/313 [==============================] - 28s 88ms/step - loss: 0.5759 - accuracy: 0.7350 - val_loss: 0.5718 - val_accuracy: 0.7354\n",
            "Epoch 4/100\n",
            "313/313 [==============================] - 28s 89ms/step - loss: 0.5547 - accuracy: 0.7552 - val_loss: 0.5583 - val_accuracy: 0.7408\n",
            "Epoch 5/100\n",
            "106/313 [=========>....................] - ETA: 17s - loss: 0.5404 - accuracy: 0.7661"
          ]
        },
        {
          "output_type": "error",
          "ename": "KeyboardInterrupt",
          "evalue": "ignored",
          "traceback": [
            "\u001b[0;31m---------------------------------------------------------------------------\u001b[0m",
            "\u001b[0;31mKeyboardInterrupt\u001b[0m                         Traceback (most recent call last)",
            "\u001b[0;32m<ipython-input-29-cf7c642e5cf0>\u001b[0m in \u001b[0;36m<module>\u001b[0;34m\u001b[0m\n\u001b[1;32m      5\u001b[0m \u001b[0mearly_stopping_cb\u001b[0m \u001b[0;34m=\u001b[0m \u001b[0mkeras\u001b[0m\u001b[0;34m.\u001b[0m\u001b[0mcallbacks\u001b[0m\u001b[0;34m.\u001b[0m\u001b[0mEarlyStopping\u001b[0m\u001b[0;34m(\u001b[0m\u001b[0mpatience\u001b[0m\u001b[0;34m=\u001b[0m\u001b[0;36m3\u001b[0m\u001b[0;34m,\u001b[0m \u001b[0mrestore_best_weights\u001b[0m\u001b[0;34m=\u001b[0m\u001b[0;32mTrue\u001b[0m\u001b[0;34m)\u001b[0m\u001b[0;34m\u001b[0m\u001b[0;34m\u001b[0m\u001b[0m\n\u001b[1;32m      6\u001b[0m \u001b[0;34m\u001b[0m\u001b[0m\n\u001b[0;32m----> 7\u001b[0;31m history = model2.fit(train_seq, train_target, epochs=100, batch_size=64,\n\u001b[0m\u001b[1;32m      8\u001b[0m                     \u001b[0mvalidation_data\u001b[0m\u001b[0;34m=\u001b[0m\u001b[0;34m(\u001b[0m\u001b[0mval_seq\u001b[0m\u001b[0;34m,\u001b[0m \u001b[0mval_target\u001b[0m\u001b[0;34m)\u001b[0m\u001b[0;34m,\u001b[0m\u001b[0;34m\u001b[0m\u001b[0;34m\u001b[0m\u001b[0m\n\u001b[1;32m      9\u001b[0m                     callbacks=[checkpoint_cb, early_stopping_cb])\n",
            "\u001b[0;32m/usr/local/lib/python3.8/dist-packages/keras/utils/traceback_utils.py\u001b[0m in \u001b[0;36merror_handler\u001b[0;34m(*args, **kwargs)\u001b[0m\n\u001b[1;32m     62\u001b[0m     \u001b[0mfiltered_tb\u001b[0m \u001b[0;34m=\u001b[0m \u001b[0;32mNone\u001b[0m\u001b[0;34m\u001b[0m\u001b[0;34m\u001b[0m\u001b[0m\n\u001b[1;32m     63\u001b[0m     \u001b[0;32mtry\u001b[0m\u001b[0;34m:\u001b[0m\u001b[0;34m\u001b[0m\u001b[0;34m\u001b[0m\u001b[0m\n\u001b[0;32m---> 64\u001b[0;31m       \u001b[0;32mreturn\u001b[0m \u001b[0mfn\u001b[0m\u001b[0;34m(\u001b[0m\u001b[0;34m*\u001b[0m\u001b[0margs\u001b[0m\u001b[0;34m,\u001b[0m \u001b[0;34m**\u001b[0m\u001b[0mkwargs\u001b[0m\u001b[0;34m)\u001b[0m\u001b[0;34m\u001b[0m\u001b[0;34m\u001b[0m\u001b[0m\n\u001b[0m\u001b[1;32m     65\u001b[0m     \u001b[0;32mexcept\u001b[0m \u001b[0mException\u001b[0m \u001b[0;32mas\u001b[0m \u001b[0me\u001b[0m\u001b[0;34m:\u001b[0m  \u001b[0;31m# pylint: disable=broad-except\u001b[0m\u001b[0;34m\u001b[0m\u001b[0;34m\u001b[0m\u001b[0m\n\u001b[1;32m     66\u001b[0m       \u001b[0mfiltered_tb\u001b[0m \u001b[0;34m=\u001b[0m \u001b[0m_process_traceback_frames\u001b[0m\u001b[0;34m(\u001b[0m\u001b[0me\u001b[0m\u001b[0;34m.\u001b[0m\u001b[0m__traceback__\u001b[0m\u001b[0;34m)\u001b[0m\u001b[0;34m\u001b[0m\u001b[0;34m\u001b[0m\u001b[0m\n",
            "\u001b[0;32m/usr/local/lib/python3.8/dist-packages/keras/engine/training.py\u001b[0m in \u001b[0;36mfit\u001b[0;34m(self, x, y, batch_size, epochs, verbose, callbacks, validation_split, validation_data, shuffle, class_weight, sample_weight, initial_epoch, steps_per_epoch, validation_steps, validation_batch_size, validation_freq, max_queue_size, workers, use_multiprocessing)\u001b[0m\n\u001b[1;32m   1407\u001b[0m                 _r=1):\n\u001b[1;32m   1408\u001b[0m               \u001b[0mcallbacks\u001b[0m\u001b[0;34m.\u001b[0m\u001b[0mon_train_batch_begin\u001b[0m\u001b[0;34m(\u001b[0m\u001b[0mstep\u001b[0m\u001b[0;34m)\u001b[0m\u001b[0;34m\u001b[0m\u001b[0;34m\u001b[0m\u001b[0m\n\u001b[0;32m-> 1409\u001b[0;31m               \u001b[0mtmp_logs\u001b[0m \u001b[0;34m=\u001b[0m \u001b[0mself\u001b[0m\u001b[0;34m.\u001b[0m\u001b[0mtrain_function\u001b[0m\u001b[0;34m(\u001b[0m\u001b[0miterator\u001b[0m\u001b[0;34m)\u001b[0m\u001b[0;34m\u001b[0m\u001b[0;34m\u001b[0m\u001b[0m\n\u001b[0m\u001b[1;32m   1410\u001b[0m               \u001b[0;32mif\u001b[0m \u001b[0mdata_handler\u001b[0m\u001b[0;34m.\u001b[0m\u001b[0mshould_sync\u001b[0m\u001b[0;34m:\u001b[0m\u001b[0;34m\u001b[0m\u001b[0;34m\u001b[0m\u001b[0m\n\u001b[1;32m   1411\u001b[0m                 \u001b[0mcontext\u001b[0m\u001b[0;34m.\u001b[0m\u001b[0masync_wait\u001b[0m\u001b[0;34m(\u001b[0m\u001b[0;34m)\u001b[0m\u001b[0;34m\u001b[0m\u001b[0;34m\u001b[0m\u001b[0m\n",
            "\u001b[0;32m/usr/local/lib/python3.8/dist-packages/tensorflow/python/util/traceback_utils.py\u001b[0m in \u001b[0;36merror_handler\u001b[0;34m(*args, **kwargs)\u001b[0m\n\u001b[1;32m    148\u001b[0m     \u001b[0mfiltered_tb\u001b[0m \u001b[0;34m=\u001b[0m \u001b[0;32mNone\u001b[0m\u001b[0;34m\u001b[0m\u001b[0;34m\u001b[0m\u001b[0m\n\u001b[1;32m    149\u001b[0m     \u001b[0;32mtry\u001b[0m\u001b[0;34m:\u001b[0m\u001b[0;34m\u001b[0m\u001b[0;34m\u001b[0m\u001b[0m\n\u001b[0;32m--> 150\u001b[0;31m       \u001b[0;32mreturn\u001b[0m \u001b[0mfn\u001b[0m\u001b[0;34m(\u001b[0m\u001b[0;34m*\u001b[0m\u001b[0margs\u001b[0m\u001b[0;34m,\u001b[0m \u001b[0;34m**\u001b[0m\u001b[0mkwargs\u001b[0m\u001b[0;34m)\u001b[0m\u001b[0;34m\u001b[0m\u001b[0;34m\u001b[0m\u001b[0m\n\u001b[0m\u001b[1;32m    151\u001b[0m     \u001b[0;32mexcept\u001b[0m \u001b[0mException\u001b[0m \u001b[0;32mas\u001b[0m \u001b[0me\u001b[0m\u001b[0;34m:\u001b[0m\u001b[0;34m\u001b[0m\u001b[0;34m\u001b[0m\u001b[0m\n\u001b[1;32m    152\u001b[0m       \u001b[0mfiltered_tb\u001b[0m \u001b[0;34m=\u001b[0m \u001b[0m_process_traceback_frames\u001b[0m\u001b[0;34m(\u001b[0m\u001b[0me\u001b[0m\u001b[0;34m.\u001b[0m\u001b[0m__traceback__\u001b[0m\u001b[0;34m)\u001b[0m\u001b[0;34m\u001b[0m\u001b[0;34m\u001b[0m\u001b[0m\n",
            "\u001b[0;32m/usr/local/lib/python3.8/dist-packages/tensorflow/python/eager/def_function.py\u001b[0m in \u001b[0;36m__call__\u001b[0;34m(self, *args, **kwds)\u001b[0m\n\u001b[1;32m    913\u001b[0m \u001b[0;34m\u001b[0m\u001b[0m\n\u001b[1;32m    914\u001b[0m       \u001b[0;32mwith\u001b[0m \u001b[0mOptionalXlaContext\u001b[0m\u001b[0;34m(\u001b[0m\u001b[0mself\u001b[0m\u001b[0;34m.\u001b[0m\u001b[0m_jit_compile\u001b[0m\u001b[0;34m)\u001b[0m\u001b[0;34m:\u001b[0m\u001b[0;34m\u001b[0m\u001b[0;34m\u001b[0m\u001b[0m\n\u001b[0;32m--> 915\u001b[0;31m         \u001b[0mresult\u001b[0m \u001b[0;34m=\u001b[0m \u001b[0mself\u001b[0m\u001b[0;34m.\u001b[0m\u001b[0m_call\u001b[0m\u001b[0;34m(\u001b[0m\u001b[0;34m*\u001b[0m\u001b[0margs\u001b[0m\u001b[0;34m,\u001b[0m \u001b[0;34m**\u001b[0m\u001b[0mkwds\u001b[0m\u001b[0;34m)\u001b[0m\u001b[0;34m\u001b[0m\u001b[0;34m\u001b[0m\u001b[0m\n\u001b[0m\u001b[1;32m    916\u001b[0m \u001b[0;34m\u001b[0m\u001b[0m\n\u001b[1;32m    917\u001b[0m       \u001b[0mnew_tracing_count\u001b[0m \u001b[0;34m=\u001b[0m \u001b[0mself\u001b[0m\u001b[0;34m.\u001b[0m\u001b[0mexperimental_get_tracing_count\u001b[0m\u001b[0;34m(\u001b[0m\u001b[0;34m)\u001b[0m\u001b[0;34m\u001b[0m\u001b[0;34m\u001b[0m\u001b[0m\n",
            "\u001b[0;32m/usr/local/lib/python3.8/dist-packages/tensorflow/python/eager/def_function.py\u001b[0m in \u001b[0;36m_call\u001b[0;34m(self, *args, **kwds)\u001b[0m\n\u001b[1;32m    945\u001b[0m       \u001b[0;31m# In this case we have created variables on the first call, so we run the\u001b[0m\u001b[0;34m\u001b[0m\u001b[0;34m\u001b[0m\u001b[0;34m\u001b[0m\u001b[0m\n\u001b[1;32m    946\u001b[0m       \u001b[0;31m# defunned version which is guaranteed to never create variables.\u001b[0m\u001b[0;34m\u001b[0m\u001b[0;34m\u001b[0m\u001b[0;34m\u001b[0m\u001b[0m\n\u001b[0;32m--> 947\u001b[0;31m       \u001b[0;32mreturn\u001b[0m \u001b[0mself\u001b[0m\u001b[0;34m.\u001b[0m\u001b[0m_stateless_fn\u001b[0m\u001b[0;34m(\u001b[0m\u001b[0;34m*\u001b[0m\u001b[0margs\u001b[0m\u001b[0;34m,\u001b[0m \u001b[0;34m**\u001b[0m\u001b[0mkwds\u001b[0m\u001b[0;34m)\u001b[0m  \u001b[0;31m# pylint: disable=not-callable\u001b[0m\u001b[0;34m\u001b[0m\u001b[0;34m\u001b[0m\u001b[0m\n\u001b[0m\u001b[1;32m    948\u001b[0m     \u001b[0;32melif\u001b[0m \u001b[0mself\u001b[0m\u001b[0;34m.\u001b[0m\u001b[0m_stateful_fn\u001b[0m \u001b[0;32mis\u001b[0m \u001b[0;32mnot\u001b[0m \u001b[0;32mNone\u001b[0m\u001b[0;34m:\u001b[0m\u001b[0;34m\u001b[0m\u001b[0;34m\u001b[0m\u001b[0m\n\u001b[1;32m    949\u001b[0m       \u001b[0;31m# Release the lock early so that multiple threads can perform the call\u001b[0m\u001b[0;34m\u001b[0m\u001b[0;34m\u001b[0m\u001b[0;34m\u001b[0m\u001b[0m\n",
            "\u001b[0;32m/usr/local/lib/python3.8/dist-packages/tensorflow/python/eager/function.py\u001b[0m in \u001b[0;36m__call__\u001b[0;34m(self, *args, **kwargs)\u001b[0m\n\u001b[1;32m   2451\u001b[0m       (graph_function,\n\u001b[1;32m   2452\u001b[0m        filtered_flat_args) = self._maybe_define_function(args, kwargs)\n\u001b[0;32m-> 2453\u001b[0;31m     return graph_function._call_flat(\n\u001b[0m\u001b[1;32m   2454\u001b[0m         filtered_flat_args, captured_inputs=graph_function.captured_inputs)  # pylint: disable=protected-access\n\u001b[1;32m   2455\u001b[0m \u001b[0;34m\u001b[0m\u001b[0m\n",
            "\u001b[0;32m/usr/local/lib/python3.8/dist-packages/tensorflow/python/eager/function.py\u001b[0m in \u001b[0;36m_call_flat\u001b[0;34m(self, args, captured_inputs, cancellation_manager)\u001b[0m\n\u001b[1;32m   1858\u001b[0m         and executing_eagerly):\n\u001b[1;32m   1859\u001b[0m       \u001b[0;31m# No tape is watching; skip to running the function.\u001b[0m\u001b[0;34m\u001b[0m\u001b[0;34m\u001b[0m\u001b[0;34m\u001b[0m\u001b[0m\n\u001b[0;32m-> 1860\u001b[0;31m       return self._build_call_outputs(self._inference_function.call(\n\u001b[0m\u001b[1;32m   1861\u001b[0m           ctx, args, cancellation_manager=cancellation_manager))\n\u001b[1;32m   1862\u001b[0m     forward_backward = self._select_forward_and_backward_functions(\n",
            "\u001b[0;32m/usr/local/lib/python3.8/dist-packages/tensorflow/python/eager/function.py\u001b[0m in \u001b[0;36mcall\u001b[0;34m(self, ctx, args, cancellation_manager)\u001b[0m\n\u001b[1;32m    495\u001b[0m       \u001b[0;32mwith\u001b[0m \u001b[0m_InterpolateFunctionError\u001b[0m\u001b[0;34m(\u001b[0m\u001b[0mself\u001b[0m\u001b[0;34m)\u001b[0m\u001b[0;34m:\u001b[0m\u001b[0;34m\u001b[0m\u001b[0;34m\u001b[0m\u001b[0m\n\u001b[1;32m    496\u001b[0m         \u001b[0;32mif\u001b[0m \u001b[0mcancellation_manager\u001b[0m \u001b[0;32mis\u001b[0m \u001b[0;32mNone\u001b[0m\u001b[0;34m:\u001b[0m\u001b[0;34m\u001b[0m\u001b[0;34m\u001b[0m\u001b[0m\n\u001b[0;32m--> 497\u001b[0;31m           outputs = execute.execute(\n\u001b[0m\u001b[1;32m    498\u001b[0m               \u001b[0mstr\u001b[0m\u001b[0;34m(\u001b[0m\u001b[0mself\u001b[0m\u001b[0;34m.\u001b[0m\u001b[0msignature\u001b[0m\u001b[0;34m.\u001b[0m\u001b[0mname\u001b[0m\u001b[0;34m)\u001b[0m\u001b[0;34m,\u001b[0m\u001b[0;34m\u001b[0m\u001b[0;34m\u001b[0m\u001b[0m\n\u001b[1;32m    499\u001b[0m               \u001b[0mnum_outputs\u001b[0m\u001b[0;34m=\u001b[0m\u001b[0mself\u001b[0m\u001b[0;34m.\u001b[0m\u001b[0m_num_outputs\u001b[0m\u001b[0;34m,\u001b[0m\u001b[0;34m\u001b[0m\u001b[0;34m\u001b[0m\u001b[0m\n",
            "\u001b[0;32m/usr/local/lib/python3.8/dist-packages/tensorflow/python/eager/execute.py\u001b[0m in \u001b[0;36mquick_execute\u001b[0;34m(op_name, num_outputs, inputs, attrs, ctx, name)\u001b[0m\n\u001b[1;32m     52\u001b[0m   \u001b[0;32mtry\u001b[0m\u001b[0;34m:\u001b[0m\u001b[0;34m\u001b[0m\u001b[0;34m\u001b[0m\u001b[0m\n\u001b[1;32m     53\u001b[0m     \u001b[0mctx\u001b[0m\u001b[0;34m.\u001b[0m\u001b[0mensure_initialized\u001b[0m\u001b[0;34m(\u001b[0m\u001b[0;34m)\u001b[0m\u001b[0;34m\u001b[0m\u001b[0;34m\u001b[0m\u001b[0m\n\u001b[0;32m---> 54\u001b[0;31m     tensors = pywrap_tfe.TFE_Py_Execute(ctx._handle, device_name, op_name,\n\u001b[0m\u001b[1;32m     55\u001b[0m                                         inputs, attrs, num_outputs)\n\u001b[1;32m     56\u001b[0m   \u001b[0;32mexcept\u001b[0m \u001b[0mcore\u001b[0m\u001b[0;34m.\u001b[0m\u001b[0m_NotOkStatusException\u001b[0m \u001b[0;32mas\u001b[0m \u001b[0me\u001b[0m\u001b[0;34m:\u001b[0m\u001b[0;34m\u001b[0m\u001b[0;34m\u001b[0m\u001b[0m\n",
            "\u001b[0;31mKeyboardInterrupt\u001b[0m: "
          ]
        }
      ]
    },
    {
      "cell_type": "code",
      "source": [
        "# 훈련 손실과 검증 손실 그래프\n",
        "plt.plot(history.history['loss'])\n",
        "plt.plot(history.history['val_loss'])\n",
        "plt.xlabel('epoch')\n",
        "plt.ylabel('loss')\n",
        "plt.legend(['train', 'val'])\n",
        "plt.show()"
      ],
      "metadata": {
        "id": "RwkaSzmBZGtx"
      },
      "execution_count": null,
      "outputs": []
    }
  ]
}