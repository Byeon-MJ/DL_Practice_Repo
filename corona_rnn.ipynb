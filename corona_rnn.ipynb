{
  "cells": [
    {
      "cell_type": "markdown",
      "metadata": {
        "id": "view-in-github",
        "colab_type": "text"
      },
      "source": [
        "<a href=\"https://colab.research.google.com/github/Byeon-MJ/EveryOnes_AI_DL/blob/main/corona_rnn.ipynb\" target=\"_parent\"><img src=\"https://colab.research.google.com/assets/colab-badge.svg\" alt=\"Open In Colab\"/></a>"
      ]
    },
    {
      "cell_type": "code",
      "execution_count": null,
      "id": "14c6b172",
      "metadata": {
        "ExecuteTime": {
          "end_time": "2022-10-15T07:08:21.493461Z",
          "start_time": "2022-10-15T07:08:17.733107Z"
        },
        "id": "14c6b172"
      },
      "outputs": [],
      "source": [
        "from keras.models import Sequential\n",
        "from keras.layers import SimpleRNN, Dense\n",
        "from sklearn.preprocessing import MinMaxScaler\n",
        "from sklearn.metrics import mean_squared_error\n",
        "from sklearn.model_selection import train_test_split\n",
        "import math\n",
        "import numpy as np\n",
        "import matplotlib.pyplot as plt\n",
        "from pandas import read_csv"
      ]
    },
    {
      "cell_type": "code",
      "execution_count": null,
      "id": "c6d4850a",
      "metadata": {
        "ExecuteTime": {
          "end_time": "2022-10-15T07:08:22.439767Z",
          "start_time": "2022-10-15T07:08:21.494462Z"
        },
        "id": "c6d4850a",
        "outputId": "55110463-9ab8-46dc-fb54-84ee5f2e0d1a"
      },
      "outputs": [
        {
          "name": "stderr",
          "output_type": "stream",
          "text": [
            "Cloning into 'deeplearning'...\n"
          ]
        }
      ],
      "source": [
        "%rmdir /s /q deeplearning \n",
        "!git clone https://github.com/yhlee1627/deeplearning.git"
      ]
    },
    {
      "cell_type": "code",
      "execution_count": null,
      "id": "d07354fd",
      "metadata": {
        "ExecuteTime": {
          "end_time": "2022-10-15T07:08:22.455301Z",
          "start_time": "2022-10-15T07:08:22.441390Z"
        },
        "id": "d07354fd"
      },
      "outputs": [],
      "source": [
        "import os"
      ]
    },
    {
      "cell_type": "code",
      "execution_count": null,
      "id": "f3a50668",
      "metadata": {
        "ExecuteTime": {
          "end_time": "2022-10-15T07:08:22.470900Z",
          "start_time": "2022-10-15T07:08:22.456300Z"
        },
        "id": "f3a50668",
        "outputId": "c6a77abc-29e2-474b-8b3b-8b3a9c96ed24"
      },
      "outputs": [
        {
          "name": "stdout",
          "output_type": "stream",
          "text": [
            "C:\\Users\\MJ\\Desktop\\My Study\\모두의 인공지능 with Python\\code\n"
          ]
        }
      ],
      "source": [
        "path = os.getcwd()\n",
        "print(path)"
      ]
    },
    {
      "cell_type": "code",
      "execution_count": null,
      "id": "066f13cc",
      "metadata": {
        "ExecuteTime": {
          "end_time": "2022-10-15T07:08:22.486039Z",
          "start_time": "2022-10-15T07:08:22.471901Z"
        },
        "id": "066f13cc",
        "outputId": "702f3803-cea1-4f1b-aa06-7dcf85933441"
      },
      "outputs": [
        {
          "name": "stdout",
          "output_type": "stream",
          "text": [
            "     Confirmed\n",
            "0           24\n",
            "1           24\n",
            "2           27\n",
            "3           27\n",
            "4           28\n",
            "..         ...\n",
            "107      11190\n",
            "108      11206\n",
            "109      11225\n",
            "110      11265\n",
            "111      11344\n",
            "\n",
            "[112 rows x 1 columns]\n"
          ]
        }
      ],
      "source": [
        "dataframe = read_csv(path+'/deeplearning/corona_daily.csv', usecols=[3], engine='python', skipfooter=3)\n",
        "print(dataframe)"
      ]
    },
    {
      "cell_type": "code",
      "execution_count": null,
      "id": "6b52cada",
      "metadata": {
        "ExecuteTime": {
          "end_time": "2022-10-15T07:08:22.501006Z",
          "start_time": "2022-10-15T07:08:22.487039Z"
        },
        "id": "6b52cada"
      },
      "outputs": [],
      "source": [
        "dataset = dataframe.values\n",
        "dataset = dataset.astype('float32')"
      ]
    },
    {
      "cell_type": "code",
      "execution_count": null,
      "id": "a8b8fa07",
      "metadata": {
        "ExecuteTime": {
          "end_time": "2022-10-15T07:08:22.516040Z",
          "start_time": "2022-10-15T07:08:22.503008Z"
        },
        "id": "a8b8fa07",
        "outputId": "1f0c2f99-a569-423a-ba3f-ee6fdf6d5490"
      },
      "outputs": [
        {
          "name": "stdout",
          "output_type": "stream",
          "text": [
            "[[   24.]\n",
            " [   24.]\n",
            " [   27.]\n",
            " [   27.]\n",
            " [   28.]\n",
            " [   28.]\n",
            " [   28.]\n",
            " [   28.]\n",
            " [   28.]\n",
            " [   29.]\n",
            " [   30.]\n",
            " [   31.]\n",
            " [   51.]\n",
            " [  104.]\n",
            " [  204.]\n",
            " [  433.]\n",
            " [  602.]\n",
            " [  833.]\n",
            " [  977.]\n",
            " [ 1261.]\n",
            " [ 1766.]\n",
            " [ 2337.]\n",
            " [ 3150.]\n",
            " [ 3736.]\n",
            " [ 4212.]\n",
            " [ 4812.]\n",
            " [ 5328.]\n",
            " [ 5766.]\n",
            " [ 6284.]\n",
            " [ 6767.]\n",
            " [ 7134.]\n",
            " [ 7382.]\n",
            " [ 7513.]\n",
            " [ 7755.]\n",
            " [ 7869.]\n",
            " [ 7979.]\n",
            " [ 8086.]\n",
            " [ 8162.]\n",
            " [ 8236.]\n",
            " [ 8320.]\n",
            " [ 8413.]\n",
            " [ 8565.]\n",
            " [ 8652.]\n",
            " [ 8799.]\n",
            " [ 8897.]\n",
            " [ 8961.]\n",
            " [ 9037.]\n",
            " [ 9137.]\n",
            " [ 9241.]\n",
            " [ 9332.]\n",
            " [ 9478.]\n",
            " [ 9583.]\n",
            " [ 9661.]\n",
            " [ 9786.]\n",
            " [ 9887.]\n",
            " [ 9976.]\n",
            " [10062.]\n",
            " [10156.]\n",
            " [10237.]\n",
            " [10284.]\n",
            " [10331.]\n",
            " [10384.]\n",
            " [10423.]\n",
            " [10450.]\n",
            " [10480.]\n",
            " [10512.]\n",
            " [10537.]\n",
            " [10564.]\n",
            " [10591.]\n",
            " [10613.]\n",
            " [10635.]\n",
            " [10653.]\n",
            " [10661.]\n",
            " [10674.]\n",
            " [10683.]\n",
            " [10694.]\n",
            " [10702.]\n",
            " [10708.]\n",
            " [10718.]\n",
            " [10728.]\n",
            " [10738.]\n",
            " [10752.]\n",
            " [10761.]\n",
            " [10765.]\n",
            " [10774.]\n",
            " [10780.]\n",
            " [10793.]\n",
            " [10801.]\n",
            " [10804.]\n",
            " [10806.]\n",
            " [10810.]\n",
            " [10822.]\n",
            " [10840.]\n",
            " [10874.]\n",
            " [10909.]\n",
            " [10936.]\n",
            " [10962.]\n",
            " [10991.]\n",
            " [11018.]\n",
            " [11037.]\n",
            " [11050.]\n",
            " [11065.]\n",
            " [11078.]\n",
            " [11110.]\n",
            " [11122.]\n",
            " [11142.]\n",
            " [11165.]\n",
            " [11190.]\n",
            " [11206.]\n",
            " [11225.]\n",
            " [11265.]\n",
            " [11344.]]\n"
          ]
        }
      ],
      "source": [
        "print(dataset)"
      ]
    },
    {
      "cell_type": "markdown",
      "id": "bb696679",
      "metadata": {
        "id": "bb696679"
      },
      "source": [
        "### 데이터 정규화 및 분류"
      ]
    },
    {
      "cell_type": "code",
      "execution_count": null,
      "id": "0a3635a4",
      "metadata": {
        "ExecuteTime": {
          "end_time": "2022-10-15T07:08:22.531006Z",
          "start_time": "2022-10-15T07:08:22.517041Z"
        },
        "id": "0a3635a4",
        "outputId": "f2dfb35a-bc99-41a7-91be-ffb6ed977282"
      },
      "outputs": [
        {
          "name": "stdout",
          "output_type": "stream",
          "text": [
            "89 23\n"
          ]
        }
      ],
      "source": [
        "scaler = MinMaxScaler(feature_range=(0, 1))\n",
        "Dataset = scaler.fit_transform(dataset)\n",
        "train_data, test_data = train_test_split(Dataset, test_size=0.2, shuffle=False)\n",
        "print(len(train_data), len(test_data))"
      ]
    },
    {
      "cell_type": "markdown",
      "id": "721a06c3",
      "metadata": {
        "id": "721a06c3"
      },
      "source": [
        "### 데이터 형태 변형"
      ]
    },
    {
      "cell_type": "code",
      "execution_count": null,
      "id": "f185fab8",
      "metadata": {
        "ExecuteTime": {
          "end_time": "2022-10-15T07:08:22.545972Z",
          "start_time": "2022-10-15T07:08:22.532006Z"
        },
        "id": "f185fab8"
      },
      "outputs": [],
      "source": [
        "def create_dataset(dataset, look_back):\n",
        "    x_data = []\n",
        "    y_data = []\n",
        "    for i in range(len(dataset) - look_back - 1):\n",
        "        x_data.append(dataset[i:(i + look_back), 0])\n",
        "        y_data.append(dataset[i + look_back, 0])\n",
        "    return np.array(x_data), np.array(y_data)"
      ]
    },
    {
      "cell_type": "code",
      "execution_count": null,
      "id": "e9828b99",
      "metadata": {
        "ExecuteTime": {
          "end_time": "2022-10-15T07:08:22.560991Z",
          "start_time": "2022-10-15T07:08:22.546973Z"
        },
        "id": "e9828b99"
      },
      "outputs": [],
      "source": [
        "look_back = 3\n",
        "x_train, y_train = create_dataset(train_data, look_back)\n",
        "x_test, y_test = create_dataset(test_data, look_back)"
      ]
    },
    {
      "cell_type": "code",
      "execution_count": null,
      "id": "15629a19",
      "metadata": {
        "ExecuteTime": {
          "end_time": "2022-10-15T07:08:22.576005Z",
          "start_time": "2022-10-15T07:08:22.561992Z"
        },
        "id": "15629a19",
        "outputId": "fb5931c9-01ac-4a77-a16b-f192e8d7f38d"
      },
      "outputs": [
        {
          "name": "stdout",
          "output_type": "stream",
          "text": [
            "(85, 3) (85,)\n",
            "(19, 3) (19,)\n"
          ]
        }
      ],
      "source": [
        "print(x_train.shape, y_train.shape)\n",
        "print(x_test.shape, y_test.shape)"
      ]
    },
    {
      "cell_type": "code",
      "execution_count": null,
      "id": "54832d59",
      "metadata": {
        "ExecuteTime": {
          "end_time": "2022-10-15T07:08:22.591569Z",
          "start_time": "2022-10-15T07:08:22.577005Z"
        },
        "id": "54832d59"
      },
      "outputs": [],
      "source": [
        "X_train = np.reshape(x_train, (x_train.shape[0], 1, x_train.shape[1]))\n",
        "X_test = np.reshape(x_test, (x_test.shape[0], 1, x_test.shape[1]))"
      ]
    },
    {
      "cell_type": "code",
      "execution_count": null,
      "id": "1ffb8151",
      "metadata": {
        "ExecuteTime": {
          "end_time": "2022-10-15T07:08:22.606625Z",
          "start_time": "2022-10-15T07:08:22.592569Z"
        },
        "id": "1ffb8151",
        "outputId": "0bef71e1-c926-4f06-c95d-fddc2e83baf0"
      },
      "outputs": [
        {
          "name": "stdout",
          "output_type": "stream",
          "text": [
            "(85, 1, 3)\n",
            "(19, 1, 3)\n"
          ]
        }
      ],
      "source": [
        "print(X_train.shape)\n",
        "print(X_test.shape)"
      ]
    },
    {
      "cell_type": "markdown",
      "id": "8bb8cbeb",
      "metadata": {
        "id": "8bb8cbeb"
      },
      "source": [
        "### 모델 생성"
      ]
    },
    {
      "cell_type": "code",
      "execution_count": null,
      "id": "a42563c7",
      "metadata": {
        "ExecuteTime": {
          "end_time": "2022-10-15T07:08:22.848096Z",
          "start_time": "2022-10-15T07:08:22.607626Z"
        },
        "id": "a42563c7",
        "outputId": "137a0d05-41b0-4d30-f58e-add2ee96197d"
      },
      "outputs": [
        {
          "name": "stdout",
          "output_type": "stream",
          "text": [
            "Model: \"sequential\"\n",
            "_________________________________________________________________\n",
            " Layer (type)                Output Shape              Param #   \n",
            "=================================================================\n",
            " simple_rnn (SimpleRNN)      (None, 3)                 21        \n",
            "                                                                 \n",
            " dense (Dense)               (None, 1)                 4         \n",
            "                                                                 \n",
            "=================================================================\n",
            "Total params: 25\n",
            "Trainable params: 25\n",
            "Non-trainable params: 0\n",
            "_________________________________________________________________\n"
          ]
        }
      ],
      "source": [
        "model = Sequential()\n",
        "model.add(SimpleRNN(3, input_shape = (1, look_back)))\n",
        "model.add(Dense(1, activation = 'linear'))\n",
        "model.compile(loss='mse', optimizer='adam')\n",
        "model.summary()"
      ]
    },
    {
      "cell_type": "markdown",
      "id": "e03888c2",
      "metadata": {
        "id": "e03888c2"
      },
      "source": [
        "### 모델 학습"
      ]
    },
    {
      "cell_type": "code",
      "execution_count": null,
      "id": "8001d197",
      "metadata": {
        "ExecuteTime": {
          "end_time": "2022-10-15T07:08:27.267911Z",
          "start_time": "2022-10-15T07:08:22.849097Z"
        },
        "id": "8001d197",
        "outputId": "82a2d36f-8bf9-48a9-f982-16dceac8bd36"
      },
      "outputs": [
        {
          "name": "stdout",
          "output_type": "stream",
          "text": [
            "Epoch 1/100\n",
            "85/85 [==============================] - 0s 468us/step - loss: 0.5174\n",
            "Epoch 2/100\n",
            "85/85 [==============================] - 0s 460us/step - loss: 0.1517\n",
            "Epoch 3/100\n",
            "85/85 [==============================] - 0s 452us/step - loss: 0.0582\n",
            "Epoch 4/100\n",
            "85/85 [==============================] - 0s 463us/step - loss: 0.0364\n",
            "Epoch 5/100\n",
            "85/85 [==============================] - 0s 465us/step - loss: 0.0277\n",
            "Epoch 6/100\n",
            "85/85 [==============================] - 0s 452us/step - loss: 0.0214\n",
            "Epoch 7/100\n",
            "85/85 [==============================] - 0s 452us/step - loss: 0.0163\n",
            "Epoch 8/100\n",
            "85/85 [==============================] - 0s 456us/step - loss: 0.0122\n",
            "Epoch 9/100\n",
            "85/85 [==============================] - 0s 466us/step - loss: 0.0089\n",
            "Epoch 10/100\n",
            "85/85 [==============================] - 0s 464us/step - loss: 0.0064\n",
            "Epoch 11/100\n",
            "85/85 [==============================] - 0s 477us/step - loss: 0.0046\n",
            "Epoch 12/100\n",
            "85/85 [==============================] - 0s 457us/step - loss: 0.0033\n",
            "Epoch 13/100\n",
            "85/85 [==============================] - 0s 465us/step - loss: 0.0024\n",
            "Epoch 14/100\n",
            "85/85 [==============================] - 0s 489us/step - loss: 0.0017\n",
            "Epoch 15/100\n",
            "85/85 [==============================] - 0s 474us/step - loss: 0.0014\n",
            "Epoch 16/100\n",
            "85/85 [==============================] - 0s 488us/step - loss: 0.0011\n",
            "Epoch 17/100\n",
            "85/85 [==============================] - 0s 454us/step - loss: 9.2177e-04\n",
            "Epoch 18/100\n",
            "85/85 [==============================] - 0s 452us/step - loss: 8.5039e-04\n",
            "Epoch 19/100\n",
            "85/85 [==============================] - 0s 451us/step - loss: 7.9485e-04\n",
            "Epoch 20/100\n",
            "85/85 [==============================] - 0s 456us/step - loss: 7.6081e-04\n",
            "Epoch 21/100\n",
            "85/85 [==============================] - 0s 449us/step - loss: 7.6009e-04\n",
            "Epoch 22/100\n",
            "85/85 [==============================] - 0s 464us/step - loss: 7.1366e-04\n",
            "Epoch 23/100\n",
            "85/85 [==============================] - 0s 458us/step - loss: 7.3994e-04\n",
            "Epoch 24/100\n",
            "85/85 [==============================] - 0s 447us/step - loss: 7.2111e-04\n",
            "Epoch 25/100\n",
            "85/85 [==============================] - 0s 453us/step - loss: 7.1063e-04\n",
            "Epoch 26/100\n",
            "85/85 [==============================] - 0s 440us/step - loss: 7.2139e-04\n",
            "Epoch 27/100\n",
            "85/85 [==============================] - 0s 451us/step - loss: 7.3274e-04\n",
            "Epoch 28/100\n",
            "85/85 [==============================] - 0s 467us/step - loss: 6.9724e-04\n",
            "Epoch 29/100\n",
            "85/85 [==============================] - 0s 451us/step - loss: 6.9186e-04\n",
            "Epoch 30/100\n",
            "85/85 [==============================] - 0s 467us/step - loss: 7.0032e-04\n",
            "Epoch 31/100\n",
            "85/85 [==============================] - 0s 462us/step - loss: 7.1124e-04\n",
            "Epoch 32/100\n",
            "85/85 [==============================] - 0s 453us/step - loss: 6.6553e-04\n",
            "Epoch 33/100\n",
            "85/85 [==============================] - 0s 466us/step - loss: 6.5765e-04\n",
            "Epoch 34/100\n",
            "85/85 [==============================] - 0s 453us/step - loss: 6.4316e-04\n",
            "Epoch 35/100\n",
            "85/85 [==============================] - 0s 451us/step - loss: 6.5475e-04\n",
            "Epoch 36/100\n",
            "85/85 [==============================] - 0s 455us/step - loss: 6.1676e-04\n",
            "Epoch 37/100\n",
            "85/85 [==============================] - 0s 449us/step - loss: 6.2051e-04\n",
            "Epoch 38/100\n",
            "85/85 [==============================] - 0s 455us/step - loss: 5.9327e-04\n",
            "Epoch 39/100\n",
            "85/85 [==============================] - 0s 452us/step - loss: 5.9425e-04\n",
            "Epoch 40/100\n",
            "85/85 [==============================] - 0s 452us/step - loss: 6.1637e-04\n",
            "Epoch 41/100\n",
            "85/85 [==============================] - 0s 458us/step - loss: 5.6597e-04\n",
            "Epoch 42/100\n",
            "85/85 [==============================] - 0s 458us/step - loss: 5.8922e-04\n",
            "Epoch 43/100\n",
            "85/85 [==============================] - 0s 453us/step - loss: 5.6601e-04\n",
            "Epoch 44/100\n",
            "85/85 [==============================] - 0s 454us/step - loss: 5.4016e-04\n",
            "Epoch 45/100\n",
            "85/85 [==============================] - 0s 441us/step - loss: 6.0723e-04\n",
            "Epoch 46/100\n",
            "85/85 [==============================] - 0s 452us/step - loss: 5.5994e-04\n",
            "Epoch 47/100\n",
            "85/85 [==============================] - 0s 446us/step - loss: 4.9295e-04\n",
            "Epoch 48/100\n",
            "85/85 [==============================] - 0s 459us/step - loss: 5.0710e-04\n",
            "Epoch 49/100\n",
            "85/85 [==============================] - 0s 465us/step - loss: 4.9669e-04\n",
            "Epoch 50/100\n",
            "85/85 [==============================] - 0s 452us/step - loss: 4.9820e-04\n",
            "Epoch 51/100\n",
            "85/85 [==============================] - 0s 464us/step - loss: 4.9754e-04\n",
            "Epoch 52/100\n",
            "85/85 [==============================] - 0s 453us/step - loss: 4.7957e-04\n",
            "Epoch 53/100\n",
            "85/85 [==============================] - 0s 475us/step - loss: 4.9513e-04\n",
            "Epoch 54/100\n",
            "85/85 [==============================] - 0s 452us/step - loss: 4.5953e-04\n",
            "Epoch 55/100\n",
            "85/85 [==============================] - 0s 464us/step - loss: 4.0722e-04\n",
            "Epoch 56/100\n",
            "85/85 [==============================] - 0s 465us/step - loss: 4.5318e-04\n",
            "Epoch 57/100\n",
            "85/85 [==============================] - 0s 464us/step - loss: 4.3455e-04\n",
            "Epoch 58/100\n",
            "85/85 [==============================] - 0s 471us/step - loss: 4.1340e-04\n",
            "Epoch 59/100\n",
            "85/85 [==============================] - 0s 457us/step - loss: 4.0525e-04\n",
            "Epoch 60/100\n",
            "85/85 [==============================] - 0s 465us/step - loss: 4.2892e-04\n",
            "Epoch 61/100\n",
            "85/85 [==============================] - 0s 452us/step - loss: 4.0914e-04\n",
            "Epoch 62/100\n",
            "85/85 [==============================] - 0s 464us/step - loss: 3.5904e-04\n",
            "Epoch 63/100\n",
            "85/85 [==============================] - 0s 463us/step - loss: 3.8048e-04\n",
            "Epoch 64/100\n",
            "85/85 [==============================] - 0s 467us/step - loss: 4.0514e-04\n",
            "Epoch 65/100\n",
            "85/85 [==============================] - 0s 471us/step - loss: 3.0754e-04\n",
            "Epoch 66/100\n",
            "85/85 [==============================] - 0s 465us/step - loss: 3.8020e-04\n",
            "Epoch 67/100\n",
            "85/85 [==============================] - 0s 464us/step - loss: 3.1977e-04\n",
            "Epoch 68/100\n",
            "85/85 [==============================] - 0s 470us/step - loss: 3.3048e-04\n",
            "Epoch 69/100\n",
            "85/85 [==============================] - 0s 470us/step - loss: 3.0325e-04\n",
            "Epoch 70/100\n",
            "85/85 [==============================] - 0s 460us/step - loss: 3.3000e-04\n",
            "Epoch 71/100\n",
            "85/85 [==============================] - 0s 447us/step - loss: 2.8719e-04\n",
            "Epoch 72/100\n",
            "85/85 [==============================] - 0s 481us/step - loss: 2.7484e-04\n",
            "Epoch 73/100\n",
            "85/85 [==============================] - 0s 452us/step - loss: 2.8426e-04\n",
            "Epoch 74/100\n",
            "85/85 [==============================] - 0s 460us/step - loss: 2.6285e-04\n",
            "Epoch 75/100\n",
            "85/85 [==============================] - 0s 456us/step - loss: 2.6851e-04\n",
            "Epoch 76/100\n",
            "85/85 [==============================] - 0s 458us/step - loss: 2.6141e-04\n",
            "Epoch 77/100\n",
            "85/85 [==============================] - 0s 460us/step - loss: 2.6962e-04\n",
            "Epoch 78/100\n",
            "85/85 [==============================] - 0s 447us/step - loss: 2.8245e-04\n",
            "Epoch 79/100\n",
            "85/85 [==============================] - 0s 481us/step - loss: 2.4881e-04\n",
            "Epoch 80/100\n",
            "85/85 [==============================] - 0s 464us/step - loss: 2.4616e-04\n",
            "Epoch 81/100\n",
            "85/85 [==============================] - 0s 447us/step - loss: 2.2671e-04\n",
            "Epoch 82/100\n",
            "85/85 [==============================] - 0s 453us/step - loss: 2.4580e-04\n",
            "Epoch 83/100\n",
            "85/85 [==============================] - 0s 452us/step - loss: 2.3101e-04\n",
            "Epoch 84/100\n",
            "85/85 [==============================] - 0s 477us/step - loss: 2.3420e-04\n",
            "Epoch 85/100\n",
            "85/85 [==============================] - 0s 452us/step - loss: 2.2343e-04\n",
            "Epoch 86/100\n",
            "85/85 [==============================] - 0s 482us/step - loss: 2.1268e-04\n",
            "Epoch 87/100\n",
            "85/85 [==============================] - 0s 464us/step - loss: 2.1101e-04\n",
            "Epoch 88/100\n",
            "85/85 [==============================] - 0s 472us/step - loss: 2.0292e-04\n",
            "Epoch 89/100\n",
            "85/85 [==============================] - 0s 462us/step - loss: 2.0036e-04\n",
            "Epoch 90/100\n",
            "85/85 [==============================] - 0s 452us/step - loss: 1.9845e-04\n",
            "Epoch 91/100\n",
            "85/85 [==============================] - 0s 469us/step - loss: 2.0161e-04\n",
            "Epoch 92/100\n",
            "85/85 [==============================] - 0s 449us/step - loss: 1.8157e-04\n",
            "Epoch 93/100\n",
            "85/85 [==============================] - 0s 451us/step - loss: 2.0523e-04\n",
            "Epoch 94/100\n",
            "85/85 [==============================] - 0s 452us/step - loss: 2.2003e-04\n",
            "Epoch 95/100\n",
            "85/85 [==============================] - 0s 441us/step - loss: 1.6538e-04\n",
            "Epoch 96/100\n"
          ]
        },
        {
          "name": "stdout",
          "output_type": "stream",
          "text": [
            "85/85 [==============================] - 0s 455us/step - loss: 1.8286e-04\n",
            "Epoch 97/100\n",
            "85/85 [==============================] - 0s 449us/step - loss: 1.6338e-04\n",
            "Epoch 98/100\n",
            "85/85 [==============================] - 0s 452us/step - loss: 1.7156e-04\n",
            "Epoch 99/100\n",
            "85/85 [==============================] - 0s 440us/step - loss: 1.5988e-04\n",
            "Epoch 100/100\n",
            "85/85 [==============================] - 0s 452us/step - loss: 1.6710e-04\n"
          ]
        },
        {
          "data": {
            "text/plain": [
              "<keras.callbacks.History at 0x218a1868130>"
            ]
          },
          "execution_count": 15,
          "metadata": {},
          "output_type": "execute_result"
        }
      ],
      "source": [
        "model.fit(X_train, y_train, epochs=100, batch_size=1, verbose=1)"
      ]
    },
    {
      "cell_type": "markdown",
      "id": "a3ddcf94",
      "metadata": {
        "id": "a3ddcf94"
      },
      "source": [
        "### 데이터 예측"
      ]
    },
    {
      "cell_type": "code",
      "execution_count": null,
      "id": "2fd0161b",
      "metadata": {
        "ExecuteTime": {
          "end_time": "2022-10-15T07:08:27.418991Z",
          "start_time": "2022-10-15T07:08:27.268913Z"
        },
        "id": "2fd0161b"
      },
      "outputs": [],
      "source": [
        "trainPredict = model.predict(X_train)\n",
        "testPredict = model.predict(X_test)\n",
        "TrainPredict = scaler.inverse_transform(trainPredict)\n",
        "Y_train = scaler.inverse_transform([y_train])\n",
        "TestPredict = scaler.inverse_transform(testPredict)\n",
        "Y_test = scaler.inverse_transform([y_test])"
      ]
    },
    {
      "cell_type": "code",
      "execution_count": null,
      "id": "f359c641",
      "metadata": {
        "ExecuteTime": {
          "end_time": "2022-10-15T07:08:27.433984Z",
          "start_time": "2022-10-15T07:08:27.419991Z"
        },
        "id": "f359c641",
        "outputId": "55a38f1d-f1aa-4b8f-bdb9-83bfff73cd8f"
      },
      "outputs": [
        {
          "name": "stdout",
          "output_type": "stream",
          "text": [
            "Train Score : 132.44 RMSE\n",
            "Test Score : 185.57 RMSE\n"
          ]
        }
      ],
      "source": [
        "trainScore = math.sqrt(mean_squared_error(Y_train[0], TrainPredict[:,0]))\n",
        "print('Train Score : %.2f RMSE' % (trainScore))\n",
        "testScore = math.sqrt(mean_squared_error(Y_test[0], TestPredict[:,0]))\n",
        "print('Test Score : %.2f RMSE' % (testScore))"
      ]
    },
    {
      "cell_type": "markdown",
      "id": "80c51446",
      "metadata": {
        "id": "80c51446"
      },
      "source": [
        "### 결과 그래프 확인"
      ]
    },
    {
      "cell_type": "code",
      "execution_count": null,
      "id": "6cc9b2b7",
      "metadata": {
        "ExecuteTime": {
          "end_time": "2022-10-15T07:08:27.449001Z",
          "start_time": "2022-10-15T07:08:27.434985Z"
        },
        "id": "6cc9b2b7"
      },
      "outputs": [],
      "source": [
        "trainPredictPlot = np.empty_like(dataset)\n",
        "trainPredictPlot[:, :] = np.nan\n",
        "trainPredictPlot[look_back:len(TrainPredict) + look_back, :] = TrainPredict"
      ]
    },
    {
      "cell_type": "code",
      "execution_count": null,
      "id": "e753fe5c",
      "metadata": {
        "ExecuteTime": {
          "end_time": "2022-10-15T07:09:40.426960Z",
          "start_time": "2022-10-15T07:09:40.409878Z"
        },
        "id": "e753fe5c"
      },
      "outputs": [],
      "source": [
        "testPredictPlot = np.empty_like(dataset)\n",
        "testPredictPlot[:, :] = np.nan\n",
        "testPredictPlot[len(TrainPredict)+(look_back+1)*2:len(dataset), :] = TestPredict"
      ]
    },
    {
      "cell_type": "code",
      "execution_count": null,
      "id": "c694178a",
      "metadata": {
        "ExecuteTime": {
          "end_time": "2022-10-15T07:11:03.817961Z",
          "start_time": "2022-10-15T07:11:03.702495Z"
        },
        "id": "c694178a",
        "outputId": "b5d2b273-1141-40a4-d3d7-9b7f5348636e"
      },
      "outputs": [
        {
          "data": {
            "image/png": "[encoded data removed]",
            "text/plain": [
              "<Figure size 432x288 with 1 Axes>"
            ]
          },
          "metadata": {
            "needs_background": "light"
          },
          "output_type": "display_data"
        }
      ],
      "source": [
        "plt.plot(dataset)\n",
        "plt.plot(trainPredictPlot)\n",
        "plt.plot(testPredictPlot)\n",
        "plt.show()"
      ]
    },
    {
      "cell_type": "code",
      "execution_count": null,
      "id": "bbc03afe",
      "metadata": {
        "id": "bbc03afe"
      },
      "outputs": [],
      "source": []
    }
  ],
  "metadata": {
    "kernelspec": {
      "display_name": "Python 3",
      "language": "python",
      "name": "python3"
    },
    "language_info": {
      "codemirror_mode": {
        "name": "ipython",
        "version": 3
      },
      "file_extension": ".py",
      "mimetype": "text/x-python",
      "name": "python",
      "nbconvert_exporter": "python",
      "pygments_lexer": "ipython3",
      "version": "3.8.8"
    },
    "latex_envs": {
      "LaTeX_envs_menu_present": true,
      "autoclose": false,
      "autocomplete": true,
      "bibliofile": "biblio.bib",
      "cite_by": "apalike",
      "current_citInitial": 1,
      "eqLabelWithNumbers": true,
      "eqNumInitial": 1,
      "hotkeys": {
        "equation": "Ctrl-E",
        "itemize": "Ctrl-I"
      },
      "labels_anchors": false,
      "latex_user_defs": false,
      "report_style_numbering": false,
      "user_envs_cfg": false
    },
    "toc": {
      "base_numbering": 1,
      "nav_menu": {},
      "number_sections": true,
      "sideBar": true,
      "skip_h1_title": false,
      "title_cell": "Table of Contents",
      "title_sidebar": "Contents",
      "toc_cell": false,
      "toc_position": {},
      "toc_section_display": true,
      "toc_window_display": false
    },
    "colab": {
      "provenance": [],
      "include_colab_link": true
    }
  },
  "nbformat": 4,
  "nbformat_minor": 5
}